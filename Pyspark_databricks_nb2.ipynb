{
 "cells": [
  {
   "cell_type": "code",
   "execution_count": 0,
   "metadata": {
    "application/vnd.databricks.v1+cell": {
     "cellMetadata": {},
     "inputWidgets": {},
     "nuid": "cf8b4e3d-1ec2-4302-b17a-b4e008ac9cce",
     "showTitle": true,
     "title": "Cargando data al DBFS"
    }
   },
   "outputs": [],
   "source": [
    "#Invocar a la librería que me da el formato del archivo\n",
    "from pyspark.sql.types import *\n",
    "\n",
    "#Ruta donde esta el archivo\n",
    "path = \"/FileStore/tables/data_test.txt\"\n",
    "\n",
    "#Definir los tipos de dato de cada campo\n",
    "schema = StructType([\\\n",
    "                     StructField(\"ID\",IntegerType(),True), \\\n",
    "                     StructField(\"ID2\",IntegerType(),True), \\\n",
    "                     StructField(\"NIVEL_EDUCATIVO\",StringType(),True), \\\n",
    "                     StructField(\"SEXO\",StringType(),True), \\\n",
    "                     StructField(\"CATEGORIA_EMPLEO\",StringType(),True), \\\n",
    "                     StructField(\"EXPERIENCIA_LABORAL\",IntegerType(),True), \\\n",
    "                     StructField(\"ESTADO_CIVIL\",StringType(),True), \\\n",
    "                     StructField(\"EDAD\",IntegerType(),True), \\\n",
    "                     StructField(\"UTILIZACION_TARJETAS\",IntegerType(),True), \\\n",
    "                     StructField(\"NUMERO_ENTIDADES\",StringType(),True), \\\n",
    "                     StructField(\"DEFAULT\",IntegerType(),True), \\\n",
    "                     StructField(\"NUM_ENT_W\",FloatType(),True), \\\n",
    "                     StructField(\"EDUC_W\",FloatType(),True), \\\n",
    "                     StructField(\"EXP_LAB_W\",FloatType(),True), \\\n",
    "                     StructField(\"EDAD_W\",FloatType(),True), \\\n",
    "                     StructField(\"UTIL_TC_W\",FloatType(),True), \\\n",
    "                     StructField(\"PD\",FloatType(),True), \\\n",
    "                     StructField(\"RPD\",FloatType(),True), \\\n",
    "                  ])\n",
    "\n",
    "df_test =spark.read.option(\"header\",True).option(\"encoding\", \"ISO-8859-1\").schema(schema).csv(path,sep=\" \")"
   ]
  },
  {
   "cell_type": "code",
   "execution_count": 0,
   "metadata": {
    "application/vnd.databricks.v1+cell": {
     "cellMetadata": {},
     "inputWidgets": {},
     "nuid": "375679ec-dcb5-47a8-9be3-5d71c2616c75",
     "showTitle": false,
     "title": ""
    }
   },
   "outputs": [],
   "source": [
    "df_test_adjust = df_test.drop(\"ID2\")\n",
    "df_test.display()"
   ]
  },
  {
   "cell_type": "code",
   "execution_count": 0,
   "metadata": {
    "application/vnd.databricks.v1+cell": {
     "cellMetadata": {},
     "inputWidgets": {},
     "nuid": "85969297-b415-40f0-8f60-c2ca7220a261",
     "showTitle": true,
     "title": "Invocando a otras librerías de SQL"
    }
   },
   "outputs": [],
   "source": [
    "from pyspark.sql import SQLContext\n",
    "\n",
    "#Inicializar la instancia de SQL Context\n",
    "\n",
    "#Al moomento de trabajar fuera de databricks es necesario inicializarlo (para el servicio de spark)\n",
    "sc = spark.sparkContext\n",
    "sqlContext = SQLContext(sc)"
   ]
  },
  {
   "cell_type": "code",
   "execution_count": 0,
   "metadata": {
    "application/vnd.databricks.v1+cell": {
     "cellMetadata": {},
     "inputWidgets": {},
     "nuid": "faca3066-45b2-4a7c-93e4-5bae560de3a7",
     "showTitle": true,
     "title": "Probando un query en sqlContext"
    }
   },
   "outputs": [],
   "source": [
    "sqlContext.registerDataFrameAsTable(df_test_adjust,\"df_test_adjust\") # -> el segundo parametro solo es el nombre de la tabla\n",
    "\n",
    "#Se registrará el df como una tabla para poder realizar consultas SQL, que viene instanciado de la clase sqlContext\n",
    "#Luego de instanciar la clase de SQLContext, podemosregistrarlo como si fuera una tabla bd relacional\n",
    "\n"
   ]
  },
  {
   "cell_type": "code",
   "execution_count": 0,
   "metadata": {
    "application/vnd.databricks.v1+cell": {
     "cellMetadata": {},
     "inputWidgets": {},
     "nuid": "5a588188-c61f-41b1-87af-22f1f5a7a38b",
     "showTitle": false,
     "title": ""
    }
   },
   "outputs": [],
   "source": [
    "sqlContext.sql(\"select  count(*) from df_test_adjust\").show()"
   ]
  },
  {
   "cell_type": "code",
   "execution_count": 0,
   "metadata": {
    "application/vnd.databricks.v1+cell": {
     "cellMetadata": {},
     "inputWidgets": {},
     "nuid": "1cf7da8d-cf9e-44a2-b157-5cf67655c265",
     "showTitle": false,
     "title": ""
    }
   },
   "outputs": [],
   "source": [
    "sqlContext.sql(\"select * from df_test_adjust\").show()"
   ]
  },
  {
   "cell_type": "code",
   "execution_count": 0,
   "metadata": {
    "application/vnd.databricks.v1+cell": {
     "cellMetadata": {},
     "inputWidgets": {},
     "nuid": "0f237bb7-6eb3-4f90-8272-92e5953deb94",
     "showTitle": true,
     "title": "Agrupaciones"
    }
   },
   "outputs": [],
   "source": [
    "sqlContext.sql(\"select NIVEL_EDUCATIVO, count(*) from df_test_Adjust group by NIVEL_EDUCATIVO\").display()"
   ]
  },
  {
   "cell_type": "code",
   "execution_count": 0,
   "metadata": {
    "application/vnd.databricks.v1+cell": {
     "cellMetadata": {},
     "inputWidgets": {},
     "nuid": "4099d558-419e-4f9b-bce3-c8ce4d63ff65",
     "showTitle": false,
     "title": ""
    }
   },
   "outputs": [],
   "source": [
    "sqlContext.sql(\"select \" +\n",
    "              \"NIVEL_EDUCATIVO, AVG(EDAD),count(*) as TOTAL \" +\n",
    "               \"from \" +\n",
    "               \"df_test_Adjust \" +\n",
    "               \"group by \" +\n",
    "               \"NIVEL_EDUCATIVO \" +\n",
    "               \"order by TOTAL desc\"\n",
    "              ).display()"
   ]
  },
  {
   "cell_type": "code",
   "execution_count": 0,
   "metadata": {
    "application/vnd.databricks.v1+cell": {
     "cellMetadata": {},
     "inputWidgets": {},
     "nuid": "7fbebd1c-7c10-4b94-810d-b9b491c61dd0",
     "showTitle": false,
     "title": ""
    }
   },
   "outputs": [],
   "source": [
    "#Ejercicio:\n",
    "#1. Elabore una consulta donde se muestre los clientes mayores de 60 años con menores probabilidade de default (los 5 primeros)\n",
    "\n",
    "sqlContext.sql(\"select \" +\n",
    "               \"ID \" +\n",
    "               \"from \" +\n",
    "               \"df_test_Adjust \" +\n",
    "               \"where \" +\n",
    "               \"EDAD > 60 \" +\n",
    "               \"order by PD asc \" +\n",
    "               \"limit 5\"\n",
    "              ).display()\n"
   ]
  },
  {
   "cell_type": "code",
   "execution_count": 0,
   "metadata": {
    "application/vnd.databricks.v1+cell": {
     "cellMetadata": {},
     "inputWidgets": {},
     "nuid": "f3a4d14c-040f-40eb-8783-1d717df6ce33",
     "showTitle": false,
     "title": ""
    }
   },
   "outputs": [],
   "source": [
    "#2. Elabore una consulta donde se indique la cantidad de solteros menores de 30 años que tienen más de 3 tarjetas de credito y tienen menor probabilidad de default (10 primeros)\n",
    "\n",
    "sqlContext.sql(\"select * \" +\n",
    "               \"from \" +\n",
    "               \"df_test_Adjust \" +\n",
    "               \"where \" +\n",
    "               \"RTRIM(LTRIM(ESTADO_CIVIL))='Soltero' AND \" +\n",
    "               \"EDAD <= 30 AND \" +\n",
    "               \"CAST(SUBSTRING(RTRIM(LTRIM(NUMERO_ENTIDADES)),1,1) AS INT) > 3 \" +\n",
    "               \"order by PD asc \" +\n",
    "               \"limit 10\"\n",
    "              ).display()\n",
    "\n",
    "\n",
    "#CAST(SUBSTRING(RTRIM(LTRIM(NUMERO_ENTIDADES)),1,1) AS INT) >3\n",
    "\n",
    "#sqlContext.sql(\" select  * from df_test_Adjust where RTRIM(LTRIM(ESTADO_CIVIL))='Soltero' AND EDAD<=30 AND CAST(SUBSTRING(RTRIM(LTRIM(NUMERO_ENTIDADES)),1,1) AS INT) >3 order by PD asc limit 10\").display()\n"
   ]
  },
  {
   "cell_type": "code",
   "execution_count": 0,
   "metadata": {
    "application/vnd.databricks.v1+cell": {
     "cellMetadata": {},
     "inputWidgets": {},
     "nuid": "d4307f9e-63bb-47c8-baba-ec100ca19691",
     "showTitle": false,
     "title": ""
    }
   },
   "outputs": [],
   "source": [
    "data_heroes = [\n",
    "   ('Batman',3),\n",
    "   ('Superman',4),\n",
    "   ('Deadpool',1),\n",
    "]\n",
    "\n",
    "data_origen = [\n",
    "   ('Humano',3),\n",
    "   ('Criptoniano',5),\n",
    "   ('Mutante',2),\n",
    "]\n",
    "\n",
    "heroes = spark.createDataFrame(data_heroes,['name','id'])\n",
    "origen = spark.createDataFrame(data_origen,['race','id'])\n",
    "heroes.show()\n",
    "origen.show()"
   ]
  },
  {
   "cell_type": "code",
   "execution_count": 0,
   "metadata": {
    "application/vnd.databricks.v1+cell": {
     "cellMetadata": {},
     "inputWidgets": {},
     "nuid": "a08aee3c-f147-4914-8a41-fe0906507d16",
     "showTitle": false,
     "title": ""
    }
   },
   "outputs": [],
   "source": [
    "#Registro los dataframes que he creado como tablas\n",
    "sqlContext.registerDataFrameAsTable(heroes,\"heroes\")\n",
    "sqlContext.registerDataFrameAsTable(origen,\"races\")"
   ]
  },
  {
   "cell_type": "code",
   "execution_count": 0,
   "metadata": {
    "application/vnd.databricks.v1+cell": {
     "cellMetadata": {},
     "inputWidgets": {},
     "nuid": "e64cd94b-2faf-4612-b4e2-270fdb32e1be",
     "showTitle": false,
     "title": ""
    }
   },
   "outputs": [],
   "source": [
    "sqlContext.sql(\"select * from heroes inner join races on heroes.id = races.id\").display()"
   ]
  },
  {
   "cell_type": "code",
   "execution_count": 0,
   "metadata": {
    "application/vnd.databricks.v1+cell": {
     "cellMetadata": {},
     "inputWidgets": {},
     "nuid": "63e46cc8-32a0-474e-8e7e-fd00d4de4ac3",
     "showTitle": false,
     "title": ""
    }
   },
   "outputs": [],
   "source": [
    "sqlContext.sql(\"select * from heroes full outer join races on heroes.id = races.id\").display()"
   ]
  },
  {
   "cell_type": "code",
   "execution_count": 0,
   "metadata": {
    "application/vnd.databricks.v1+cell": {
     "cellMetadata": {},
     "inputWidgets": {},
     "nuid": "5f82d7cc-90ce-4d0b-a4cd-933d1a6808ef",
     "showTitle": false,
     "title": ""
    }
   },
   "outputs": [],
   "source": [
    "sqlContext.sql(\"select * from heroes left join races on heroes.id = races.id\").display()\n",
    "sqlContext.sql(\"select * from heroes right join races on heroes.id = races.id\").display()"
   ]
  },
  {
   "cell_type": "code",
   "execution_count": 0,
   "metadata": {
    "application/vnd.databricks.v1+cell": {
     "cellMetadata": {},
     "inputWidgets": {},
     "nuid": "d982ce1b-703f-4768-ac36-4b9b99683552",
     "showTitle": false,
     "title": ""
    }
   },
   "outputs": [],
   "source": [
    "sqlContext.sql(\"select * from heroes union select * from races\").display()\n",
    "sqlContext.sql(\"select * from heroes intersect select * from races\").display()"
   ]
  },
  {
   "cell_type": "code",
   "execution_count": 0,
   "metadata": {
    "application/vnd.databricks.v1+cell": {
     "cellMetadata": {},
     "inputWidgets": {},
     "nuid": "2a626bd6-31b8-44d1-87e3-8861065bfc2a",
     "showTitle": true,
     "title": "Recuerda: Usando el API de pyspark"
    }
   },
   "outputs": [],
   "source": [
    "df_test_adjust.count()"
   ]
  },
  {
   "cell_type": "code",
   "execution_count": 0,
   "metadata": {
    "application/vnd.databricks.v1+cell": {
     "cellMetadata": {},
     "inputWidgets": {},
     "nuid": "7cebd8b2-2b58-44e3-b59c-8bb1354c4a73",
     "showTitle": false,
     "title": ""
    }
   },
   "outputs": [],
   "source": [
    "df_test_adjust.groupby('SEXO').count().display()"
   ]
  },
  {
   "cell_type": "code",
   "execution_count": 0,
   "metadata": {
    "application/vnd.databricks.v1+cell": {
     "cellMetadata": {},
     "inputWidgets": {},
     "nuid": "1d224591-d57a-4a20-886d-0ab6fde4d526",
     "showTitle": false,
     "title": ""
    }
   },
   "outputs": [],
   "source": [
    "import pyspark.sql.functions as f\n",
    "df_test_adjust.groupby('SEXO').agg(f.mean('EDAD')).display()"
   ]
  },
  {
   "cell_type": "code",
   "execution_count": 0,
   "metadata": {
    "application/vnd.databricks.v1+cell": {
     "cellMetadata": {},
     "inputWidgets": {},
     "nuid": "af1a910d-723c-4a2e-97f2-8d2d33b77b06",
     "showTitle": false,
     "title": ""
    }
   },
   "outputs": [],
   "source": [
    "#joins\n",
    "heroes.join(origen, on ='id',how='inner').show()\n",
    "heroes.join(origen, on ='id',how='outer').show()\n",
    "heroes.join(origen, on ='id',how='left').show()\n",
    "heroes.join(origen, on ='id',how='right').show()"
   ]
  },
  {
   "cell_type": "code",
   "execution_count": 0,
   "metadata": {
    "application/vnd.databricks.v1+cell": {
     "cellMetadata": {},
     "inputWidgets": {},
     "nuid": "808d4356-3459-409d-8530-c52ed636aedf",
     "showTitle": false,
     "title": ""
    }
   },
   "outputs": [],
   "source": [
    "#Filtros\n",
    "df_test_adjust.groupby('SEXO').agg(f.mean('EDAD')).filter(f.col('SEXO').isin('M')).show()"
   ]
  },
  {
   "cell_type": "markdown",
   "metadata": {
    "application/vnd.databricks.v1+cell": {
     "cellMetadata": {},
     "inputWidgets": {},
     "nuid": "9bf4e3c5-2ca4-4f0f-a829-30beccd8cfb6",
     "showTitle": false,
     "title": ""
    }
   },
   "source": [
    "\n",
    "###Taller 3"
   ]
  },
  {
   "cell_type": "code",
   "execution_count": 0,
   "metadata": {
    "application/vnd.databricks.v1+cell": {
     "cellMetadata": {},
     "inputWidgets": {},
     "nuid": "392f5551-cf06-419e-940e-7041592bbe47",
     "showTitle": false,
     "title": ""
    }
   },
   "outputs": [],
   "source": [
    "from pyspark.sql.types import *\n",
    "from pyspark.sql import SQLContext\n",
    "\n",
    "path = \"/FileStore/tables/rides.txt\"\n",
    "\n",
    "schema = StructType([\\\n",
    "                     StructField(\"id\",IntegerType(),True), \\\n",
    "                     StructField(\"open_app_id\",IntegerType(),True), \\\n",
    "                     StructField(\"start_time\",TimestampType(),True), \\\n",
    "                     StructField(\"finish_time\",TimestampType(),True), \\\n",
    "                     StructField(\"starting_lng\",StringType(),True), \\\n",
    "                     StructField(\"starting_lat\",StringType(),True), \\\n",
    "                     StructField(\"dest_lng\",StringType(),True), \\\n",
    "                     StructField(\"dest_lat\",StringType(),True), \\\n",
    "                     StructField(\"price\",StringType(),True), \\\n",
    "                     StructField(\"user_id\",IntegerType(),True), \\\n",
    "                     StructField(\"scooter_id\",IntegerType(),True)\n",
    "                  ])\n",
    "\n",
    "df_taller3 = spark.read.option(\"header\",True).option(\"encoding\", \"ISO-8859-1\").schema(schema).csv(path,sep=\",\")"
   ]
  },
  {
   "cell_type": "code",
   "execution_count": 0,
   "metadata": {
    "application/vnd.databricks.v1+cell": {
     "cellMetadata": {},
     "inputWidgets": {},
     "nuid": "498431a2-6f45-4090-9046-cb1aa99720fc",
     "showTitle": false,
     "title": ""
    }
   },
   "outputs": [],
   "source": [
    "df_taller3.show()"
   ]
  },
  {
   "cell_type": "code",
   "execution_count": 0,
   "metadata": {
    "application/vnd.databricks.v1+cell": {
     "cellMetadata": {},
     "inputWidgets": {},
     "nuid": "0f5e102e-c54d-48fe-8383-afe1ed61f48a",
     "showTitle": false,
     "title": ""
    }
   },
   "outputs": [],
   "source": [
    "sc = spark.sparkContext\n",
    "sqlContext = SQLContext(sc)\n",
    "sqlContext.registerDataFrameAsTable(df_taller3,\"df_taller3\") "
   ]
  },
  {
   "cell_type": "code",
   "execution_count": 0,
   "metadata": {
    "application/vnd.databricks.v1+cell": {
     "cellMetadata": {},
     "inputWidgets": {},
     "nuid": "d3d032d2-37f0-4cbd-933a-28c5fd0283db",
     "showTitle": false,
     "title": ""
    }
   },
   "outputs": [],
   "source": [
    "sqlContext.sql(\"SELECT start_time, finish_time FROM df_taller3 order by finish_time asc\").display()\n"
   ]
  },
  {
   "cell_type": "code",
   "execution_count": 0,
   "metadata": {
    "application/vnd.databricks.v1+cell": {
     "cellMetadata": {},
     "inputWidgets": {},
     "nuid": "1505d463-552a-48ab-bbd3-bf88858a5477",
     "showTitle": true,
     "title": "Pregunta 1"
    }
   },
   "outputs": [],
   "source": [
    "\n",
    "sqlContext.sql(\"SELECT substring(start_time,6,2) as month, avg(datediff(minute,start_time, finish_time)) as time FROM df_taller3 group by month\").display()\n",
    "\n"
   ]
  },
  {
   "cell_type": "code",
   "execution_count": 0,
   "metadata": {
    "application/vnd.databricks.v1+cell": {
     "cellMetadata": {},
     "inputWidgets": {},
     "nuid": "7956c6c4-bc49-4dbd-a673-6fc6a9f86176",
     "showTitle": true,
     "title": "Pregunta 2"
    }
   },
   "outputs": [],
   "source": [
    "sqlContext.sql(\"SELECT id, datediff(minute,start_time, finish_time) as time, cast(REPLACE(price, ',', '.') AS double) as price_cast FROM df_taller3 order by price_cast desc limit 500\").display(500)\n",
    "\n",
    "#avg(datediff(minute,start_time, finish_time)) as useTime\n",
    "#cast(REPLACE(price, ',', '.') AS double)"
   ]
  },
  {
   "cell_type": "code",
   "execution_count": 0,
   "metadata": {
    "application/vnd.databricks.v1+cell": {
     "cellMetadata": {},
     "inputWidgets": {},
     "nuid": "0185af7f-9e4a-4410-9518-f34e32a28233",
     "showTitle": true,
     "title": "Pregunta 3"
    }
   },
   "outputs": [],
   "source": [
    "sqlContext.sql(\"SELECT scooter_id, avg(datediff(minute,start_time, finish_time)) as time, AVG(cast(REPLACE(price, ',', '.') AS double)) as cost FROM df_taller3 group by scooter_id \").display()\n",
    "\n",
    "\n",
    "#avg(datediff(minute,start_time, finish_time)) as time,"
   ]
  },
  {
   "cell_type": "code",
   "execution_count": 0,
   "metadata": {
    "application/vnd.databricks.v1+cell": {
     "cellMetadata": {},
     "inputWidgets": {},
     "nuid": "1964ded7-b547-40bc-9c30-2d59454f5271",
     "showTitle": true,
     "title": "Pregunta 4"
    }
   },
   "outputs": [],
   "source": [
    "sqlContext.sql(\"SELECT user_id, count(user_id) as total_services FROM df_taller3 group by user_id order by total_services desc\").display()\n"
   ]
  },
  {
   "cell_type": "code",
   "execution_count": 0,
   "metadata": {
    "application/vnd.databricks.v1+cell": {
     "cellMetadata": {},
     "inputWidgets": {},
     "nuid": "8fb0e0ab-7a30-4115-a088-7a899efb4d00",
     "showTitle": true,
     "title": "Pregunta 5"
    }
   },
   "outputs": [],
   "source": [
    "sqlContext.sql(\"SELECT user_id, count(user_id) as total_services FROM df_taller3 group by user_id order by total_services asc limit 100\").display(100)\n"
   ]
  }
 ],
 "metadata": {
  "application/vnd.databricks.v1+notebook": {
   "dashboards": [],
   "environmentMetadata": null,
   "language": "python",
   "notebookMetadata": {
    "pythonIndentUnit": 4
   },
   "notebookName": "S6_Databricks_JAAR",
   "widgets": {}
  }
 },
 "nbformat": 4,
 "nbformat_minor": 0
}
