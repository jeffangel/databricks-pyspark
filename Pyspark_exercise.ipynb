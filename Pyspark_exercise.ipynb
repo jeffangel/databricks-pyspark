{
 "cells": [
  {
   "cell_type": "markdown",
   "metadata": {
    "application/vnd.databricks.v1+cell": {
     "cellMetadata": {},
     "inputWidgets": {},
     "nuid": "b7d41d76-a4db-4212-a61d-9697b196eacf",
     "showTitle": false,
     "title": ""
    }
   },
   "source": [
    "\n",
    "# Taller 4"
   ]
  },
  {
   "cell_type": "code",
   "execution_count": null,
   "metadata": {
    "application/vnd.databricks.v1+cell": {
     "cellMetadata": {},
     "inputWidgets": {},
     "nuid": "d97541e2-4f50-4e2b-a652-356f75f5ed08",
     "showTitle": true,
     "title": "Importación de librerías"
    }
   },
   "outputs": [],
   "source": [
    "from pyspark.sql.types import *\n",
    "from pyspark.sql import SQLContext\n",
    "\n",
    "sc = spark.sparkContext\n",
    "sqlContext = SQLContext(sc)"
   ]
  },
  {
   "cell_type": "code",
   "execution_count": null,
   "metadata": {
    "application/vnd.databricks.v1+cell": {
     "cellMetadata": {},
     "inputWidgets": {},
     "nuid": "f7467f86-85dd-42fc-95e6-e4bb73802d3b",
     "showTitle": true,
     "title": "Instanciando conexión con BlobStorage en Azure"
    }
   },
   "outputs": [],
   "source": [
    "storage_account_name = \"mystorageaccount\"\n",
    "storage_account_access_key=\"key\"\n",
    "spark.conf.set(\"fs.azure.account.key.\"+storage_account_name+\".blob.core.windows.net\",storage_account_access_key)"
   ]
  },
  {
   "cell_type": "code",
   "execution_count": null,
   "metadata": {
    "application/vnd.databricks.v1+cell": {
     "cellMetadata": {},
     "inputWidgets": {},
     "nuid": "590860f7-bf67-4dec-92c2-115456944da6",
     "showTitle": true,
     "title": "Conexiones a Base de Datos - Caso PostgreSQL"
    }
   },
   "outputs": [],
   "source": [
    "driver=\"org.postgresql.Driver\"\n",
    "database_host=\"dmcserverdb.postgres.database.azure.com\"\n",
    "database_port=\"5432\"\n",
    "database_name=\"dmc_banks\"\n",
    "user=\"databricks\"\n",
    "password=\"dmc_123@\"\n",
    "\n",
    "#Luego instanciamos el URL en una variable:\n",
    "\n",
    "url= f\"jdbc:postgresql://{database_host}:{database_port}/{database_name}\"\n"
   ]
  },
  {
   "cell_type": "code",
   "execution_count": null,
   "metadata": {
    "application/vnd.databricks.v1+cell": {
     "cellMetadata": {},
     "inputWidgets": {},
     "nuid": "3ce5fbe6-8ebb-4e3e-a72e-f220bb665ba2",
     "showTitle": true,
     "title": "Lectura de tablas"
    }
   },
   "outputs": [],
   "source": [
    "sql_orders = (spark.read.format(\"jdbc\").option(\"driver\",driver).option(\"url\",url).option(\"dbtable\",\"orders\").option(\"user\",user).option(\"password\",password).load())\n",
    "\n",
    "sqlContext.registerDataFrameAsTable(sql_orders,\"sql_orders\")\n",
    "\n",
    "sql_order_details = (spark.read.format(\"jdbc\").option(\"driver\",driver).option(\"url\",url).option(\"dbtable\",\"order_details\").option(\"user\",user).option(\"password\",password).load())\n",
    "\n",
    "sqlContext.registerDataFrameAsTable(sql_order_details,\"sql_order_details\")\n",
    "\n",
    "sql_products = (spark.read.format(\"jdbc\").option(\"driver\",driver).option(\"url\",url).option(\"dbtable\",\"products\").option(\"user\",user).option(\"password\",password).load())\n",
    "\n",
    "sqlContext.registerDataFrameAsTable(sql_products,\"sql_products\")\n",
    "\n",
    "sql_employees = (spark.read.format(\"jdbc\").option(\"driver\",driver).option(\"url\",url).option(\"dbtable\",\"employees\").option(\"user\",user).option(\"password\",password).load())\n",
    "\n",
    "sqlContext.registerDataFrameAsTable(sql_employees,\"sql_employees\")\n",
    "\n",
    "sql_employee_territories = (spark.read.format(\"jdbc\").option(\"driver\",driver).option(\"url\",url).option(\"dbtable\",\"employee_territories\").option(\"user\",user).option(\"password\",password).load())\n",
    "\n",
    "sqlContext.registerDataFrameAsTable(sql_employee_territories,\"sql_employee_territories\")\n",
    "\n",
    "sql_territories = (spark.read.format(\"jdbc\").option(\"driver\",driver).option(\"url\",url).option(\"dbtable\",\"territories\").option(\"user\",user).option(\"password\",password).load())\n",
    "\n",
    "sqlContext.registerDataFrameAsTable(sql_territories,\"sql_territories\")\n",
    "\n",
    "sql_region = (spark.read.format(\"jdbc\").option(\"driver\",driver).option(\"url\",url).option(\"dbtable\",\"region\").option(\"user\",user).option(\"password\",password).load())\n",
    "\n",
    "sqlContext.registerDataFrameAsTable(sql_region,\"sql_region\")\n",
    "\n",
    "sql_customers = (spark.read.format(\"jdbc\").option(\"driver\",driver).option(\"url\",url).option(\"dbtable\",\"customers\").option(\"user\",user).option(\"password\",password).load())\n",
    "\n",
    "sqlContext.registerDataFrameAsTable(sql_customers,\"sql_customers\")"
   ]
  },
  {
   "cell_type": "code",
   "execution_count": null,
   "metadata": {
    "application/vnd.databricks.v1+cell": {
     "cellMetadata": {},
     "inputWidgets": {},
     "nuid": "3ce901b4-482f-4d20-aabf-7bdf50b60297",
     "showTitle": false,
     "title": ""
    }
   },
   "outputs": [
    {
     "data": {
      "text/html": [
       "<style scoped>\n",
       "  .table-result-container {\n",
       "    max-height: 300px;\n",
       "    overflow: auto;\n",
       "  }\n",
       "  table, th, td {\n",
       "    border: 1px solid black;\n",
       "    border-collapse: collapse;\n",
       "  }\n",
       "  th, td {\n",
       "    padding: 5px;\n",
       "  }\n",
       "  th {\n",
       "    text-align: left;\n",
       "  }\n",
       "</style><div class='table-result-container'><table class='table-result'><thead style='background-color: white'><tr><th>customer_id</th><th>company_name</th><th>contact_name</th><th>contact_title</th><th>address</th><th>city</th><th>region</th><th>postal_code</th><th>country</th><th>phone</th><th>fax</th></tr></thead><tbody><tr><td>ALFKI</td><td>Alfreds Futterkiste</td><td>Maria Anders</td><td>Sales Representative</td><td>Obere Str. 57</td><td>Berlin</td><td>null</td><td>12209</td><td>Germany</td><td>030-0074321</td><td>030-0076545</td></tr><tr><td>ANATR</td><td>Ana Trujillo Emparedados y helados</td><td>Ana Trujillo</td><td>Owner</td><td>Avda. de la Constitución 2222</td><td>México D.F.</td><td>null</td><td>05021</td><td>Mexico</td><td>(5) 555-4729</td><td>(5) 555-3745</td></tr><tr><td>ANTON</td><td>Antonio Moreno Taquería</td><td>Antonio Moreno</td><td>Owner</td><td>Mataderos  2312</td><td>México D.F.</td><td>null</td><td>05023</td><td>Mexico</td><td>(5) 555-3932</td><td>null</td></tr><tr><td>AROUT</td><td>Around the Horn</td><td>Thomas Hardy</td><td>Sales Representative</td><td>120 Hanover Sq.</td><td>London</td><td>null</td><td>WA1 1DP</td><td>UK</td><td>(171) 555-7788</td><td>(171) 555-6750</td></tr><tr><td>BERGS</td><td>Berglunds snabbköp</td><td>Christina Berglund</td><td>Order Administrator</td><td>Berguvsvägen  8</td><td>Luleå</td><td>null</td><td>S-958 22</td><td>Sweden</td><td>0921-12 34 65</td><td>0921-12 34 67</td></tr><tr><td>BLAUS</td><td>Blauer See Delikatessen</td><td>Hanna Moos</td><td>Sales Representative</td><td>Forsterstr. 57</td><td>Mannheim</td><td>null</td><td>68306</td><td>Germany</td><td>0621-08460</td><td>0621-08924</td></tr><tr><td>BLONP</td><td>Blondesddsl père et fils</td><td>Frédérique Citeaux</td><td>Marketing Manager</td><td>24, place Kléber</td><td>Strasbourg</td><td>null</td><td>67000</td><td>France</td><td>88.60.15.31</td><td>88.60.15.32</td></tr><tr><td>BOLID</td><td>Bólido Comidas preparadas</td><td>Martín Sommer</td><td>Owner</td><td>C/ Araquil, 67</td><td>Madrid</td><td>null</td><td>28023</td><td>Spain</td><td>(91) 555 22 82</td><td>(91) 555 91 99</td></tr><tr><td>BONAP</td><td>Bon app'</td><td>Laurence Lebihan</td><td>Owner</td><td>12, rue des Bouchers</td><td>Marseille</td><td>null</td><td>13008</td><td>France</td><td>91.24.45.40</td><td>91.24.45.41</td></tr><tr><td>BOTTM</td><td>Bottom-Dollar Markets</td><td>Elizabeth Lincoln</td><td>Accounting Manager</td><td>23 Tsawassen Blvd.</td><td>Tsawassen</td><td>BC</td><td>T2F 8M4</td><td>Canada</td><td>(604) 555-4729</td><td>(604) 555-3745</td></tr><tr><td>BSBEV</td><td>B's Beverages</td><td>Victoria Ashworth</td><td>Sales Representative</td><td>Fauntleroy Circus</td><td>London</td><td>null</td><td>EC2 5NT</td><td>UK</td><td>(171) 555-1212</td><td>null</td></tr><tr><td>CACTU</td><td>Cactus Comidas para llevar</td><td>Patricio Simpson</td><td>Sales Agent</td><td>Cerrito 333</td><td>Buenos Aires</td><td>null</td><td>1010</td><td>Argentina</td><td>(1) 135-5555</td><td>(1) 135-4892</td></tr><tr><td>CENTC</td><td>Centro comercial Moctezuma</td><td>Francisco Chang</td><td>Marketing Manager</td><td>Sierras de Granada 9993</td><td>México D.F.</td><td>null</td><td>05022</td><td>Mexico</td><td>(5) 555-3392</td><td>(5) 555-7293</td></tr><tr><td>CHOPS</td><td>Chop-suey Chinese</td><td>Yang Wang</td><td>Owner</td><td>Hauptstr. 29</td><td>Bern</td><td>null</td><td>3012</td><td>Switzerland</td><td>0452-076545</td><td>null</td></tr><tr><td>COMMI</td><td>Comércio Mineiro</td><td>Pedro Afonso</td><td>Sales Associate</td><td>Av. dos Lusíadas, 23</td><td>Sao Paulo</td><td>SP</td><td>05432-043</td><td>Brazil</td><td>(11) 555-7647</td><td>null</td></tr><tr><td>CONSH</td><td>Consolidated Holdings</td><td>Elizabeth Brown</td><td>Sales Representative</td><td>Berkeley Gardens 12  Brewery</td><td>London</td><td>null</td><td>WX1 6LT</td><td>UK</td><td>(171) 555-2282</td><td>(171) 555-9199</td></tr><tr><td>DRACD</td><td>Drachenblut Delikatessen</td><td>Sven Ottlieb</td><td>Order Administrator</td><td>Walserweg 21</td><td>Aachen</td><td>null</td><td>52066</td><td>Germany</td><td>0241-039123</td><td>0241-059428</td></tr><tr><td>DUMON</td><td>Du monde entier</td><td>Janine Labrune</td><td>Owner</td><td>67, rue des Cinquante Otages</td><td>Nantes</td><td>null</td><td>44000</td><td>France</td><td>40.67.88.88</td><td>40.67.89.89</td></tr><tr><td>EASTC</td><td>Eastern Connection</td><td>Ann Devon</td><td>Sales Agent</td><td>35 King George</td><td>London</td><td>null</td><td>WX3 6FW</td><td>UK</td><td>(171) 555-0297</td><td>(171) 555-3373</td></tr><tr><td>ERNSH</td><td>Ernst Handel</td><td>Roland Mendel</td><td>Sales Manager</td><td>Kirchgasse 6</td><td>Graz</td><td>null</td><td>8010</td><td>Austria</td><td>7675-3425</td><td>7675-3426</td></tr><tr><td>FAMIA</td><td>Familia Arquibaldo</td><td>Aria Cruz</td><td>Marketing Assistant</td><td>Rua Orós, 92</td><td>Sao Paulo</td><td>SP</td><td>05442-030</td><td>Brazil</td><td>(11) 555-9857</td><td>null</td></tr><tr><td>FISSA</td><td>FISSA Fabrica Inter. Salchichas S.A.</td><td>Diego Roel</td><td>Accounting Manager</td><td>C/ Moralzarzal, 86</td><td>Madrid</td><td>null</td><td>28034</td><td>Spain</td><td>(91) 555 94 44</td><td>(91) 555 55 93</td></tr><tr><td>FOLIG</td><td>Folies gourmandes</td><td>Martine Rancé</td><td>Assistant Sales Agent</td><td>184, chaussée de Tournai</td><td>Lille</td><td>null</td><td>59000</td><td>France</td><td>20.16.10.16</td><td>20.16.10.17</td></tr><tr><td>FOLKO</td><td>Folk och fä HB</td><td>Maria Larsson</td><td>Owner</td><td>Åkergatan 24</td><td>Bräcke</td><td>null</td><td>S-844 67</td><td>Sweden</td><td>0695-34 67 21</td><td>null</td></tr><tr><td>FRANK</td><td>Frankenversand</td><td>Peter Franken</td><td>Marketing Manager</td><td>Berliner Platz 43</td><td>München</td><td>null</td><td>80805</td><td>Germany</td><td>089-0877310</td><td>089-0877451</td></tr><tr><td>FRANR</td><td>France restauration</td><td>Carine Schmitt</td><td>Marketing Manager</td><td>54, rue Royale</td><td>Nantes</td><td>null</td><td>44000</td><td>France</td><td>40.32.21.21</td><td>40.32.21.20</td></tr><tr><td>FRANS</td><td>Franchi S.p.A.</td><td>Paolo Accorti</td><td>Sales Representative</td><td>Via Monte Bianco 34</td><td>Torino</td><td>null</td><td>10100</td><td>Italy</td><td>011-4988260</td><td>011-4988261</td></tr><tr><td>FURIB</td><td>Furia Bacalhau e Frutos do Mar</td><td>Lino Rodriguez</td><td>Sales Manager</td><td>Jardim das rosas n. 32</td><td>Lisboa</td><td>null</td><td>1675</td><td>Portugal</td><td>(1) 354-2534</td><td>(1) 354-2535</td></tr><tr><td>GALED</td><td>Galería del gastrónomo</td><td>Eduardo Saavedra</td><td>Marketing Manager</td><td>Rambla de Cataluña, 23</td><td>Barcelona</td><td>null</td><td>08022</td><td>Spain</td><td>(93) 203 4560</td><td>(93) 203 4561</td></tr><tr><td>GODOS</td><td>Godos Cocina Típica</td><td>José Pedro Freyre</td><td>Sales Manager</td><td>C/ Romero, 33</td><td>Sevilla</td><td>null</td><td>41101</td><td>Spain</td><td>(95) 555 82 82</td><td>null</td></tr><tr><td>GOURL</td><td>Gourmet Lanchonetes</td><td>André Fonseca</td><td>Sales Associate</td><td>Av. Brasil, 442</td><td>Campinas</td><td>SP</td><td>04876-786</td><td>Brazil</td><td>(11) 555-9482</td><td>null</td></tr><tr><td>GREAL</td><td>Great Lakes Food Market</td><td>Howard Snyder</td><td>Marketing Manager</td><td>2732 Baker Blvd.</td><td>Eugene</td><td>OR</td><td>97403</td><td>USA</td><td>(503) 555-7555</td><td>null</td></tr><tr><td>GROSR</td><td>GROSELLA-Restaurante</td><td>Manuel Pereira</td><td>Owner</td><td>5ª Ave. Los Palos Grandes</td><td>Caracas</td><td>DF</td><td>1081</td><td>Venezuela</td><td>(2) 283-2951</td><td>(2) 283-3397</td></tr><tr><td>HANAR</td><td>Hanari Carnes</td><td>Mario Pontes</td><td>Accounting Manager</td><td>Rua do Paço, 67</td><td>Rio de Janeiro</td><td>RJ</td><td>05454-876</td><td>Brazil</td><td>(21) 555-0091</td><td>(21) 555-8765</td></tr><tr><td>HILAA</td><td>HILARION-Abastos</td><td>Carlos Hernández</td><td>Sales Representative</td><td>Carrera 22 con Ave. Carlos Soublette #8-35</td><td>San Cristóbal</td><td>Táchira</td><td>5022</td><td>Venezuela</td><td>(5) 555-1340</td><td>(5) 555-1948</td></tr><tr><td>HUNGC</td><td>Hungry Coyote Import Store</td><td>Yoshi Latimer</td><td>Sales Representative</td><td>City Center Plaza 516 Main St.</td><td>Elgin</td><td>OR</td><td>97827</td><td>USA</td><td>(503) 555-6874</td><td>(503) 555-2376</td></tr><tr><td>HUNGO</td><td>Hungry Owl All-Night Grocers</td><td>Patricia McKenna</td><td>Sales Associate</td><td>8 Johnstown Road</td><td>Cork</td><td>Co. Cork</td><td>null</td><td>Ireland</td><td>2967 542</td><td>2967 3333</td></tr><tr><td>ISLAT</td><td>Island Trading</td><td>Helen Bennett</td><td>Marketing Manager</td><td>Garden House Crowther Way</td><td>Cowes</td><td>Isle of Wight</td><td>PO31 7PJ</td><td>UK</td><td>(198) 555-8888</td><td>null</td></tr><tr><td>KOENE</td><td>Königlich Essen</td><td>Philip Cramer</td><td>Sales Associate</td><td>Maubelstr. 90</td><td>Brandenburg</td><td>null</td><td>14776</td><td>Germany</td><td>0555-09876</td><td>null</td></tr><tr><td>LACOR</td><td>La corne d'abondance</td><td>Daniel Tonini</td><td>Sales Representative</td><td>67, avenue de l'Europe</td><td>Versailles</td><td>null</td><td>78000</td><td>France</td><td>30.59.84.10</td><td>30.59.85.11</td></tr><tr><td>LAMAI</td><td>La maison d'Asie</td><td>Annette Roulet</td><td>Sales Manager</td><td>1 rue Alsace-Lorraine</td><td>Toulouse</td><td>null</td><td>31000</td><td>France</td><td>61.77.61.10</td><td>61.77.61.11</td></tr><tr><td>LAUGB</td><td>Laughing Bacchus Wine Cellars</td><td>Yoshi Tannamuri</td><td>Marketing Assistant</td><td>1900 Oak St.</td><td>Vancouver</td><td>BC</td><td>V3F 2K1</td><td>Canada</td><td>(604) 555-3392</td><td>(604) 555-7293</td></tr><tr><td>LAZYK</td><td>Lazy K Kountry Store</td><td>John Steel</td><td>Marketing Manager</td><td>12 Orchestra Terrace</td><td>Walla Walla</td><td>WA</td><td>99362</td><td>USA</td><td>(509) 555-7969</td><td>(509) 555-6221</td></tr><tr><td>LEHMS</td><td>Lehmanns Marktstand</td><td>Renate Messner</td><td>Sales Representative</td><td>Magazinweg 7</td><td>Frankfurt a.M.</td><td>null</td><td>60528</td><td>Germany</td><td>069-0245984</td><td>069-0245874</td></tr><tr><td>LETSS</td><td>Let's Stop N Shop</td><td>Jaime Yorres</td><td>Owner</td><td>87 Polk St. Suite 5</td><td>San Francisco</td><td>CA</td><td>94117</td><td>USA</td><td>(415) 555-5938</td><td>null</td></tr><tr><td>LILAS</td><td>LILA-Supermercado</td><td>Carlos González</td><td>Accounting Manager</td><td>Carrera 52 con Ave. Bolívar #65-98 Llano Largo</td><td>Barquisimeto</td><td>Lara</td><td>3508</td><td>Venezuela</td><td>(9) 331-6954</td><td>(9) 331-7256</td></tr><tr><td>LINOD</td><td>LINO-Delicateses</td><td>Felipe Izquierdo</td><td>Owner</td><td>Ave. 5 de Mayo Porlamar</td><td>I. de Margarita</td><td>Nueva Esparta</td><td>4980</td><td>Venezuela</td><td>(8) 34-56-12</td><td>(8) 34-93-93</td></tr><tr><td>LONEP</td><td>Lonesome Pine Restaurant</td><td>Fran Wilson</td><td>Sales Manager</td><td>89 Chiaroscuro Rd.</td><td>Portland</td><td>OR</td><td>97219</td><td>USA</td><td>(503) 555-9573</td><td>(503) 555-9646</td></tr><tr><td>MAGAA</td><td>Magazzini Alimentari Riuniti</td><td>Giovanni Rovelli</td><td>Marketing Manager</td><td>Via Ludovico il Moro 22</td><td>Bergamo</td><td>null</td><td>24100</td><td>Italy</td><td>035-640230</td><td>035-640231</td></tr><tr><td>MAISD</td><td>Maison Dewey</td><td>Catherine Dewey</td><td>Sales Agent</td><td>Rue Joseph-Bens 532</td><td>Bruxelles</td><td>null</td><td>B-1180</td><td>Belgium</td><td>(02) 201 24 67</td><td>(02) 201 24 68</td></tr><tr><td>MEREP</td><td>Mère Paillarde</td><td>Jean Fresnière</td><td>Marketing Assistant</td><td>43 rue St. Laurent</td><td>Montréal</td><td>Québec</td><td>H1J 1C3</td><td>Canada</td><td>(514) 555-8054</td><td>(514) 555-8055</td></tr><tr><td>MORGK</td><td>Morgenstern Gesundkost</td><td>Alexander Feuer</td><td>Marketing Assistant</td><td>Heerstr. 22</td><td>Leipzig</td><td>null</td><td>04179</td><td>Germany</td><td>0342-023176</td><td>null</td></tr><tr><td>NORTS</td><td>North/South</td><td>Simon Crowther</td><td>Sales Associate</td><td>South House 300 Queensbridge</td><td>London</td><td>null</td><td>SW7 1RZ</td><td>UK</td><td>(171) 555-7733</td><td>(171) 555-2530</td></tr><tr><td>OCEAN</td><td>Océano Atlántico Ltda.</td><td>Yvonne Moncada</td><td>Sales Agent</td><td>Ing. Gustavo Moncada 8585 Piso 20-A</td><td>Buenos Aires</td><td>null</td><td>1010</td><td>Argentina</td><td>(1) 135-5333</td><td>(1) 135-5535</td></tr><tr><td>OLDWO</td><td>Old World Delicatessen</td><td>Rene Phillips</td><td>Sales Representative</td><td>2743 Bering St.</td><td>Anchorage</td><td>AK</td><td>99508</td><td>USA</td><td>(907) 555-7584</td><td>(907) 555-2880</td></tr><tr><td>OTTIK</td><td>Ottilies Käseladen</td><td>Henriette Pfalzheim</td><td>Owner</td><td>Mehrheimerstr. 369</td><td>Köln</td><td>null</td><td>50739</td><td>Germany</td><td>0221-0644327</td><td>0221-0765721</td></tr><tr><td>PARIS</td><td>Paris spécialités</td><td>Marie Bertrand</td><td>Owner</td><td>265, boulevard Charonne</td><td>Paris</td><td>null</td><td>75012</td><td>France</td><td>(1) 42.34.22.66</td><td>(1) 42.34.22.77</td></tr><tr><td>PERIC</td><td>Pericles Comidas clásicas</td><td>Guillermo Fernández</td><td>Sales Representative</td><td>Calle Dr. Jorge Cash 321</td><td>México D.F.</td><td>null</td><td>05033</td><td>Mexico</td><td>(5) 552-3745</td><td>(5) 545-3745</td></tr><tr><td>PICCO</td><td>Piccolo und mehr</td><td>Georg Pipps</td><td>Sales Manager</td><td>Geislweg 14</td><td>Salzburg</td><td>null</td><td>5020</td><td>Austria</td><td>6562-9722</td><td>6562-9723</td></tr><tr><td>PRINI</td><td>Princesa Isabel Vinhos</td><td>Isabel de Castro</td><td>Sales Representative</td><td>Estrada da saúde n. 58</td><td>Lisboa</td><td>null</td><td>1756</td><td>Portugal</td><td>(1) 356-5634</td><td>null</td></tr><tr><td>QUEDE</td><td>Que Delícia</td><td>Bernardo Batista</td><td>Accounting Manager</td><td>Rua da Panificadora, 12</td><td>Rio de Janeiro</td><td>RJ</td><td>02389-673</td><td>Brazil</td><td>(21) 555-4252</td><td>(21) 555-4545</td></tr><tr><td>QUEEN</td><td>Queen Cozinha</td><td>Lúcia Carvalho</td><td>Marketing Assistant</td><td>Alameda dos Canàrios, 891</td><td>Sao Paulo</td><td>SP</td><td>05487-020</td><td>Brazil</td><td>(11) 555-1189</td><td>null</td></tr><tr><td>QUICK</td><td>QUICK-Stop</td><td>Horst Kloss</td><td>Accounting Manager</td><td>Taucherstraße 10</td><td>Cunewalde</td><td>null</td><td>01307</td><td>Germany</td><td>0372-035188</td><td>null</td></tr><tr><td>RANCH</td><td>Rancho grande</td><td>Sergio Gutiérrez</td><td>Sales Representative</td><td>Av. del Libertador 900</td><td>Buenos Aires</td><td>null</td><td>1010</td><td>Argentina</td><td>(1) 123-5555</td><td>(1) 123-5556</td></tr><tr><td>RATTC</td><td>Rattlesnake Canyon Grocery</td><td>Paula Wilson</td><td>Assistant Sales Representative</td><td>2817 Milton Dr.</td><td>Albuquerque</td><td>NM</td><td>87110</td><td>USA</td><td>(505) 555-5939</td><td>(505) 555-3620</td></tr><tr><td>REGGC</td><td>Reggiani Caseifici</td><td>Maurizio Moroni</td><td>Sales Associate</td><td>Strada Provinciale 124</td><td>Reggio Emilia</td><td>null</td><td>42100</td><td>Italy</td><td>0522-556721</td><td>0522-556722</td></tr><tr><td>RICAR</td><td>Ricardo Adocicados</td><td>Janete Limeira</td><td>Assistant Sales Agent</td><td>Av. Copacabana, 267</td><td>Rio de Janeiro</td><td>RJ</td><td>02389-890</td><td>Brazil</td><td>(21) 555-3412</td><td>null</td></tr><tr><td>RICSU</td><td>Richter Supermarkt</td><td>Michael Holz</td><td>Sales Manager</td><td>Grenzacherweg 237</td><td>Genève</td><td>null</td><td>1203</td><td>Switzerland</td><td>0897-034214</td><td>null</td></tr><tr><td>ROMEY</td><td>Romero y tomillo</td><td>Alejandra Camino</td><td>Accounting Manager</td><td>Gran Vía, 1</td><td>Madrid</td><td>null</td><td>28001</td><td>Spain</td><td>(91) 745 6200</td><td>(91) 745 6210</td></tr><tr><td>SANTG</td><td>Santé Gourmet</td><td>Jonas Bergulfsen</td><td>Owner</td><td>Erling Skakkes gate 78</td><td>Stavern</td><td>null</td><td>4110</td><td>Norway</td><td>07-98 92 35</td><td>07-98 92 47</td></tr><tr><td>SAVEA</td><td>Save-a-lot Markets</td><td>Jose Pavarotti</td><td>Sales Representative</td><td>187 Suffolk Ln.</td><td>Boise</td><td>ID</td><td>83720</td><td>USA</td><td>(208) 555-8097</td><td>null</td></tr><tr><td>SEVES</td><td>Seven Seas Imports</td><td>Hari Kumar</td><td>Sales Manager</td><td>90 Wadhurst Rd.</td><td>London</td><td>null</td><td>OX15 4NB</td><td>UK</td><td>(171) 555-1717</td><td>(171) 555-5646</td></tr><tr><td>SIMOB</td><td>Simons bistro</td><td>Jytte Petersen</td><td>Owner</td><td>Vinbæltet 34</td><td>Kobenhavn</td><td>null</td><td>1734</td><td>Denmark</td><td>31 12 34 56</td><td>31 13 35 57</td></tr><tr><td>SPECD</td><td>Spécialités du monde</td><td>Dominique Perrier</td><td>Marketing Manager</td><td>25, rue Lauriston</td><td>Paris</td><td>null</td><td>75016</td><td>France</td><td>(1) 47.55.60.10</td><td>(1) 47.55.60.20</td></tr><tr><td>SPLIR</td><td>Split Rail Beer & Ale</td><td>Art Braunschweiger</td><td>Sales Manager</td><td>P.O. Box 555</td><td>Lander</td><td>WY</td><td>82520</td><td>USA</td><td>(307) 555-4680</td><td>(307) 555-6525</td></tr><tr><td>SUPRD</td><td>Suprêmes délices</td><td>Pascale Cartrain</td><td>Accounting Manager</td><td>Boulevard Tirou, 255</td><td>Charleroi</td><td>null</td><td>B-6000</td><td>Belgium</td><td>(071) 23 67 22 20</td><td>(071) 23 67 22 21</td></tr><tr><td>THEBI</td><td>The Big Cheese</td><td>Liz Nixon</td><td>Marketing Manager</td><td>89 Jefferson Way Suite 2</td><td>Portland</td><td>OR</td><td>97201</td><td>USA</td><td>(503) 555-3612</td><td>null</td></tr><tr><td>THECR</td><td>The Cracker Box</td><td>Liu Wong</td><td>Marketing Assistant</td><td>55 Grizzly Peak Rd.</td><td>Butte</td><td>MT</td><td>59801</td><td>USA</td><td>(406) 555-5834</td><td>(406) 555-8083</td></tr><tr><td>TOMSP</td><td>Toms Spezialitäten</td><td>Karin Josephs</td><td>Marketing Manager</td><td>Luisenstr. 48</td><td>Münster</td><td>null</td><td>44087</td><td>Germany</td><td>0251-031259</td><td>0251-035695</td></tr><tr><td>TORTU</td><td>Tortuga Restaurante</td><td>Miguel Angel Paolino</td><td>Owner</td><td>Avda. Azteca 123</td><td>México D.F.</td><td>null</td><td>05033</td><td>Mexico</td><td>(5) 555-2933</td><td>null</td></tr><tr><td>TRADH</td><td>Tradição Hipermercados</td><td>Anabela Domingues</td><td>Sales Representative</td><td>Av. Inês de Castro, 414</td><td>Sao Paulo</td><td>SP</td><td>05634-030</td><td>Brazil</td><td>(11) 555-2167</td><td>(11) 555-2168</td></tr><tr><td>TRAIH</td><td>Trail's Head Gourmet Provisioners</td><td>Helvetius Nagy</td><td>Sales Associate</td><td>722 DaVinci Blvd.</td><td>Kirkland</td><td>WA</td><td>98034</td><td>USA</td><td>(206) 555-8257</td><td>(206) 555-2174</td></tr><tr><td>VAFFE</td><td>Vaffeljernet</td><td>Palle Ibsen</td><td>Sales Manager</td><td>Smagsloget 45</td><td>Århus</td><td>null</td><td>8200</td><td>Denmark</td><td>86 21 32 43</td><td>86 22 33 44</td></tr><tr><td>VICTE</td><td>Victuailles en stock</td><td>Mary Saveley</td><td>Sales Agent</td><td>2, rue du Commerce</td><td>Lyon</td><td>null</td><td>69004</td><td>France</td><td>78.32.54.86</td><td>78.32.54.87</td></tr><tr><td>VINET</td><td>Vins et alcools Chevalier</td><td>Paul Henriot</td><td>Accounting Manager</td><td>59 rue de l'Abbaye</td><td>Reims</td><td>null</td><td>51100</td><td>France</td><td>26.47.15.10</td><td>26.47.15.11</td></tr><tr><td>WANDK</td><td>Die Wandernde Kuh</td><td>Rita Müller</td><td>Sales Representative</td><td>Adenauerallee 900</td><td>Stuttgart</td><td>null</td><td>70563</td><td>Germany</td><td>0711-020361</td><td>0711-035428</td></tr><tr><td>WARTH</td><td>Wartian Herkku</td><td>Pirkko Koskitalo</td><td>Accounting Manager</td><td>Torikatu 38</td><td>Oulu</td><td>null</td><td>90110</td><td>Finland</td><td>981-443655</td><td>981-443655</td></tr><tr><td>WELLI</td><td>Wellington Importadora</td><td>Paula Parente</td><td>Sales Manager</td><td>Rua do Mercado, 12</td><td>Resende</td><td>SP</td><td>08737-363</td><td>Brazil</td><td>(14) 555-8122</td><td>null</td></tr><tr><td>WHITC</td><td>White Clover Markets</td><td>Karl Jablonski</td><td>Owner</td><td>305 - 14th Ave. S. Suite 3B</td><td>Seattle</td><td>WA</td><td>98128</td><td>USA</td><td>(206) 555-4112</td><td>(206) 555-4115</td></tr><tr><td>WILMK</td><td>Wilman Kala</td><td>Matti Karttunen</td><td>Owner/Marketing Assistant</td><td>Keskuskatu 45</td><td>Helsinki</td><td>null</td><td>21240</td><td>Finland</td><td>90-224 8858</td><td>90-224 8858</td></tr><tr><td>WOLZA</td><td>Wolski  Zajazd</td><td>Zbyszek Piestrzeniewicz</td><td>Owner</td><td>ul. Filtrowa 68</td><td>Warszawa</td><td>null</td><td>01-012</td><td>Poland</td><td>(26) 642-7012</td><td>(26) 642-7012</td></tr></tbody></table></div>"
      ]
     },
     "metadata": {
      "application/vnd.databricks.v1+output": {
       "addedWidgets": {},
       "aggData": [],
       "aggError": "",
       "aggOverflow": false,
       "aggSchema": [],
       "aggSeriesLimitReached": false,
       "aggType": "",
       "arguments": {},
       "columnCustomDisplayInfos": {},
       "data": [
        [
         "ALFKI",
         "Alfreds Futterkiste",
         "Maria Anders",
         "Sales Representative",
         "Obere Str. 57",
         "Berlin",
         null,
         "12209",
         "Germany",
         "030-0074321",
         "030-0076545"
        ],
        [
         "ANATR",
         "Ana Trujillo Emparedados y helados",
         "Ana Trujillo",
         "Owner",
         "Avda. de la Constitución 2222",
         "México D.F.",
         null,
         "05021",
         "Mexico",
         "(5) 555-4729",
         "(5) 555-3745"
        ],
        [
         "ANTON",
         "Antonio Moreno Taquería",
         "Antonio Moreno",
         "Owner",
         "Mataderos  2312",
         "México D.F.",
         null,
         "05023",
         "Mexico",
         "(5) 555-3932",
         null
        ],
        [
         "AROUT",
         "Around the Horn",
         "Thomas Hardy",
         "Sales Representative",
         "120 Hanover Sq.",
         "London",
         null,
         "WA1 1DP",
         "UK",
         "(171) 555-7788",
         "(171) 555-6750"
        ],
        [
         "BERGS",
         "Berglunds snabbköp",
         "Christina Berglund",
         "Order Administrator",
         "Berguvsvägen  8",
         "Luleå",
         null,
         "S-958 22",
         "Sweden",
         "0921-12 34 65",
         "0921-12 34 67"
        ],
        [
         "BLAUS",
         "Blauer See Delikatessen",
         "Hanna Moos",
         "Sales Representative",
         "Forsterstr. 57",
         "Mannheim",
         null,
         "68306",
         "Germany",
         "0621-08460",
         "0621-08924"
        ],
        [
         "BLONP",
         "Blondesddsl père et fils",
         "Frédérique Citeaux",
         "Marketing Manager",
         "24, place Kléber",
         "Strasbourg",
         null,
         "67000",
         "France",
         "88.60.15.31",
         "88.60.15.32"
        ],
        [
         "BOLID",
         "Bólido Comidas preparadas",
         "Martín Sommer",
         "Owner",
         "C/ Araquil, 67",
         "Madrid",
         null,
         "28023",
         "Spain",
         "(91) 555 22 82",
         "(91) 555 91 99"
        ],
        [
         "BONAP",
         "Bon app'",
         "Laurence Lebihan",
         "Owner",
         "12, rue des Bouchers",
         "Marseille",
         null,
         "13008",
         "France",
         "91.24.45.40",
         "91.24.45.41"
        ],
        [
         "BOTTM",
         "Bottom-Dollar Markets",
         "Elizabeth Lincoln",
         "Accounting Manager",
         "23 Tsawassen Blvd.",
         "Tsawassen",
         "BC",
         "T2F 8M4",
         "Canada",
         "(604) 555-4729",
         "(604) 555-3745"
        ],
        [
         "BSBEV",
         "B's Beverages",
         "Victoria Ashworth",
         "Sales Representative",
         "Fauntleroy Circus",
         "London",
         null,
         "EC2 5NT",
         "UK",
         "(171) 555-1212",
         null
        ],
        [
         "CACTU",
         "Cactus Comidas para llevar",
         "Patricio Simpson",
         "Sales Agent",
         "Cerrito 333",
         "Buenos Aires",
         null,
         "1010",
         "Argentina",
         "(1) 135-5555",
         "(1) 135-4892"
        ],
        [
         "CENTC",
         "Centro comercial Moctezuma",
         "Francisco Chang",
         "Marketing Manager",
         "Sierras de Granada 9993",
         "México D.F.",
         null,
         "05022",
         "Mexico",
         "(5) 555-3392",
         "(5) 555-7293"
        ],
        [
         "CHOPS",
         "Chop-suey Chinese",
         "Yang Wang",
         "Owner",
         "Hauptstr. 29",
         "Bern",
         null,
         "3012",
         "Switzerland",
         "0452-076545",
         null
        ],
        [
         "COMMI",
         "Comércio Mineiro",
         "Pedro Afonso",
         "Sales Associate",
         "Av. dos Lusíadas, 23",
         "Sao Paulo",
         "SP",
         "05432-043",
         "Brazil",
         "(11) 555-7647",
         null
        ],
        [
         "CONSH",
         "Consolidated Holdings",
         "Elizabeth Brown",
         "Sales Representative",
         "Berkeley Gardens 12  Brewery",
         "London",
         null,
         "WX1 6LT",
         "UK",
         "(171) 555-2282",
         "(171) 555-9199"
        ],
        [
         "DRACD",
         "Drachenblut Delikatessen",
         "Sven Ottlieb",
         "Order Administrator",
         "Walserweg 21",
         "Aachen",
         null,
         "52066",
         "Germany",
         "0241-039123",
         "0241-059428"
        ],
        [
         "DUMON",
         "Du monde entier",
         "Janine Labrune",
         "Owner",
         "67, rue des Cinquante Otages",
         "Nantes",
         null,
         "44000",
         "France",
         "40.67.88.88",
         "40.67.89.89"
        ],
        [
         "EASTC",
         "Eastern Connection",
         "Ann Devon",
         "Sales Agent",
         "35 King George",
         "London",
         null,
         "WX3 6FW",
         "UK",
         "(171) 555-0297",
         "(171) 555-3373"
        ],
        [
         "ERNSH",
         "Ernst Handel",
         "Roland Mendel",
         "Sales Manager",
         "Kirchgasse 6",
         "Graz",
         null,
         "8010",
         "Austria",
         "7675-3425",
         "7675-3426"
        ],
        [
         "FAMIA",
         "Familia Arquibaldo",
         "Aria Cruz",
         "Marketing Assistant",
         "Rua Orós, 92",
         "Sao Paulo",
         "SP",
         "05442-030",
         "Brazil",
         "(11) 555-9857",
         null
        ],
        [
         "FISSA",
         "FISSA Fabrica Inter. Salchichas S.A.",
         "Diego Roel",
         "Accounting Manager",
         "C/ Moralzarzal, 86",
         "Madrid",
         null,
         "28034",
         "Spain",
         "(91) 555 94 44",
         "(91) 555 55 93"
        ],
        [
         "FOLIG",
         "Folies gourmandes",
         "Martine Rancé",
         "Assistant Sales Agent",
         "184, chaussée de Tournai",
         "Lille",
         null,
         "59000",
         "France",
         "20.16.10.16",
         "20.16.10.17"
        ],
        [
         "FOLKO",
         "Folk och fä HB",
         "Maria Larsson",
         "Owner",
         "Åkergatan 24",
         "Bräcke",
         null,
         "S-844 67",
         "Sweden",
         "0695-34 67 21",
         null
        ],
        [
         "FRANK",
         "Frankenversand",
         "Peter Franken",
         "Marketing Manager",
         "Berliner Platz 43",
         "München",
         null,
         "80805",
         "Germany",
         "089-0877310",
         "089-0877451"
        ],
        [
         "FRANR",
         "France restauration",
         "Carine Schmitt",
         "Marketing Manager",
         "54, rue Royale",
         "Nantes",
         null,
         "44000",
         "France",
         "40.32.21.21",
         "40.32.21.20"
        ],
        [
         "FRANS",
         "Franchi S.p.A.",
         "Paolo Accorti",
         "Sales Representative",
         "Via Monte Bianco 34",
         "Torino",
         null,
         "10100",
         "Italy",
         "011-4988260",
         "011-4988261"
        ],
        [
         "FURIB",
         "Furia Bacalhau e Frutos do Mar",
         "Lino Rodriguez",
         "Sales Manager",
         "Jardim das rosas n. 32",
         "Lisboa",
         null,
         "1675",
         "Portugal",
         "(1) 354-2534",
         "(1) 354-2535"
        ],
        [
         "GALED",
         "Galería del gastrónomo",
         "Eduardo Saavedra",
         "Marketing Manager",
         "Rambla de Cataluña, 23",
         "Barcelona",
         null,
         "08022",
         "Spain",
         "(93) 203 4560",
         "(93) 203 4561"
        ],
        [
         "GODOS",
         "Godos Cocina Típica",
         "José Pedro Freyre",
         "Sales Manager",
         "C/ Romero, 33",
         "Sevilla",
         null,
         "41101",
         "Spain",
         "(95) 555 82 82",
         null
        ],
        [
         "GOURL",
         "Gourmet Lanchonetes",
         "André Fonseca",
         "Sales Associate",
         "Av. Brasil, 442",
         "Campinas",
         "SP",
         "04876-786",
         "Brazil",
         "(11) 555-9482",
         null
        ],
        [
         "GREAL",
         "Great Lakes Food Market",
         "Howard Snyder",
         "Marketing Manager",
         "2732 Baker Blvd.",
         "Eugene",
         "OR",
         "97403",
         "USA",
         "(503) 555-7555",
         null
        ],
        [
         "GROSR",
         "GROSELLA-Restaurante",
         "Manuel Pereira",
         "Owner",
         "5ª Ave. Los Palos Grandes",
         "Caracas",
         "DF",
         "1081",
         "Venezuela",
         "(2) 283-2951",
         "(2) 283-3397"
        ],
        [
         "HANAR",
         "Hanari Carnes",
         "Mario Pontes",
         "Accounting Manager",
         "Rua do Paço, 67",
         "Rio de Janeiro",
         "RJ",
         "05454-876",
         "Brazil",
         "(21) 555-0091",
         "(21) 555-8765"
        ],
        [
         "HILAA",
         "HILARION-Abastos",
         "Carlos Hernández",
         "Sales Representative",
         "Carrera 22 con Ave. Carlos Soublette #8-35",
         "San Cristóbal",
         "Táchira",
         "5022",
         "Venezuela",
         "(5) 555-1340",
         "(5) 555-1948"
        ],
        [
         "HUNGC",
         "Hungry Coyote Import Store",
         "Yoshi Latimer",
         "Sales Representative",
         "City Center Plaza 516 Main St.",
         "Elgin",
         "OR",
         "97827",
         "USA",
         "(503) 555-6874",
         "(503) 555-2376"
        ],
        [
         "HUNGO",
         "Hungry Owl All-Night Grocers",
         "Patricia McKenna",
         "Sales Associate",
         "8 Johnstown Road",
         "Cork",
         "Co. Cork",
         null,
         "Ireland",
         "2967 542",
         "2967 3333"
        ],
        [
         "ISLAT",
         "Island Trading",
         "Helen Bennett",
         "Marketing Manager",
         "Garden House Crowther Way",
         "Cowes",
         "Isle of Wight",
         "PO31 7PJ",
         "UK",
         "(198) 555-8888",
         null
        ],
        [
         "KOENE",
         "Königlich Essen",
         "Philip Cramer",
         "Sales Associate",
         "Maubelstr. 90",
         "Brandenburg",
         null,
         "14776",
         "Germany",
         "0555-09876",
         null
        ],
        [
         "LACOR",
         "La corne d'abondance",
         "Daniel Tonini",
         "Sales Representative",
         "67, avenue de l'Europe",
         "Versailles",
         null,
         "78000",
         "France",
         "30.59.84.10",
         "30.59.85.11"
        ],
        [
         "LAMAI",
         "La maison d'Asie",
         "Annette Roulet",
         "Sales Manager",
         "1 rue Alsace-Lorraine",
         "Toulouse",
         null,
         "31000",
         "France",
         "61.77.61.10",
         "61.77.61.11"
        ],
        [
         "LAUGB",
         "Laughing Bacchus Wine Cellars",
         "Yoshi Tannamuri",
         "Marketing Assistant",
         "1900 Oak St.",
         "Vancouver",
         "BC",
         "V3F 2K1",
         "Canada",
         "(604) 555-3392",
         "(604) 555-7293"
        ],
        [
         "LAZYK",
         "Lazy K Kountry Store",
         "John Steel",
         "Marketing Manager",
         "12 Orchestra Terrace",
         "Walla Walla",
         "WA",
         "99362",
         "USA",
         "(509) 555-7969",
         "(509) 555-6221"
        ],
        [
         "LEHMS",
         "Lehmanns Marktstand",
         "Renate Messner",
         "Sales Representative",
         "Magazinweg 7",
         "Frankfurt a.M.",
         null,
         "60528",
         "Germany",
         "069-0245984",
         "069-0245874"
        ],
        [
         "LETSS",
         "Let's Stop N Shop",
         "Jaime Yorres",
         "Owner",
         "87 Polk St. Suite 5",
         "San Francisco",
         "CA",
         "94117",
         "USA",
         "(415) 555-5938",
         null
        ],
        [
         "LILAS",
         "LILA-Supermercado",
         "Carlos González",
         "Accounting Manager",
         "Carrera 52 con Ave. Bolívar #65-98 Llano Largo",
         "Barquisimeto",
         "Lara",
         "3508",
         "Venezuela",
         "(9) 331-6954",
         "(9) 331-7256"
        ],
        [
         "LINOD",
         "LINO-Delicateses",
         "Felipe Izquierdo",
         "Owner",
         "Ave. 5 de Mayo Porlamar",
         "I. de Margarita",
         "Nueva Esparta",
         "4980",
         "Venezuela",
         "(8) 34-56-12",
         "(8) 34-93-93"
        ],
        [
         "LONEP",
         "Lonesome Pine Restaurant",
         "Fran Wilson",
         "Sales Manager",
         "89 Chiaroscuro Rd.",
         "Portland",
         "OR",
         "97219",
         "USA",
         "(503) 555-9573",
         "(503) 555-9646"
        ],
        [
         "MAGAA",
         "Magazzini Alimentari Riuniti",
         "Giovanni Rovelli",
         "Marketing Manager",
         "Via Ludovico il Moro 22",
         "Bergamo",
         null,
         "24100",
         "Italy",
         "035-640230",
         "035-640231"
        ],
        [
         "MAISD",
         "Maison Dewey",
         "Catherine Dewey",
         "Sales Agent",
         "Rue Joseph-Bens 532",
         "Bruxelles",
         null,
         "B-1180",
         "Belgium",
         "(02) 201 24 67",
         "(02) 201 24 68"
        ],
        [
         "MEREP",
         "Mère Paillarde",
         "Jean Fresnière",
         "Marketing Assistant",
         "43 rue St. Laurent",
         "Montréal",
         "Québec",
         "H1J 1C3",
         "Canada",
         "(514) 555-8054",
         "(514) 555-8055"
        ],
        [
         "MORGK",
         "Morgenstern Gesundkost",
         "Alexander Feuer",
         "Marketing Assistant",
         "Heerstr. 22",
         "Leipzig",
         null,
         "04179",
         "Germany",
         "0342-023176",
         null
        ],
        [
         "NORTS",
         "North/South",
         "Simon Crowther",
         "Sales Associate",
         "South House 300 Queensbridge",
         "London",
         null,
         "SW7 1RZ",
         "UK",
         "(171) 555-7733",
         "(171) 555-2530"
        ],
        [
         "OCEAN",
         "Océano Atlántico Ltda.",
         "Yvonne Moncada",
         "Sales Agent",
         "Ing. Gustavo Moncada 8585 Piso 20-A",
         "Buenos Aires",
         null,
         "1010",
         "Argentina",
         "(1) 135-5333",
         "(1) 135-5535"
        ],
        [
         "OLDWO",
         "Old World Delicatessen",
         "Rene Phillips",
         "Sales Representative",
         "2743 Bering St.",
         "Anchorage",
         "AK",
         "99508",
         "USA",
         "(907) 555-7584",
         "(907) 555-2880"
        ],
        [
         "OTTIK",
         "Ottilies Käseladen",
         "Henriette Pfalzheim",
         "Owner",
         "Mehrheimerstr. 369",
         "Köln",
         null,
         "50739",
         "Germany",
         "0221-0644327",
         "0221-0765721"
        ],
        [
         "PARIS",
         "Paris spécialités",
         "Marie Bertrand",
         "Owner",
         "265, boulevard Charonne",
         "Paris",
         null,
         "75012",
         "France",
         "(1) 42.34.22.66",
         "(1) 42.34.22.77"
        ],
        [
         "PERIC",
         "Pericles Comidas clásicas",
         "Guillermo Fernández",
         "Sales Representative",
         "Calle Dr. Jorge Cash 321",
         "México D.F.",
         null,
         "05033",
         "Mexico",
         "(5) 552-3745",
         "(5) 545-3745"
        ],
        [
         "PICCO",
         "Piccolo und mehr",
         "Georg Pipps",
         "Sales Manager",
         "Geislweg 14",
         "Salzburg",
         null,
         "5020",
         "Austria",
         "6562-9722",
         "6562-9723"
        ],
        [
         "PRINI",
         "Princesa Isabel Vinhos",
         "Isabel de Castro",
         "Sales Representative",
         "Estrada da saúde n. 58",
         "Lisboa",
         null,
         "1756",
         "Portugal",
         "(1) 356-5634",
         null
        ],
        [
         "QUEDE",
         "Que Delícia",
         "Bernardo Batista",
         "Accounting Manager",
         "Rua da Panificadora, 12",
         "Rio de Janeiro",
         "RJ",
         "02389-673",
         "Brazil",
         "(21) 555-4252",
         "(21) 555-4545"
        ],
        [
         "QUEEN",
         "Queen Cozinha",
         "Lúcia Carvalho",
         "Marketing Assistant",
         "Alameda dos Canàrios, 891",
         "Sao Paulo",
         "SP",
         "05487-020",
         "Brazil",
         "(11) 555-1189",
         null
        ],
        [
         "QUICK",
         "QUICK-Stop",
         "Horst Kloss",
         "Accounting Manager",
         "Taucherstraße 10",
         "Cunewalde",
         null,
         "01307",
         "Germany",
         "0372-035188",
         null
        ],
        [
         "RANCH",
         "Rancho grande",
         "Sergio Gutiérrez",
         "Sales Representative",
         "Av. del Libertador 900",
         "Buenos Aires",
         null,
         "1010",
         "Argentina",
         "(1) 123-5555",
         "(1) 123-5556"
        ],
        [
         "RATTC",
         "Rattlesnake Canyon Grocery",
         "Paula Wilson",
         "Assistant Sales Representative",
         "2817 Milton Dr.",
         "Albuquerque",
         "NM",
         "87110",
         "USA",
         "(505) 555-5939",
         "(505) 555-3620"
        ],
        [
         "REGGC",
         "Reggiani Caseifici",
         "Maurizio Moroni",
         "Sales Associate",
         "Strada Provinciale 124",
         "Reggio Emilia",
         null,
         "42100",
         "Italy",
         "0522-556721",
         "0522-556722"
        ],
        [
         "RICAR",
         "Ricardo Adocicados",
         "Janete Limeira",
         "Assistant Sales Agent",
         "Av. Copacabana, 267",
         "Rio de Janeiro",
         "RJ",
         "02389-890",
         "Brazil",
         "(21) 555-3412",
         null
        ],
        [
         "RICSU",
         "Richter Supermarkt",
         "Michael Holz",
         "Sales Manager",
         "Grenzacherweg 237",
         "Genève",
         null,
         "1203",
         "Switzerland",
         "0897-034214",
         null
        ],
        [
         "ROMEY",
         "Romero y tomillo",
         "Alejandra Camino",
         "Accounting Manager",
         "Gran Vía, 1",
         "Madrid",
         null,
         "28001",
         "Spain",
         "(91) 745 6200",
         "(91) 745 6210"
        ],
        [
         "SANTG",
         "Santé Gourmet",
         "Jonas Bergulfsen",
         "Owner",
         "Erling Skakkes gate 78",
         "Stavern",
         null,
         "4110",
         "Norway",
         "07-98 92 35",
         "07-98 92 47"
        ],
        [
         "SAVEA",
         "Save-a-lot Markets",
         "Jose Pavarotti",
         "Sales Representative",
         "187 Suffolk Ln.",
         "Boise",
         "ID",
         "83720",
         "USA",
         "(208) 555-8097",
         null
        ],
        [
         "SEVES",
         "Seven Seas Imports",
         "Hari Kumar",
         "Sales Manager",
         "90 Wadhurst Rd.",
         "London",
         null,
         "OX15 4NB",
         "UK",
         "(171) 555-1717",
         "(171) 555-5646"
        ],
        [
         "SIMOB",
         "Simons bistro",
         "Jytte Petersen",
         "Owner",
         "Vinbæltet 34",
         "Kobenhavn",
         null,
         "1734",
         "Denmark",
         "31 12 34 56",
         "31 13 35 57"
        ],
        [
         "SPECD",
         "Spécialités du monde",
         "Dominique Perrier",
         "Marketing Manager",
         "25, rue Lauriston",
         "Paris",
         null,
         "75016",
         "France",
         "(1) 47.55.60.10",
         "(1) 47.55.60.20"
        ],
        [
         "SPLIR",
         "Split Rail Beer & Ale",
         "Art Braunschweiger",
         "Sales Manager",
         "P.O. Box 555",
         "Lander",
         "WY",
         "82520",
         "USA",
         "(307) 555-4680",
         "(307) 555-6525"
        ],
        [
         "SUPRD",
         "Suprêmes délices",
         "Pascale Cartrain",
         "Accounting Manager",
         "Boulevard Tirou, 255",
         "Charleroi",
         null,
         "B-6000",
         "Belgium",
         "(071) 23 67 22 20",
         "(071) 23 67 22 21"
        ],
        [
         "THEBI",
         "The Big Cheese",
         "Liz Nixon",
         "Marketing Manager",
         "89 Jefferson Way Suite 2",
         "Portland",
         "OR",
         "97201",
         "USA",
         "(503) 555-3612",
         null
        ],
        [
         "THECR",
         "The Cracker Box",
         "Liu Wong",
         "Marketing Assistant",
         "55 Grizzly Peak Rd.",
         "Butte",
         "MT",
         "59801",
         "USA",
         "(406) 555-5834",
         "(406) 555-8083"
        ],
        [
         "TOMSP",
         "Toms Spezialitäten",
         "Karin Josephs",
         "Marketing Manager",
         "Luisenstr. 48",
         "Münster",
         null,
         "44087",
         "Germany",
         "0251-031259",
         "0251-035695"
        ],
        [
         "TORTU",
         "Tortuga Restaurante",
         "Miguel Angel Paolino",
         "Owner",
         "Avda. Azteca 123",
         "México D.F.",
         null,
         "05033",
         "Mexico",
         "(5) 555-2933",
         null
        ],
        [
         "TRADH",
         "Tradição Hipermercados",
         "Anabela Domingues",
         "Sales Representative",
         "Av. Inês de Castro, 414",
         "Sao Paulo",
         "SP",
         "05634-030",
         "Brazil",
         "(11) 555-2167",
         "(11) 555-2168"
        ],
        [
         "TRAIH",
         "Trail's Head Gourmet Provisioners",
         "Helvetius Nagy",
         "Sales Associate",
         "722 DaVinci Blvd.",
         "Kirkland",
         "WA",
         "98034",
         "USA",
         "(206) 555-8257",
         "(206) 555-2174"
        ],
        [
         "VAFFE",
         "Vaffeljernet",
         "Palle Ibsen",
         "Sales Manager",
         "Smagsloget 45",
         "Århus",
         null,
         "8200",
         "Denmark",
         "86 21 32 43",
         "86 22 33 44"
        ],
        [
         "VICTE",
         "Victuailles en stock",
         "Mary Saveley",
         "Sales Agent",
         "2, rue du Commerce",
         "Lyon",
         null,
         "69004",
         "France",
         "78.32.54.86",
         "78.32.54.87"
        ],
        [
         "VINET",
         "Vins et alcools Chevalier",
         "Paul Henriot",
         "Accounting Manager",
         "59 rue de l'Abbaye",
         "Reims",
         null,
         "51100",
         "France",
         "26.47.15.10",
         "26.47.15.11"
        ],
        [
         "WANDK",
         "Die Wandernde Kuh",
         "Rita Müller",
         "Sales Representative",
         "Adenauerallee 900",
         "Stuttgart",
         null,
         "70563",
         "Germany",
         "0711-020361",
         "0711-035428"
        ],
        [
         "WARTH",
         "Wartian Herkku",
         "Pirkko Koskitalo",
         "Accounting Manager",
         "Torikatu 38",
         "Oulu",
         null,
         "90110",
         "Finland",
         "981-443655",
         "981-443655"
        ],
        [
         "WELLI",
         "Wellington Importadora",
         "Paula Parente",
         "Sales Manager",
         "Rua do Mercado, 12",
         "Resende",
         "SP",
         "08737-363",
         "Brazil",
         "(14) 555-8122",
         null
        ],
        [
         "WHITC",
         "White Clover Markets",
         "Karl Jablonski",
         "Owner",
         "305 - 14th Ave. S. Suite 3B",
         "Seattle",
         "WA",
         "98128",
         "USA",
         "(206) 555-4112",
         "(206) 555-4115"
        ],
        [
         "WILMK",
         "Wilman Kala",
         "Matti Karttunen",
         "Owner/Marketing Assistant",
         "Keskuskatu 45",
         "Helsinki",
         null,
         "21240",
         "Finland",
         "90-224 8858",
         "90-224 8858"
        ],
        [
         "WOLZA",
         "Wolski  Zajazd",
         "Zbyszek Piestrzeniewicz",
         "Owner",
         "ul. Filtrowa 68",
         "Warszawa",
         null,
         "01-012",
         "Poland",
         "(26) 642-7012",
         "(26) 642-7012"
        ]
       ],
       "datasetInfos": [],
       "dbfsResultPath": null,
       "isJsonSchema": true,
       "metadata": {},
       "overflow": false,
       "plotOptions": {
        "customPlotOptions": {},
        "displayType": "table",
        "pivotAggregation": null,
        "pivotColumns": null,
        "xColumns": null,
        "yColumns": null
       },
       "removedWidgets": [],
       "schema": [
        {
         "metadata": "{\"scale\":0}",
         "name": "customer_id",
         "type": "\"string\""
        },
        {
         "metadata": "{\"scale\":0}",
         "name": "company_name",
         "type": "\"string\""
        },
        {
         "metadata": "{\"scale\":0}",
         "name": "contact_name",
         "type": "\"string\""
        },
        {
         "metadata": "{\"scale\":0}",
         "name": "contact_title",
         "type": "\"string\""
        },
        {
         "metadata": "{\"scale\":0}",
         "name": "address",
         "type": "\"string\""
        },
        {
         "metadata": "{\"scale\":0}",
         "name": "city",
         "type": "\"string\""
        },
        {
         "metadata": "{\"scale\":0}",
         "name": "region",
         "type": "\"string\""
        },
        {
         "metadata": "{\"scale\":0}",
         "name": "postal_code",
         "type": "\"string\""
        },
        {
         "metadata": "{\"scale\":0}",
         "name": "country",
         "type": "\"string\""
        },
        {
         "metadata": "{\"scale\":0}",
         "name": "phone",
         "type": "\"string\""
        },
        {
         "metadata": "{\"scale\":0}",
         "name": "fax",
         "type": "\"string\""
        }
       ],
       "type": "table"
      }
     },
     "output_type": "display_data"
    }
   ],
   "source": [
    "sql_customers.display()"
   ]
  },
  {
   "cell_type": "code",
   "execution_count": null,
   "metadata": {
    "application/vnd.databricks.v1+cell": {
     "cellMetadata": {},
     "inputWidgets": {},
     "nuid": "ab5a6fd5-9986-4bfb-b61a-cae8876618b7",
     "showTitle": true,
     "title": "Pregunta 1"
    }
   },
   "outputs": [
    {
     "data": {
      "text/html": [
       "<style scoped>\n",
       "  .table-result-container {\n",
       "    max-height: 300px;\n",
       "    overflow: auto;\n",
       "  }\n",
       "  table, th, td {\n",
       "    border: 1px solid black;\n",
       "    border-collapse: collapse;\n",
       "  }\n",
       "  th, td {\n",
       "    padding: 5px;\n",
       "  }\n",
       "  th {\n",
       "    text-align: left;\n",
       "  }\n",
       "</style><div class='table-result-container'><table class='table-result'><thead style='background-color: white'><tr><th>employee_id</th><th>avg_deliver_time</th></tr></thead><tbody><tr><td>8</td><td>29.076923076923077</td></tr><tr><td>7</td><td>28.77777777777778</td></tr><tr><td>6</td><td>28.417910447761194</td></tr><tr><td>5</td><td>28.0</td></tr><tr><td>9</td><td>27.674418604651162</td></tr><tr><td>2</td><td>27.5625</td></tr><tr><td>3</td><td>27.559055118110237</td></tr><tr><td>1</td><td>27.54471544715447</td></tr><tr><td>4</td><td>27.192307692307693</td></tr></tbody></table></div>"
      ]
     },
     "metadata": {
      "application/vnd.databricks.v1+output": {
       "addedWidgets": {},
       "aggData": [],
       "aggError": "",
       "aggOverflow": false,
       "aggSchema": [],
       "aggSeriesLimitReached": false,
       "aggType": "",
       "arguments": {},
       "columnCustomDisplayInfos": {},
       "data": [
        [
         8,
         29.076923076923077
        ],
        [
         7,
         28.77777777777778
        ],
        [
         6,
         28.417910447761194
        ],
        [
         5,
         28
        ],
        [
         9,
         27.674418604651162
        ],
        [
         2,
         27.5625
        ],
        [
         3,
         27.559055118110237
        ],
        [
         1,
         27.54471544715447
        ],
        [
         4,
         27.192307692307693
        ]
       ],
       "datasetInfos": [],
       "dbfsResultPath": null,
       "isJsonSchema": true,
       "metadata": {},
       "overflow": false,
       "plotOptions": {
        "customPlotOptions": {},
        "displayType": "table",
        "pivotAggregation": null,
        "pivotColumns": null,
        "xColumns": null,
        "yColumns": null
       },
       "removedWidgets": [],
       "schema": [
        {
         "metadata": "{\"scale\":0}",
         "name": "employee_id",
         "type": "\"short\""
        },
        {
         "metadata": "{}",
         "name": "avg_deliver_time",
         "type": "\"double\""
        }
       ],
       "type": "table"
      }
     },
     "output_type": "display_data"
    }
   ],
   "source": [
    "sqlContext.sql(\"SELECT employee_id, AVG(datediff(day, order_date, required_date)) as avg_deliver_time \\\n",
    "FROM sql_orders \\\n",
    "group by employee_id \\\n",
    "order by avg_deliver_time desc\").display()"
   ]
  },
  {
   "cell_type": "code",
   "execution_count": null,
   "metadata": {
    "application/vnd.databricks.v1+cell": {
     "cellMetadata": {},
     "inputWidgets": {},
     "nuid": "e0a5a02d-59c2-4237-9a86-163e615b9c79",
     "showTitle": true,
     "title": "Pregunta 2"
    }
   },
   "outputs": [
    {
     "data": {
      "text/html": [
       "<style scoped>\n",
       "  .table-result-container {\n",
       "    max-height: 300px;\n",
       "    overflow: auto;\n",
       "  }\n",
       "  table, th, td {\n",
       "    border: 1px solid black;\n",
       "    border-collapse: collapse;\n",
       "  }\n",
       "  th, td {\n",
       "    padding: 5px;\n",
       "  }\n",
       "  th {\n",
       "    text-align: left;\n",
       "  }\n",
       "</style><div class='table-result-container'><table class='table-result'><thead style='background-color: white'><tr><th>product_id</th><th>product_name</th><th>quantity</th><th>price_with_discount</th></tr></thead><tbody><tr><td>11</td><td>Queso Cabrales</td><td>12</td><td>168.0</td></tr><tr><td>42</td><td>Singaporean Hokkien Fried Mee</td><td>10</td><td>98.0</td></tr><tr><td>72</td><td>Mozzarella di Giovanni</td><td>5</td><td>174.0</td></tr><tr><td>14</td><td>Tofu</td><td>9</td><td>167.40001</td></tr><tr><td>51</td><td>Manjimup Dried Apples</td><td>40</td><td>1696.0</td></tr><tr><td>41</td><td>Jack's New England Clam Chowder</td><td>10</td><td>77.0</td></tr><tr><td>51</td><td>Manjimup Dried Apples</td><td>35</td><td>1478.75</td></tr><tr><td>65</td><td>Louisiana Fiery Hot Pepper Sauce</td><td>15</td><td>249.75</td></tr><tr><td>22</td><td>Gustaf's Knäckebröd</td><td>6</td><td>100.5</td></tr><tr><td>57</td><td>Ravioli Angelo</td><td>15</td><td>233.25</td></tr><tr><td>65</td><td>Louisiana Fiery Hot Pepper Sauce</td><td>20</td><td>336.0</td></tr><tr><td>20</td><td>Sir Rodney's Marmalade</td><td>40</td><td>2590.0</td></tr><tr><td>33</td><td>Geitost</td><td>25</td><td>48.75</td></tr><tr><td>60</td><td>Camembert Pierrot</td><td>40</td><td>1088.0</td></tr><tr><td>31</td><td>Gorgonzola Telino</td><td>20</td><td>200.0</td></tr><tr><td>39</td><td>Chartreuse verte</td><td>42</td><td>604.8</td></tr><tr><td>49</td><td>Maxilaku</td><td>40</td><td>640.0</td></tr><tr><td>24</td><td>Guaraná Fantástica</td><td>15</td><td>51.749996</td></tr><tr><td>55</td><td>Pâté chinois</td><td>21</td><td>400.05002</td></tr><tr><td>74</td><td>Longlife Tofu</td><td>21</td><td>168.0</td></tr><tr><td>2</td><td>Chang</td><td>20</td><td>304.0</td></tr><tr><td>16</td><td>Pavlova</td><td>35</td><td>486.5</td></tr><tr><td>36</td><td>Inlagd Sill</td><td>25</td><td>380.0</td></tr><tr><td>59</td><td>Raclette Courdavault</td><td>30</td><td>1320.0</td></tr><tr><td>53</td><td>Perth Pasties</td><td>15</td><td>393.0</td></tr><tr><td>77</td><td>Original Frankfurter grüne Soße</td><td>12</td><td>124.799995</td></tr><tr><td>27</td><td>Schoggi Schokolade</td><td>25</td><td>877.49994</td></tr><tr><td>39</td><td>Chartreuse verte</td><td>6</td><td>86.399994</td></tr><tr><td>77</td><td>Original Frankfurter grüne Soße</td><td>15</td><td>156.0</td></tr><tr><td>2</td><td>Chang</td><td>50</td><td>750.0</td></tr><tr><td>5</td><td>Chef Anton's Gumbo Mix</td><td>65</td><td>1092.0</td></tr><tr><td>32</td><td>Mascarpone Fabioli</td><td>6</td><td>152.4</td></tr><tr><td>21</td><td>Sir Rodney's Scones</td><td>10</td><td>80.0</td></tr><tr><td>37</td><td>Gravad lax</td><td>1</td><td>20.8</td></tr><tr><td>41</td><td>Jack's New England Clam Chowder</td><td>16</td><td>119.2</td></tr><tr><td>57</td><td>Ravioli Angelo</td><td>50</td><td>780.0</td></tr><tr><td>62</td><td>Tarte au sucre</td><td>15</td><td>587.25</td></tr><tr><td>70</td><td>Outback Lager</td><td>21</td><td>246.75</td></tr><tr><td>21</td><td>Sir Rodney's Scones</td><td>20</td><td>160.0</td></tr><tr><td>35</td><td>Steeleye Stout</td><td>20</td><td>288.0</td></tr><tr><td>5</td><td>Chef Anton's Gumbo Mix</td><td>12</td><td>201.59999</td></tr><tr><td>7</td><td>Uncle Bob's Organic Dried Pears</td><td>15</td><td>360.0</td></tr><tr><td>56</td><td>Gnocchi di nonna Alice</td><td>2</td><td>60.8</td></tr><tr><td>16</td><td>Pavlova</td><td>60</td><td>819.0</td></tr><tr><td>24</td><td>Guaraná Fantástica</td><td>28</td><td>100.799995</td></tr><tr><td>30</td><td>Nord-Ost Matjeshering</td><td>60</td><td>1227.0</td></tr><tr><td>74</td><td>Longlife Tofu</td><td>36</td><td>279.0</td></tr><tr><td>2</td><td>Chang</td><td>35</td><td>532.0</td></tr><tr><td>41</td><td>Jack's New England Clam Chowder</td><td>25</td><td>188.75</td></tr><tr><td>17</td><td>Alice Mutton</td><td>30</td><td>936.0</td></tr><tr><td>70</td><td>Outback Lager</td><td>20</td><td>240.0</td></tr><tr><td>12</td><td>Queso Manchego La Pastora</td><td>12</td><td>364.2</td></tr><tr><td>40</td><td>Boston Crab Meat</td><td>50</td><td>735.0</td></tr><tr><td>59</td><td>Raclette Courdavault</td><td>70</td><td>3069.5</td></tr><tr><td>76</td><td>Lakkalikööri</td><td>15</td><td>213.75</td></tr><tr><td>29</td><td>Thüringer Rostbratwurst</td><td>10</td><td>990.0</td></tr><tr><td>72</td><td>Mozzarella di Giovanni</td><td>4</td><td>111.2</td></tr><tr><td>33</td><td>Geitost</td><td>60</td><td>117.0</td></tr><tr><td>72</td><td>Mozzarella di Giovanni</td><td>20</td><td>555.0</td></tr><tr><td>36</td><td>Inlagd Sill</td><td>30</td><td>456.0</td></tr><tr><td>43</td><td>Ipoh Coffee</td><td>25</td><td>920.0</td></tr><tr><td>33</td><td>Geitost</td><td>24</td><td>48.0</td></tr><tr><td>20</td><td>Sir Rodney's Marmalade</td><td>6</td><td>388.80002</td></tr><tr><td>31</td><td>Gorgonzola Telino</td><td>40</td><td>400.0</td></tr><tr><td>72</td><td>Mozzarella di Giovanni</td><td>24</td><td>667.19995</td></tr><tr><td>10</td><td>Ikura</td><td>24</td><td>594.0</td></tr><tr><td>31</td><td>Gorgonzola Telino</td><td>15</td><td>149.25</td></tr><tr><td>33</td><td>Geitost</td><td>20</td><td>40.0</td></tr><tr><td>40</td><td>Boston Crab Meat</td><td>60</td><td>879.0</td></tr><tr><td>76</td><td>Lakkalikööri</td><td>33</td><td>473.55</td></tr><tr><td>71</td><td>Flotemysost</td><td>20</td><td>344.0</td></tr><tr><td>72</td><td>Mozzarella di Giovanni</td><td>7</td><td>194.59999</td></tr><tr><td>24</td><td>Guaraná Fantástica</td><td>12</td><td>42.6</td></tr><tr><td>59</td><td>Raclette Courdavault</td><td>6</td><td>263.7</td></tr><tr><td>10</td><td>Ikura</td><td>15</td><td>372.0</td></tr><tr><td>13</td><td>Konbu</td><td>10</td><td>48.0</td></tr><tr><td>28</td><td>Rössle Sauerkraut</td><td>20</td><td>728.0</td></tr><tr><td>62</td><td>Tarte au sucre</td><td>12</td><td>472.80002</td></tr><tr><td>44</td><td>Gula Malacca</td><td>16</td><td>248.0</td></tr><tr><td>59</td><td>Raclette Courdavault</td><td>15</td><td>660.0</td></tr><tr><td>63</td><td>Vegie-spread</td><td>8</td><td>280.8</td></tr><tr><td>73</td><td>Röd Kaviar</td><td>25</td><td>300.0</td></tr><tr><td>17</td><td>Alice Mutton</td><td>15</td><td>464.25</td></tr><tr><td>24</td><td>Guaraná Fantástica</td><td>12</td><td>43.199997</td></tr><tr><td>55</td><td>Pâté chinois</td><td>20</td><td>384.0</td></tr><tr><td>75</td><td>Rhönbräu Klosterbier</td><td>30</td><td>186.0</td></tr><tr><td>19</td><td>Teatime Chocolate Biscuits</td><td>1</td><td>7.3</td></tr><tr><td>24</td><td>Guaraná Fantástica</td><td>6</td><td>21.599998</td></tr><tr><td>35</td><td>Steeleye Stout</td><td>4</td><td>57.6</td></tr><tr><td>30</td><td>Nord-Ost Matjeshering</td><td>6</td><td>124.200005</td></tr><tr><td>57</td><td>Ravioli Angelo</td><td>2</td><td>31.2</td></tr><tr><td>15</td><td>Genen Shouyu</td><td>20</td><td>248.0</td></tr><tr><td>19</td><td>Teatime Chocolate Biscuits</td><td>18</td><td>131.40001</td></tr><tr><td>60</td><td>Camembert Pierrot</td><td>35</td><td>952.0</td></tr><tr><td>72</td><td>Mozzarella di Giovanni</td><td>3</td><td>83.399994</td></tr><tr><td>27</td><td>Schoggi Schokolade</td><td>15</td><td>522.75</td></tr><tr><td>44</td><td>Gula Malacca</td><td>21</td><td>325.5</td></tr><tr><td>60</td><td>Camembert Pierrot</td><td>20</td><td>539.0</td></tr><tr><td>67</td><td>Laughing Lumberjack Lager</td><td>5</td><td>54.75</td></tr><tr><td>1</td><td>Chai</td><td>45</td><td>639.0</td></tr><tr><td>40</td><td>Boston Crab Meat</td><td>40</td><td>580.0</td></tr><tr><td>53</td><td>Perth Pasties</td><td>36</td><td>936.0</td></tr><tr><td>35</td><td>Steeleye Stout</td><td>100</td><td>1440.0</td></tr><tr><td>62</td><td>Tarte au sucre</td><td>40</td><td>1576.0</td></tr><tr><td>16</td><td>Pavlova</td><td>40</td><td>550.0</td></tr><tr><td>34</td><td>Sasquatch Ale</td><td>20</td><td>224.0</td></tr><tr><td>46</td><td>Spegesild</td><td>15</td><td>141.75002</td></tr><tr><td>54</td><td>Tourtière</td><td>10</td><td>58.0</td></tr><tr><td>68</td><td>Scottish Longbreads</td><td>3</td><td>29.699999</td></tr><tr><td>3</td><td>Aniseed Syrup</td><td>30</td><td>240.0</td></tr><tr><td>64</td><td>Wimmers gute Semmelknödel</td><td>9</td><td>239.40001</td></tr><tr><td>5</td><td>Chef Anton's Gumbo Mix</td><td>20</td><td>340.0</td></tr><tr><td>29</td><td>Thüringer Rostbratwurst</td><td>15</td><td>1485.0</td></tr><tr><td>49</td><td>Maxilaku</td><td>15</td><td>240.0</td></tr><tr><td>77</td><td>Original Frankfurter grüne Soße</td><td>10</td><td>104.0</td></tr><tr><td>13</td><td>Konbu</td><td>20</td><td>94.00001</td></tr><tr><td>44</td><td>Gula Malacca</td><td>24</td><td>369.59998</td></tr><tr><td>51</td><td>Manjimup Dried Apples</td><td>2</td><td>84.600006</td></tr><tr><td>20</td><td>Sir Rodney's Marmalade</td><td>20</td><td>1296.0</td></tr><tr><td>18</td><td>Carnarvon Tigers</td><td>12</td><td>600.0</td></tr><tr><td>24</td><td>Guaraná Fantástica</td><td>10</td><td>36.0</td></tr><tr><td>63</td><td>Vegie-spread</td><td>5</td><td>175.5</td></tr><tr><td>75</td><td>Rhönbräu Klosterbier</td><td>6</td><td>37.199997</td></tr><tr><td>1</td><td>Chai</td><td>18</td><td>259.19998</td></tr><tr><td>17</td><td>Alice Mutton</td><td>15</td><td>468.0</td></tr><tr><td>43</td><td>Ipoh Coffee</td><td>15</td><td>552.0</td></tr><tr><td>60</td><td>Camembert Pierrot</td><td>21</td><td>571.2</td></tr><tr><td>75</td><td>Rhönbräu Klosterbier</td><td>6</td><td>37.199997</td></tr><tr><td>56</td><td>Gnocchi di nonna Alice</td><td>4</td><td>121.6</td></tr><tr><td>11</td><td>Queso Cabrales</td><td>12</td><td>201.59999</td></tr><tr><td>16</td><td>Pavlova</td><td>30</td><td>417.0</td></tr><tr><td>69</td><td>Gudbrandsdalsost</td><td>15</td><td>432.0</td></tr><tr><td>39</td><td>Chartreuse verte</td><td>60</td><td>864.0</td></tr><tr><td>72</td><td>Mozzarella di Giovanni</td><td>20</td><td>556.0</td></tr><tr><td>2</td><td>Chang</td><td>40</td><td>608.0</td></tr><tr><td>36</td><td>Inlagd Sill</td><td>40</td><td>598.0</td></tr><tr><td>59</td><td>Raclette Courdavault</td><td>30</td><td>1312.5</td></tr><tr><td>62</td><td>Tarte au sucre</td><td>15</td><td>591.0</td></tr><tr><td>19</td><td>Teatime Chocolate Biscuits</td><td>15</td><td>109.5</td></tr><tr><td>70</td><td>Outback Lager</td><td>20</td><td>240.0</td></tr><tr><td>66</td><td>Louisiana Hot Spiced Okra</td><td>30</td><td>408.0</td></tr><tr><td>68</td><td>Scottish Longbreads</td><td>20</td><td>200.0</td></tr><tr><td>40</td><td>Boston Crab Meat</td><td>10</td><td>147.0</td></tr><tr><td>56</td><td>Gnocchi di nonna Alice</td><td>20</td><td>608.0</td></tr><tr><td>17</td><td>Alice Mutton</td><td>40</td><td>1248.0</td></tr><tr><td>28</td><td>Rössle Sauerkraut</td><td>28</td><td>1019.2001</td></tr><tr><td>43</td><td>Ipoh Coffee</td><td>12</td><td>441.59998</td></tr><tr><td>40</td><td>Boston Crab Meat</td><td>40</td><td>584.0</td></tr><tr><td>65</td><td>Louisiana Fiery Hot Pepper Sauce</td><td>30</td><td>500.99997</td></tr><tr><td>68</td><td>Scottish Longbreads</td><td>15</td><td>148.5</td></tr><tr><td>49</td><td>Maxilaku</td><td>30</td><td>480.0</td></tr><tr><td>59</td><td>Raclette Courdavault</td><td>10</td><td>440.0</td></tr><tr><td>71</td><td>Flotemysost</td><td>2</td><td>34.4</td></tr><tr><td>18</td><td>Carnarvon Tigers</td><td>25</td><td>1247.5</td></tr><tr><td>29</td><td>Thüringer Rostbratwurst</td><td>25</td><td>2472.5</td></tr><tr><td>39</td><td>Chartreuse verte</td><td>30</td><td>428.99997</td></tr><tr><td>30</td><td>Nord-Ost Matjeshering</td><td>10</td><td>207.0</td></tr><tr><td>53</td><td>Perth Pasties</td><td>10</td><td>262.0</td></tr><tr><td>54</td><td>Tourtière</td><td>5</td><td>29.5</td></tr><tr><td>62</td><td>Tarte au sucre</td><td>10</td><td>394.0</td></tr><tr><td>68</td><td>Scottish Longbreads</td><td>3</td><td>30.0</td></tr><tr><td>69</td><td>Gudbrandsdalsost</td><td>1</td><td>28.8</td></tr><tr><td>70</td><td>Outback Lager</td><td>5</td><td>60.0</td></tr><tr><td>4</td><td>Chef Anton's Cajun Seasoning</td><td>20</td><td>352.0</td></tr><tr><td>6</td><td>Grandma's Boysenberry Spread</td><td>30</td><td>600.0</td></tr><tr><td>42</td><td>Singaporean Hokkien Fried Mee</td><td>2</td><td>22.4</td></tr><tr><td>43</td><td>Ipoh Coffee</td><td>20</td><td>736.0</td></tr><tr><td>71</td><td>Flotemysost</td><td>3</td><td>51.600002</td></tr><tr><td>16</td><td>Pavlova</td><td>10</td><td>139.0</td></tr><tr><td>62</td><td>Tarte au sucre</td><td>5</td><td>197.0</td></tr><tr><td>42</td><td>Singaporean Hokkien Fried Mee</td><td>6</td><td>67.2</td></tr><tr><td>69</td><td>Gudbrandsdalsost</td><td>7</td><td>201.59999</td></tr><tr><td>28</td><td>Rössle Sauerkraut</td><td>4</td><td>145.6</td></tr><tr><td>43</td><td>Ipoh Coffee</td><td>24</td><td>883.19995</td></tr><tr><td>53</td><td>Perth Pasties</td><td>20</td><td>524.0</td></tr><tr><td>75</td><td>Rhönbräu Klosterbier</td><td>10</td><td>62.0</td></tr><tr><td>36</td><td>Inlagd Sill</td><td>12</td><td>182.4</td></tr><tr><td>32</td><td>Mascarpone Fabioli</td><td>40</td><td>1020.0</td></tr><tr><td>58</td><td>Escargots de Bourgogne</td><td>30</td><td>315.0</td></tr><tr><td>62</td><td>Tarte au sucre</td><td>25</td><td>982.50006</td></tr><tr><td>34</td><td>Sasquatch Ale</td><td>14</td><td>156.8</td></tr><tr><td>70</td><td>Outback Lager</td><td>30</td><td>360.0</td></tr><tr><td>41</td><td>Jack's New England Clam Chowder</td><td>10</td><td>77.0</td></tr><tr><td>62</td><td>Tarte au sucre</td><td>70</td><td>2758.0</td></tr><tr><td>1</td><td>Chai</td><td>20</td><td>288.0</td></tr><tr><td>41</td><td>Jack's New England Clam Chowder</td><td>20</td><td>154.0</td></tr><tr><td>76</td><td>Lakkalikööri</td><td>6</td><td>86.399994</td></tr><tr><td>17</td><td>Alice Mutton</td><td>8</td><td>249.6</td></tr><tr><td>28</td><td>Rössle Sauerkraut</td><td>14</td><td>509.60004</td></tr><tr><td>76</td><td>Lakkalikööri</td><td>30</td><td>432.0</td></tr><tr><td>71</td><td>Flotemysost</td><td>30</td><td>516.0</td></tr><tr><td>35</td><td>Steeleye Stout</td><td>10</td><td>144.0</td></tr><tr><td>52</td><td>Filo Mix</td><td>20</td><td>112.0</td></tr><tr><td>15</td><td>Genen Shouyu</td><td>5</td><td>62.0</td></tr><tr><td>25</td><td>NuNuCa Nuß-Nougat-Creme</td><td>4</td><td>44.8</td></tr><tr><td>39</td><td>Chartreuse verte</td><td>4</td><td>57.6</td></tr><tr><td>16</td><td>Pavlova</td><td>21</td><td>288.75</td></tr><tr><td>35</td><td>Steeleye Stout</td><td>70</td><td>997.5</td></tr><tr><td>46</td><td>Spegesild</td><td>30</td><td>288.0</td></tr><tr><td>59</td><td>Raclette Courdavault</td><td>40</td><td>1754.0</td></tr><tr><td>63</td><td>Vegie-spread</td><td>80</td><td>2795.9998</td></tr><tr><td>6</td><td>Grandma's Boysenberry Spread</td><td>6</td><td>120.0</td></tr><tr><td>13</td><td>Konbu</td><td>12</td><td>57.600002</td></tr><tr><td>14</td><td>Tofu</td><td>9</td><td>167.40001</td></tr><tr><td>31</td><td>Gorgonzola Telino</td><td>4</td><td>40.0</td></tr><tr><td>72</td><td>Mozzarella di Giovanni</td><td>40</td><td>1112.0</td></tr><tr><td>4</td><td>Chef Anton's Cajun Seasoning</td><td>24</td><td>422.40002</td></tr><tr><td>57</td><td>Ravioli Angelo</td><td>16</td><td>249.6</td></tr><tr><td>75</td><td>Rhönbräu Klosterbier</td><td>50</td><td>310.0</td></tr><tr><td>2</td><td>Chang</td><td>25</td><td>375.0</td></tr><tr><td>11</td><td>Queso Cabrales</td><td>50</td><td>829.99994</td></tr><tr><td>30</td><td>Nord-Ost Matjeshering</td><td>35</td><td>717.5</td></tr><tr><td>58</td><td>Escargots de Bourgogne</td><td>30</td><td>312.00003</td></tr><tr><td>59</td><td>Raclette Courdavault</td><td>9</td><td>396.0</td></tr><tr><td>65</td><td>Louisiana Fiery Hot Pepper Sauce</td><td>40</td><td>672.0</td></tr><tr><td>68</td><td>Scottish Longbreads</td><td>10</td><td>100.0</td></tr><tr><td>19</td><td>Teatime Chocolate Biscuits</td><td>10</td><td>72.5</td></tr><tr><td>30</td><td>Nord-Ost Matjeshering</td><td>8</td><td>165.20001</td></tr><tr><td>38</td><td>Côte de Blaye</td><td>20</td><td>4215.0</td></tr><tr><td>56</td><td>Gnocchi di nonna Alice</td><td>12</td><td>364.2</td></tr><tr><td>26</td><td>Gumbär Gummibärchen</td><td>50</td><td>1237.5</td></tr><tr><td>72</td><td>Mozzarella di Giovanni</td><td>25</td><td>691.25</td></tr><tr><td>54</td><td>Tourtière</td><td>15</td><td>88.5</td></tr><tr><td>18</td><td>Carnarvon Tigers</td><td>40</td><td>1992.0</td></tr><tr><td>42</td><td>Singaporean Hokkien Fried Mee</td><td>10</td><td>110.0</td></tr><tr><td>47</td><td>Zaanse koeken</td><td>16</td><td>118.4</td></tr><tr><td>14</td><td>Tofu</td><td>10</td><td>186.0</td></tr><tr><td>21</td><td>Sir Rodney's Scones</td><td>10</td><td>79.0</td></tr><tr><td>71</td><td>Flotemysost</td><td>40</td><td>684.0</td></tr><tr><td>52</td><td>Filo Mix</td><td>8</td><td>44.8</td></tr><tr><td>68</td><td>Scottish Longbreads</td><td>10</td><td>100.0</td></tr><tr><td>2</td><td>Chang</td><td>7</td><td>105.0</td></tr><tr><td>31</td><td>Gorgonzola Telino</td><td>25</td><td>245.0</td></tr><tr><td>32</td><td>Mascarpone Fabioli</td><td>6</td><td>152.4</td></tr><tr><td>51</td><td>Manjimup Dried Apples</td><td>48</td><td>2025.6001</td></tr><tr><td>4</td><td>Chef Anton's Cajun Seasoning</td><td>18</td><td>315.0</td></tr><tr><td>23</td><td>Tunnbröd</td><td>40</td><td>288.0</td></tr><tr><td>26</td><td>Gumbär Gummibärchen</td><td>24</td><td>597.6</td></tr><tr><td>36</td><td>Inlagd Sill</td><td>20</td><td>304.0</td></tr><tr><td>37</td><td>Gravad lax</td><td>28</td><td>582.39996</td></tr><tr><td>72</td><td>Mozzarella di Giovanni</td><td>25</td><td>695.0</td></tr><tr><td>17</td><td>Alice Mutton</td><td>20</td><td>624.0</td></tr><tr><td>30</td><td>Nord-Ost Matjeshering</td><td>15</td><td>310.5</td></tr><tr><td>4</td><td>Chef Anton's Cajun Seasoning</td><td>10</td><td>176.0</td></tr><tr><td>17</td><td>Alice Mutton</td><td>70</td><td>2180.5</td></tr><tr><td>62</td><td>Tarte au sucre</td><td>28</td><td>1103.2001</td></tr><tr><td>18</td><td>Carnarvon Tigers</td><td>20</td><td>999.0</td></tr><tr><td>41</td><td>Jack's New England Clam Chowder</td><td>12</td><td>91.799995</td></tr><tr><td>43</td><td>Ipoh Coffee</td><td>40</td><td>1470.0</td></tr><tr><td>33</td><td>Geitost</td><td>8</td><td>16.0</td></tr><tr><td>59</td><td>Raclette Courdavault</td><td>9</td><td>394.65</td></tr><tr><td>2</td><td>Chang</td><td>24</td><td>360.0</td></tr><tr><td>31</td><td>Gorgonzola Telino</td><td>56</td><td>548.8</td></tr><tr><td>36</td><td>Inlagd Sill</td><td>40</td><td>600.0</td></tr><tr><td>55</td><td>Pâté chinois</td><td>40</td><td>760.0</td></tr><tr><td>64</td><td>Wimmers gute Semmelknödel</td><td>50</td><td>1330.0</td></tr><tr><td>68</td><td>Scottish Longbreads</td><td>4</td><td>39.8</td></tr><tr><td>76</td><td>Lakkalikööri</td><td>15</td><td>216.0</td></tr><tr><td>4</td><td>Chef Anton's Cajun Seasoning</td><td>35</td><td>616.0</td></tr><tr><td>8</td><td>Northwoods Cranberry Sauce</td><td>70</td><td>2222.5</td></tr><tr><td>8</td><td>Northwoods Cranberry Sauce</td><td>70</td><td>2240.0</td></tr><tr><td>19</td><td>Teatime Chocolate Biscuits</td><td>80</td><td>584.0</td></tr><tr><td>42</td><td>Singaporean Hokkien Fried Mee</td><td>9</td><td>100.799995</td></tr><tr><td>17</td><td>Alice Mutton</td><td>36</td><td>1119.6</td></tr><tr><td>56</td><td>Gnocchi di nonna Alice</td><td>20</td><td>608.0</td></tr><tr><td>25</td><td>NuNuCa Nuß-Nougat-Creme</td><td>10</td><td>112.0</td></tr><tr><td>39</td><td>Chartreuse verte</td><td>50</td><td>712.5</td></tr><tr><td>40</td><td>Boston Crab Meat</td><td>4</td><td>58.8</td></tr><tr><td>75</td><td>Rhönbräu Klosterbier</td><td>6</td><td>36.3</td></tr><tr><td>1</td><td>Chai</td><td>15</td><td>213.75</td></tr><tr><td>23</td><td>Tunnbröd</td><td>25</td><td>180.0</td></tr><tr><td>54</td><td>Tourtière</td><td>24</td><td>141.6</td></tr><tr><td>50</td><td>Valkoinen suklaa</td><td>15</td><td>193.5</td></tr><tr><td>69</td><td>Gudbrandsdalsost</td><td>18</td><td>516.6</td></tr><tr><td>38</td><td>Côte de Blaye</td><td>20</td><td>4215.0</td></tr><tr><td>41</td><td>Jack's New England Clam Chowder</td><td>13</td><td>100.1</td></tr><tr><td>44</td><td>Gula Malacca</td><td>77</td><td>1189.65</td></tr><tr><td>65</td><td>Louisiana Fiery Hot Pepper Sauce</td><td>10</td><td>167.5</td></tr><tr><td>24</td><td>Guaraná Fantástica</td><td>10</td><td>36.0</td></tr><tr><td>54</td><td>Tourtière</td><td>20</td><td>115.0</td></tr><tr><td>11</td><td>Queso Cabrales</td><td>12</td><td>199.19998</td></tr><tr><td>38</td><td>Côte de Blaye</td><td>50</td><td>10530.0</td></tr><tr><td>1</td><td>Chai</td><td>12</td><td>172.79999</td></tr><tr><td>29</td><td>Thüringer Rostbratwurst</td><td>4</td><td>396.0</td></tr><tr><td>24</td><td>Guaraná Fantástica</td><td>25</td><td>90.0</td></tr><tr><td>57</td><td>Ravioli Angelo</td><td>25</td><td>390.0</td></tr><tr><td>31</td><td>Gorgonzola Telino</td><td>30</td><td>300.0</td></tr><tr><td>55</td><td>Pâté chinois</td><td>12</td><td>230.40001</td></tr><tr><td>69</td><td>Gudbrandsdalsost</td><td>20</td><td>576.0</td></tr><tr><td>10</td><td>Ikura</td><td>30</td><td>737.99994</td></tr><tr><td>26</td><td>Gumbär Gummibärchen</td><td>16</td><td>398.4</td></tr><tr><td>60</td><td>Camembert Pierrot</td><td>8</td><td>216.0</td></tr><tr><td>24</td><td>Guaraná Fantástica</td><td>10</td><td>35.5</td></tr><tr><td>34</td><td>Sasquatch Ale</td><td>10</td><td>111.5</td></tr><tr><td>36</td><td>Inlagd Sill</td><td>20</td><td>303.0</td></tr><tr><td>16</td><td>Pavlova</td><td>56</td><td>775.6</td></tr><tr><td>31</td><td>Gorgonzola Telino</td><td>70</td><td>696.5</td></tr><tr><td>60</td><td>Camembert Pierrot</td><td>80</td><td>2172.0</td></tr><tr><td>28</td><td>Rössle Sauerkraut</td><td>30</td><td>1092.0</td></tr><tr><td>29</td><td>Thüringer Rostbratwurst</td><td>35</td><td>3465.0</td></tr><tr><td>38</td><td>Côte de Blaye</td><td>10</td><td>2108.0</td></tr><tr><td>49</td><td>Maxilaku</td><td>35</td><td>560.0</td></tr><tr><td>54</td><td>Tourtière</td><td>28</td><td>165.2</td></tr><tr><td>39</td><td>Chartreuse verte</td><td>54</td><td>772.19995</td></tr><tr><td>60</td><td>Camembert Pierrot</td><td>55</td><td>1490.5</td></tr><tr><td>25</td><td>NuNuCa Nuß-Nougat-Creme</td><td>50</td><td>560.0</td></tr><tr><td>51</td><td>Manjimup Dried Apples</td><td>20</td><td>848.0</td></tr><tr><td>54</td><td>Tourtière</td><td>24</td><td>141.6</td></tr><tr><td>31</td><td>Gorgonzola Telino</td><td>20</td><td>200.0</td></tr><tr><td>75</td><td>Rhönbräu Klosterbier</td><td>12</td><td>74.399994</td></tr><tr><td>76</td><td>Lakkalikööri</td><td>12</td><td>172.79999</td></tr><tr><td>69</td><td>Gudbrandsdalsost</td><td>30</td><td>864.0</td></tr><tr><td>71</td><td>Flotemysost</td><td>5</td><td>86.0</td></tr><tr><td>11</td><td>Queso Cabrales</td><td>24</td><td>403.19998</td></tr><tr><td>65</td><td>Louisiana Fiery Hot Pepper Sauce</td><td>5</td><td>84.0</td></tr><tr><td>77</td><td>Original Frankfurter grüne Soße</td><td>5</td><td>52.0</td></tr><tr><td>34</td><td>Sasquatch Ale</td><td>36</td><td>403.19998</td></tr><tr><td>54</td><td>Tourtière</td><td>18</td><td>106.200005</td></tr><tr><td>65</td><td>Louisiana Fiery Hot Pepper Sauce</td><td>15</td><td>251.99998</td></tr><tr><td>77</td><td>Original Frankfurter grüne Soße</td><td>7</td><td>72.799995</td></tr><tr><td>21</td><td>Sir Rodney's Scones</td><td>5</td><td>39.5</td></tr><tr><td>28</td><td>Rössle Sauerkraut</td><td>13</td><td>471.90002</td></tr><tr><td>57</td><td>Ravioli Angelo</td><td>25</td><td>390.0</td></tr><tr><td>64</td><td>Wimmers gute Semmelknödel</td><td>35</td><td>927.5</td></tr><tr><td>29</td><td>Thüringer Rostbratwurst</td><td>20</td><td>1980.0</td></tr><tr><td>56</td><td>Gnocchi di nonna Alice</td><td>18</td><td>542.7</td></tr><tr><td>1</td><td>Chai</td><td>15</td><td>213.75</td></tr><tr><td>64</td><td>Wimmers gute Semmelknödel</td><td>30</td><td>798.0</td></tr><tr><td>74</td><td>Longlife Tofu</td><td>20</td><td>157.0</td></tr><tr><td>36</td><td>Inlagd Sill</td><td>6</td><td>90.0</td></tr><tr><td>20</td><td>Sir Rodney's Marmalade</td><td>12</td><td>774.60004</td></tr><tr><td>38</td><td>Côte de Blaye</td><td>40</td><td>8422.0</td></tr><tr><td>60</td><td>Camembert Pierrot</td><td>70</td><td>1886.5</td></tr><tr><td>72</td><td>Mozzarella di Giovanni</td><td>42</td><td>1157.1</td></tr><tr><td>58</td><td>Escargots de Bourgogne</td><td>80</td><td>832.00006</td></tr><tr><td>71</td><td>Flotemysost</td><td>50</td><td>850.0</td></tr><tr><td>31</td><td>Gorgonzola Telino</td><td>30</td><td>300.0</td></tr><tr><td>58</td><td>Escargots de Bourgogne</td><td>15</td><td>159.0</td></tr><tr><td>14</td><td>Tofu</td><td>15</td><td>279.0</td></tr><tr><td>54</td><td>Tourtière</td><td>10</td><td>59.0</td></tr><tr><td>31</td><td>Gorgonzola Telino</td><td>42</td><td>417.9</td></tr><tr><td>28</td><td>Rössle Sauerkraut</td><td>20</td><td>725.0</td></tr><tr><td>39</td><td>Chartreuse verte</td><td>20</td><td>285.0</td></tr><tr><td>71</td><td>Flotemysost</td><td>6</td><td>103.200005</td></tr><tr><td>41</td><td>Jack's New England Clam Chowder</td><td>8</td><td>60.8</td></tr><tr><td>63</td><td>Vegie-spread</td><td>16</td><td>560.0</td></tr><tr><td>65</td><td>Louisiana Fiery Hot Pepper Sauce</td><td>20</td><td>333.99997</td></tr><tr><td>30</td><td>Nord-Ost Matjeshering</td><td>18</td><td>370.80002</td></tr><tr><td>53</td><td>Perth Pasties</td><td>20</td><td>522.0</td></tr><tr><td>60</td><td>Camembert Pierrot</td><td>6</td><td>162.6</td></tr><tr><td>70</td><td>Outback Lager</td><td>30</td><td>360.0</td></tr><tr><td>74</td><td>Longlife Tofu</td><td>14</td><td>112.0</td></tr><tr><td>5</td><td>Chef Anton's Gumbo Mix</td><td>32</td><td>544.0</td></tr><tr><td>18</td><td>Carnarvon Tigers</td><td>9</td><td>450.0</td></tr><tr><td>29</td><td>Thüringer Rostbratwurst</td><td>14</td><td>1386.0</td></tr><tr><td>33</td><td>Geitost</td><td>60</td><td>120.0</td></tr><tr><td>74</td><td>Longlife Tofu</td><td>50</td><td>400.0</td></tr><tr><td>13</td><td>Konbu</td><td>20</td><td>96.0</td></tr><tr><td>50</td><td>Valkoinen suklaa</td><td>15</td><td>195.0</td></tr><tr><td>56</td><td>Gnocchi di nonna Alice</td><td>20</td><td>608.0</td></tr><tr><td>20</td><td>Sir Rodney's Marmalade</td><td>28</td><td>1814.4001</td></tr><tr><td>60</td><td>Camembert Pierrot</td><td>15</td><td>408.0</td></tr><tr><td>7</td><td>Uncle Bob's Organic Dried Pears</td><td>10</td><td>238.0</td></tr><tr><td>60</td><td>Camembert Pierrot</td><td>20</td><td>540.0</td></tr><tr><td>68</td><td>Scottish Longbreads</td><td>8</td><td>78.4</td></tr><tr><td>24</td><td>Guaraná Fantástica</td><td>15</td><td>54.0</td></tr><tr><td>34</td><td>Sasquatch Ale</td><td>10</td><td>112.0</td></tr><tr><td>24</td><td>Guaraná Fantástica</td><td>15</td><td>54.0</td></tr><tr><td>28</td><td>Rössle Sauerkraut</td><td>6</td><td>218.40001</td></tr><tr><td>59</td><td>Raclette Courdavault</td><td>12</td><td>528.0</td></tr><tr><td>71</td><td>Flotemysost</td><td>15</td><td>258.0</td></tr><tr><td>45</td><td>Rogede sild</td><td>15</td><td>111.0</td></tr><tr><td>52</td><td>Filo Mix</td><td>20</td><td>108.0</td></tr><tr><td>53</td><td>Perth Pasties</td><td>40</td><td>1048.0</td></tr><tr><td>10</td><td>Ikura</td><td>16</td><td>396.8</td></tr><tr><td>55</td><td>Pâté chinois</td><td>15</td><td>288.0</td></tr><tr><td>62</td><td>Tarte au sucre</td><td>20</td><td>788.0</td></tr><tr><td>70</td><td>Outback Lager</td><td>30</td><td>360.0</td></tr><tr><td>31</td><td>Gorgonzola Telino</td><td>60</td><td>594.0</td></tr><tr><td>35</td><td>Steeleye Stout</td><td>40</td><td>572.0</td></tr><tr><td>46</td><td>Spegesild</td><td>45</td><td>432.00003</td></tr><tr><td>72</td><td>Mozzarella di Giovanni</td><td>24</td><td>664.8</td></tr><tr><td>13</td><td>Konbu</td><td>18</td><td>86.4</td></tr><tr><td>69</td><td>Gudbrandsdalsost</td><td>50</td><td>1440.0</td></tr><tr><td>2</td><td>Chang</td><td>25</td><td>373.75</td></tr><tr><td>14</td><td>Tofu</td><td>42</td><td>770.7</td></tr><tr><td>25</td><td>NuNuCa Nuß-Nougat-Creme</td><td>7</td><td>76.65</td></tr><tr><td>26</td><td>Gumbär Gummibärchen</td><td>70</td><td>1725.5</td></tr><tr><td>31</td><td>Gorgonzola Telino</td><td>32</td><td>320.0</td></tr><tr><td>13</td><td>Konbu</td><td>10</td><td>48.0</td></tr><tr><td>62</td><td>Tarte au sucre</td><td>10</td><td>394.0</td></tr><tr><td>46</td><td>Spegesild</td><td>28</td><td>266.0</td></tr><tr><td>53</td><td>Perth Pasties</td><td>70</td><td>1827.0</td></tr><tr><td>69</td><td>Gudbrandsdalsost</td><td>8</td><td>230.4</td></tr><tr><td>23</td><td>Tunnbröd</td><td>40</td><td>288.0</td></tr><tr><td>71</td><td>Flotemysost</td><td>60</td><td>1032.0</td></tr><tr><td>72</td><td>Mozzarella di Giovanni</td><td>21</td><td>583.8</td></tr><tr><td>21</td><td>Sir Rodney's Scones</td><td>10</td><td>78.5</td></tr><tr><td>51</td><td>Manjimup Dried Apples</td><td>18</td><td>760.5</td></tr><tr><td>35</td><td>Steeleye Stout</td><td>30</td><td>432.0</td></tr><tr><td>55</td><td>Pâté chinois</td><td>120</td><td>2292.0</td></tr><tr><td>68</td><td>Scottish Longbreads</td><td>60</td><td>600.0</td></tr><tr><td>71</td><td>Flotemysost</td><td>30</td><td>516.0</td></tr><tr><td>76</td><td>Lakkalikööri</td><td>35</td><td>504.0</td></tr><tr><td>77</td><td>Original Frankfurter grüne Soße</td><td>14</td><td>145.59999</td></tr><tr><td>29</td><td>Thüringer Rostbratwurst</td><td>21</td><td>2079.0</td></tr><tr><td>35</td><td>Steeleye Stout</td><td>35</td><td>504.0</td></tr><tr><td>49</td><td>Maxilaku</td><td>30</td><td>480.0</td></tr><tr><td>30</td><td>Nord-Ost Matjeshering</td><td>18</td><td>372.6</td></tr><tr><td>56</td><td>Gnocchi di nonna Alice</td><td>70</td><td>2128.0</td></tr><tr><td>65</td><td>Louisiana Fiery Hot Pepper Sauce</td><td>20</td><td>336.0</td></tr><tr><td>71</td><td>Flotemysost</td><td>60</td><td>1032.0</td></tr><tr><td>23</td><td>Tunnbröd</td><td>60</td><td>432.0</td></tr><tr><td>63</td><td>Vegie-spread</td><td>65</td><td>2281.5</td></tr><tr><td>16</td><td>Pavlova</td><td>21</td><td>288.75</td></tr><tr><td>48</td><td>Chocolade</td><td>70</td><td>703.5</td></tr><tr><td>26</td><td>Gumbär Gummibärchen</td><td>30</td><td>745.5</td></tr><tr><td>42</td><td>Singaporean Hokkien Fried Mee</td><td>40</td><td>446.0</td></tr><tr><td>49</td><td>Maxilaku</td><td>30</td><td>478.5</td></tr><tr><td>3</td><td>Aniseed Syrup</td><td>50</td><td>400.0</td></tr><tr><td>1</td><td>Chai</td><td>10</td><td>144.0</td></tr><tr><td>21</td><td>Sir Rodney's Scones</td><td>30</td><td>237.0</td></tr><tr><td>28</td><td>Rössle Sauerkraut</td><td>42</td><td>1524.6001</td></tr><tr><td>36</td><td>Inlagd Sill</td><td>5</td><td>75.5</td></tr><tr><td>40</td><td>Boston Crab Meat</td><td>2</td><td>29.199999</td></tr><tr><td>11</td><td>Queso Cabrales</td><td>30</td><td>503.99997</td></tr><tr><td>69</td><td>Gudbrandsdalsost</td><td>15</td><td>432.0</td></tr><tr><td>71</td><td>Flotemysost</td><td>15</td><td>258.0</td></tr><tr><td>37</td><td>Gravad lax</td><td>10</td><td>208.0</td></tr><tr><td>54</td><td>Tourtière</td><td>6</td><td>35.4</td></tr><tr><td>62</td><td>Tarte au sucre</td><td>35</td><td>1379.0</td></tr><tr><td>14</td><td>Tofu</td><td>12</td><td>223.20001</td></tr><tr><td>21</td><td>Sir Rodney's Scones</td><td>12</td><td>96.0</td></tr><tr><td>33</td><td>Geitost</td><td>49</td><td>98.0</td></tr><tr><td>59</td><td>Raclette Courdavault</td><td>16</td><td>704.0</td></tr><tr><td>41</td><td>Jack's New England Clam Chowder</td><td>25</td><td>187.5</td></tr><tr><td>44</td><td>Gula Malacca</td><td>40</td><td>612.0</td></tr><tr><td>59</td><td>Raclette Courdavault</td><td>9</td><td>394.19998</td></tr><tr><td>14</td><td>Tofu</td><td>20</td><td>370.0</td></tr><tr><td>1</td><td>Chai</td><td>24</td><td>345.59998</td></tr><tr><td>62</td><td>Tarte au sucre</td><td>40</td><td>1576.0</td></tr><tr><td>76</td><td>Lakkalikööri</td><td>14</td><td>201.59999</td></tr><tr><td>19</td><td>Teatime Chocolate Biscuits</td><td>18</td><td>130.5</td></tr><tr><td>33</td><td>Geitost</td><td>50</td><td>100.0</td></tr><tr><td>17</td><td>Alice Mutton</td><td>2</td><td>62.4</td></tr><tr><td>33</td><td>Geitost</td><td>20</td><td>40.0</td></tr><tr><td>19</td><td>Teatime Chocolate Biscuits</td><td>20</td><td>146.0</td></tr><tr><td>53</td><td>Perth Pasties</td><td>10</td><td>262.0</td></tr><tr><td>57</td><td>Ravioli Angelo</td><td>20</td><td>312.0</td></tr><tr><td>38</td><td>Côte de Blaye</td><td>50</td><td>10540.0</td></tr><tr><td>46</td><td>Spegesild</td><td>2</td><td>18.7</td></tr><tr><td>68</td><td>Scottish Longbreads</td><td>36</td><td>351.0</td></tr><tr><td>77</td><td>Original Frankfurter grüne Soße</td><td>35</td><td>364.0</td></tr><tr><td>2</td><td>Chang</td><td>60</td><td>912.0</td></tr><tr><td>47</td><td>Zaanse koeken</td><td>55</td><td>418.0</td></tr><tr><td>61</td><td>Sirop d'érable</td><td>16</td><td>364.8</td></tr><tr><td>74</td><td>Longlife Tofu</td><td>15</td><td>120.0</td></tr><tr><td>60</td><td>Camembert Pierrot</td><td>60</td><td>1629.0001</td></tr><tr><td>69</td><td>Gudbrandsdalsost</td><td>20</td><td>575.0</td></tr><tr><td>9</td><td>Mishi Kobe Niku</td><td>20</td><td>1550.0</td></tr><tr><td>13</td><td>Konbu</td><td>2</td><td>9.400001</td></tr><tr><td>70</td><td>Outback Lager</td><td>8</td><td>95.2</td></tr><tr><td>73</td><td>Röd Kaviar</td><td>20</td><td>238.0</td></tr><tr><td>19</td><td>Teatime Chocolate Biscuits</td><td>4</td><td>28.6</td></tr><tr><td>26</td><td>Gumbär Gummibärchen</td><td>30</td><td>747.0</td></tr><tr><td>53</td><td>Perth Pasties</td><td>15</td><td>390.75003</td></tr><tr><td>77</td><td>Original Frankfurter grüne Soße</td><td>10</td><td>102.5</td></tr><tr><td>26</td><td>Gumbär Gummibärchen</td><td>2</td><td>49.8</td></tr><tr><td>31</td><td>Gorgonzola Telino</td><td>14</td><td>140.0</td></tr><tr><td>59</td><td>Raclette Courdavault</td><td>20</td><td>880.0</td></tr><tr><td>35</td><td>Steeleye Stout</td><td>60</td><td>852.0</td></tr><tr><td>38</td><td>Côte de Blaye</td><td>49</td><td>10319.4</td></tr><tr><td>68</td><td>Scottish Longbreads</td><td>30</td><td>294.0</td></tr><tr><td>55</td><td>Pâté chinois</td><td>10</td><td>189.5</td></tr><tr><td>76</td><td>Lakkalikööri</td><td>20</td><td>283.0</td></tr><tr><td>56</td><td>Gnocchi di nonna Alice</td><td>5</td><td>152.0</td></tr><tr><td>64</td><td>Wimmers gute Semmelknödel</td><td>7</td><td>186.2</td></tr><tr><td>14</td><td>Tofu</td><td>35</td><td>651.0</td></tr><tr><td>46</td><td>Spegesild</td><td>20</td><td>192.0</td></tr><tr><td>50</td><td>Valkoinen suklaa</td><td>40</td><td>520.0</td></tr><tr><td>63</td><td>Vegie-spread</td><td>35</td><td>1219.75</td></tr><tr><td>17</td><td>Alice Mutton</td><td>45</td><td>1395.0</td></tr><tr><td>21</td><td>Sir Rodney's Scones</td><td>50</td><td>400.0</td></tr><tr><td>56</td><td>Gnocchi di nonna Alice</td><td>30</td><td>912.0</td></tr><tr><td>59</td><td>Raclette Courdavault</td><td>70</td><td>3066.0</td></tr><tr><td>17</td><td>Alice Mutton</td><td>50</td><td>1547.5</td></tr><tr><td>40</td><td>Boston Crab Meat</td><td>50</td><td>722.5</td></tr><tr><td>47</td><td>Zaanse koeken</td><td>30</td><td>220.5</td></tr><tr><td>26</td><td>Gumbär Gummibärchen</td><td>10</td><td>249.0</td></tr><tr><td>54</td><td>Tourtière</td><td>40</td><td>236.0</td></tr><tr><td>56</td><td>Gnocchi di nonna Alice</td><td>28</td><td>851.2</td></tr><tr><td>11</td><td>Queso Cabrales</td><td>6</td><td>100.799995</td></tr><tr><td>76</td><td>Lakkalikööri</td><td>18</td><td>256.5</td></tr><tr><td>2</td><td>Chang</td><td>10</td><td>152.0</td></tr><tr><td>22</td><td>Gustaf's Knäckebröd</td><td>12</td><td>201.59999</td></tr><tr><td>72</td><td>Mozzarella di Giovanni</td><td>10</td><td>278.0</td></tr><tr><td>46</td><td>Spegesild</td><td>5</td><td>48.0</td></tr><tr><td>56</td><td>Gnocchi di nonna Alice</td><td>40</td><td>1212.0</td></tr><tr><td>64</td><td>Wimmers gute Semmelknödel</td><td>30</td><td>795.0</td></tr><tr><td>75</td><td>Rhönbräu Klosterbier</td><td>24</td><td>146.4</td></tr><tr><td>53</td><td>Perth Pasties</td><td>15</td><td>393.0</td></tr><tr><td>19</td><td>Teatime Chocolate Biscuits</td><td>15</td><td>106.50001</td></tr><tr><td>34</td><td>Sasquatch Ale</td><td>20</td><td>220.0</td></tr><tr><td>57</td><td>Ravioli Angelo</td><td>15</td><td>231.00002</td></tr><tr><td>12</td><td>Queso Manchego La Pastora</td><td>15</td><td>456.0</td></tr><tr><td>16</td><td>Pavlova</td><td>16</td><td>222.4</td></tr><tr><td>64</td><td>Wimmers gute Semmelknödel</td><td>6</td><td>159.6</td></tr><tr><td>74</td><td>Longlife Tofu</td><td>30</td><td>240.0</td></tr><tr><td>2</td><td>Chang</td><td>45</td><td>677.25</td></tr><tr><td>16</td><td>Pavlova</td><td>49</td><td>673.75</td></tr><tr><td>29</td><td>Thüringer Rostbratwurst</td><td>24</td><td>2372.4</td></tr><tr><td>61</td><td>Sirop d'érable</td><td>90</td><td>2038.5</td></tr><tr><td>27</td><td>Schoggi Schokolade</td><td>50</td><td>1754.9999</td></tr><tr><td>11</td><td>Queso Cabrales</td><td>30</td><td>503.99997</td></tr><tr><td>54</td><td>Tourtière</td><td>80</td><td>472.0</td></tr><tr><td>66</td><td>Louisiana Hot Spiced Okra</td><td>60</td><td>816.0</td></tr><tr><td>11</td><td>Queso Cabrales</td><td>6</td><td>99.59999</td></tr><tr><td>28</td><td>Rössle Sauerkraut</td><td>12</td><td>436.80002</td></tr><tr><td>17</td><td>Alice Mutton</td><td>10</td><td>312.0</td></tr><tr><td>26</td><td>Gumbär Gummibärchen</td><td>15</td><td>373.5</td></tr><tr><td>35</td><td>Steeleye Stout</td><td>8</td><td>115.2</td></tr><tr><td>41</td><td>Jack's New England Clam Chowder</td><td>30</td><td>231.0</td></tr><tr><td>39</td><td>Chartreuse verte</td><td>6</td><td>86.399994</td></tr><tr><td>54</td><td>Tourtière</td><td>15</td><td>88.5</td></tr><tr><td>19</td><td>Teatime Chocolate Biscuits</td><td>12</td><td>86.4</td></tr><tr><td>24</td><td>Guaraná Fantástica</td><td>20</td><td>70.0</td></tr><tr><td>31</td><td>Gorgonzola Telino</td><td>3</td><td>29.699999</td></tr><tr><td>52</td><td>Filo Mix</td><td>15</td><td>82.5</td></tr><tr><td>19</td><td>Teatime Chocolate Biscuits</td><td>40</td><td>292.0</td></tr><tr><td>65</td><td>Louisiana Fiery Hot Pepper Sauce</td><td>35</td><td>588.0</td></tr><tr><td>71</td><td>Flotemysost</td><td>2</td><td>34.4</td></tr><tr><td>26</td><td>Gumbär Gummibärchen</td><td>6</td><td>149.4</td></tr><tr><td>40</td><td>Boston Crab Meat</td><td>20</td><td>294.0</td></tr><tr><td>10</td><td>Ikura</td><td>14</td><td>347.19998</td></tr><tr><td>52</td><td>Filo Mix</td><td>20</td><td>112.0</td></tr><tr><td>62</td><td>Tarte au sucre</td><td>35</td><td>1379.0</td></tr><tr><td>10</td><td>Ikura</td><td>20</td><td>491.99997</td></tr><tr><td>54</td><td>Tourtière</td><td>6</td><td>34.2</td></tr><tr><td>55</td><td>Pâté chinois</td><td>120</td><td>2292.0</td></tr><tr><td>64</td><td>Wimmers gute Semmelknödel</td><td>35</td><td>927.5</td></tr><tr><td>65</td><td>Louisiana Fiery Hot Pepper Sauce</td><td>28</td><td>467.59998</td></tr><tr><td>77</td><td>Original Frankfurter grüne Soße</td><td>55</td><td>566.49994</td></tr><tr><td>28</td><td>Rössle Sauerkraut</td><td>15</td><td>546.0</td></tr><tr><td>44</td><td>Gula Malacca</td><td>100</td><td>1545.0</td></tr><tr><td>48</td><td>Chocolade</td><td>15</td><td>151.49998</td></tr><tr><td>70</td><td>Outback Lager</td><td>25</td><td>297.5</td></tr><tr><td>16</td><td>Pavlova</td><td>20</td><td>274.0</td></tr><tr><td>33</td><td>Geitost</td><td>20</td><td>36.0</td></tr><tr><td>46</td><td>Spegesild</td><td>10</td><td>94.00001</td></tr><tr><td>39</td><td>Chartreuse verte</td><td>20</td><td>288.0</td></tr><tr><td>53</td><td>Perth Pasties</td><td>50</td><td>1310.0</td></tr><tr><td>61</td><td>Sirop d'érable</td><td>25</td><td>570.0</td></tr><tr><td>71</td><td>Flotemysost</td><td>30</td><td>516.0</td></tr><tr><td>21</td><td>Sir Rodney's Scones</td><td>40</td><td>314.0</td></tr><tr><td>49</td><td>Maxilaku</td><td>21</td><td>332.85</td></tr><tr><td>59</td><td>Raclette Courdavault</td><td>36</td><td>1584.0</td></tr><tr><td>26</td><td>Gumbär Gummibärchen</td><td>30</td><td>747.0</td></tr><tr><td>28</td><td>Rössle Sauerkraut</td><td>30</td><td>1092.0</td></tr><tr><td>43</td><td>Ipoh Coffee</td><td>20</td><td>736.0</td></tr><tr><td>56</td><td>Gnocchi di nonna Alice</td><td>15</td><td>456.0</td></tr><tr><td>71</td><td>Flotemysost</td><td>50</td><td>860.00006</td></tr><tr><td>7</td><td>Uncle Bob's Organic Dried Pears</td><td>16</td><td>383.2</td></tr><tr><td>46</td><td>Spegesild</td><td>20</td><td>191.0</td></tr><tr><td>72</td><td>Mozzarella di Giovanni</td><td>40</td><td>1112.0</td></tr><tr><td>68</td><td>Scottish Longbreads</td><td>21</td><td>204.75</td></tr><tr><td>75</td><td>Rhönbräu Klosterbier</td><td>4</td><td>23.8</td></tr><tr><td>21</td><td>Sir Rodney's Scones</td><td>40</td><td>310.0</td></tr><tr><td>30</td><td>Nord-Ost Matjeshering</td><td>28</td><td>572.60004</td></tr><tr><td>55</td><td>Pâté chinois</td><td>60</td><td>1137.0</td></tr><tr><td>13</td><td>Konbu</td><td>1</td><td>4.8</td></tr><tr><td>23</td><td>Tunnbröd</td><td>21</td><td>151.2</td></tr><tr><td>19</td><td>Teatime Chocolate Biscuits</td><td>21</td><td>153.3</td></tr><tr><td>42</td><td>Singaporean Hokkien Fried Mee</td><td>50</td><td>560.0</td></tr><tr><td>4</td><td>Chef Anton's Cajun Seasoning</td><td>16</td><td>278.4</td></tr><tr><td>43</td><td>Ipoh Coffee</td><td>3</td><td>110.399994</td></tr><tr><td>56</td><td>Gnocchi di nonna Alice</td><td>30</td><td>905.99994</td></tr><tr><td>60</td><td>Camembert Pierrot</td><td>20</td><td>544.0</td></tr><tr><td>24</td><td>Guaraná Fantástica</td><td>25</td><td>90.0</td></tr><tr><td>29</td><td>Thüringer Rostbratwurst</td><td>18</td><td>1780.2001</td></tr><tr><td>40</td><td>Boston Crab Meat</td><td>20</td><td>294.0</td></tr><tr><td>45</td><td>Rogede sild</td><td>30</td><td>225.0</td></tr><tr><td>50</td><td>Valkoinen suklaa</td><td>25</td><td>325.0</td></tr><tr><td>11</td><td>Queso Cabrales</td><td>10</td><td>168.0</td></tr><tr><td>46</td><td>Spegesild</td><td>5</td><td>48.0</td></tr><tr><td>24</td><td>Guaraná Fantástica</td><td>28</td><td>100.799995</td></tr><tr><td>25</td><td>NuNuCa Nuß-Nougat-Creme</td><td>12</td><td>134.4</td></tr><tr><td>30</td><td>Nord-Ost Matjeshering</td><td>8</td><td>165.6</td></tr><tr><td>43</td><td>Ipoh Coffee</td><td>15</td><td>552.0</td></tr><tr><td>2</td><td>Chang</td><td>40</td><td>602.0</td></tr><tr><td>16</td><td>Pavlova</td><td>35</td><td>481.25</td></tr><tr><td>44</td><td>Gula Malacca</td><td>2</td><td>30.7</td></tr><tr><td>18</td><td>Carnarvon Tigers</td><td>30</td><td>1500.0</td></tr><tr><td>23</td><td>Tunnbröd</td><td>15</td><td>108.0</td></tr><tr><td>64</td><td>Wimmers gute Semmelknödel</td><td>8</td><td>212.8</td></tr><tr><td>7</td><td>Uncle Bob's Organic Dried Pears</td><td>30</td><td>720.0</td></tr><tr><td>56</td><td>Gnocchi di nonna Alice</td><td>20</td><td>608.0</td></tr><tr><td>24</td><td>Guaraná Fantástica</td><td>80</td><td>284.0</td></tr><tr><td>51</td><td>Manjimup Dried Apples</td><td>18</td><td>763.2</td></tr><tr><td>33</td><td>Geitost</td><td>12</td><td>24.0</td></tr><tr><td>71</td><td>Flotemysost</td><td>12</td><td>206.40001</td></tr><tr><td>14</td><td>Tofu</td><td>12</td><td>223.20001</td></tr><tr><td>28</td><td>Rössle Sauerkraut</td><td>18</td><td>655.2</td></tr><tr><td>40</td><td>Boston Crab Meat</td><td>21</td><td>308.69998</td></tr><tr><td>75</td><td>Rhönbräu Klosterbier</td><td>10</td><td>62.0</td></tr><tr><td>31</td><td>Gorgonzola Telino</td><td>35</td><td>344.75</td></tr><tr><td>66</td><td>Louisiana Hot Spiced Okra</td><td>60</td><td>807.00006</td></tr><tr><td>76</td><td>Lakkalikööri</td><td>42</td><td>598.5</td></tr><tr><td>55</td><td>Pâté chinois</td><td>2</td><td>38.300003</td></tr><tr><td>70</td><td>Outback Lager</td><td>12</td><td>144.0</td></tr><tr><td>1</td><td>Chai</td><td>15</td><td>216.0</td></tr><tr><td>21</td><td>Sir Rodney's Scones</td><td>21</td><td>162.75</td></tr><tr><td>39</td><td>Chartreuse verte</td><td>20</td><td>283.0</td></tr><tr><td>10</td><td>Ikura</td><td>20</td><td>495.0</td></tr><tr><td>38</td><td>Côte de Blaye</td><td>30</td><td>6324.0</td></tr><tr><td>53</td><td>Perth Pasties</td><td>28</td><td>733.60004</td></tr><tr><td>59</td><td>Raclette Courdavault</td><td>60</td><td>2640.0</td></tr><tr><td>64</td><td>Wimmers gute Semmelknödel</td><td>30</td><td>798.0</td></tr><tr><td>47</td><td>Zaanse koeken</td><td>30</td><td>228.0</td></tr><tr><td>59</td><td>Raclette Courdavault</td><td>12</td><td>528.0</td></tr><tr><td>49</td><td>Maxilaku</td><td>24</td><td>384.0</td></tr><tr><td>60</td><td>Camembert Pierrot</td><td>40</td><td>1088.0</td></tr><tr><td>40</td><td>Boston Crab Meat</td><td>10</td><td>147.0</td></tr><tr><td>34</td><td>Sasquatch Ale</td><td>35</td><td>390.25</td></tr><tr><td>77</td><td>Original Frankfurter grüne Soße</td><td>30</td><td>310.49997</td></tr><tr><td>21</td><td>Sir Rodney's Scones</td><td>14</td><td>112.0</td></tr><tr><td>40</td><td>Boston Crab Meat</td><td>10</td><td>147.0</td></tr><tr><td>51</td><td>Manjimup Dried Apples</td><td>3</td><td>127.200005</td></tr><tr><td>2</td><td>Chang</td><td>20</td><td>302.0</td></tr><tr><td>3</td><td>Aniseed Syrup</td><td>20</td><td>158.0</td></tr><tr><td>55</td><td>Pâté chinois</td><td>30</td><td>573.0</td></tr><tr><td>70</td><td>Outback Lager</td><td>60</td><td>714.0</td></tr><tr><td>11</td><td>Queso Cabrales</td><td>5</td><td>84.0</td></tr><tr><td>51</td><td>Manjimup Dried Apples</td><td>25</td><td>1060.0</td></tr><tr><td>74</td><td>Longlife Tofu</td><td>16</td><td>128.0</td></tr><tr><td>19</td><td>Teatime Chocolate Biscuits</td><td>5</td><td>36.5</td></tr><tr><td>26</td><td>Gumbär Gummibärchen</td><td>30</td><td>747.0</td></tr><tr><td>54</td><td>Tourtière</td><td>24</td><td>135.6</td></tr><tr><td>59</td><td>Raclette Courdavault</td><td>30</td><td>1320.0</td></tr><tr><td>73</td><td>Röd Kaviar</td><td>20</td><td>236.0</td></tr><tr><td>11</td><td>Queso Cabrales</td><td>15</td><td>248.24998</td></tr><tr><td>16</td><td>Pavlova</td><td>18</td><td>250.2</td></tr><tr><td>59</td><td>Raclette Courdavault</td><td>60</td><td>2640.0</td></tr><tr><td>68</td><td>Scottish Longbreads</td><td>30</td><td>300.0</td></tr><tr><td>75</td><td>Rhönbräu Klosterbier</td><td>36</td><td>223.2</td></tr><tr><td>44</td><td>Gula Malacca</td><td>15</td><td>230.25</td></tr><tr><td>77</td><td>Original Frankfurter grüne Soße</td><td>7</td><td>71.75</td></tr><tr><td>25</td><td>NuNuCa Nuß-Nougat-Creme</td><td>60</td><td>669.0</td></tr><tr><td>42</td><td>Singaporean Hokkien Fried Mee</td><td>20</td><td>223.0</td></tr><tr><td>65</td><td>Louisiana Fiery Hot Pepper Sauce</td><td>15</td><td>250.49998</td></tr><tr><td>66</td><td>Louisiana Hot Spiced Okra</td><td>10</td><td>135.0</td></tr><tr><td>69</td><td>Gudbrandsdalsost</td><td>10</td><td>287.0</td></tr><tr><td>56</td><td>Gnocchi di nonna Alice</td><td>30</td><td>912.0</td></tr><tr><td>23</td><td>Tunnbröd</td><td>10</td><td>72.0</td></tr><tr><td>41</td><td>Jack's New England Clam Chowder</td><td>20</td><td>154.0</td></tr><tr><td>77</td><td>Original Frankfurter grüne Soße</td><td>5</td><td>52.0</td></tr><tr><td>31</td><td>Gorgonzola Telino</td><td>20</td><td>199.0</td></tr><tr><td>56</td><td>Gnocchi di nonna Alice</td><td>14</td><td>425.6</td></tr><tr><td>72</td><td>Mozzarella di Giovanni</td><td>25</td><td>695.0</td></tr><tr><td>77</td><td>Original Frankfurter grüne Soße</td><td>25</td><td>260.0</td></tr><tr><td>24</td><td>Guaraná Fantástica</td><td>14</td><td>63.0</td></tr><tr><td>40</td><td>Boston Crab Meat</td><td>5</td><td>92.0</td></tr><tr><td>42</td><td>Singaporean Hokkien Fried Mee</td><td>30</td><td>420.0</td></tr><tr><td>28</td><td>Rössle Sauerkraut</td><td>20</td><td>912.0</td></tr><tr><td>49</td><td>Maxilaku</td><td>25</td><td>500.0</td></tr><tr><td>15</td><td>Genen Shouyu</td><td>12</td><td>185.4</td></tr><tr><td>28</td><td>Rössle Sauerkraut</td><td>8</td><td>364.4</td></tr><tr><td>54</td><td>Tourtière</td><td>20</td><td>149.0</td></tr><tr><td>45</td><td>Rogede sild</td><td>21</td><td>199.5</td></tr><tr><td>53</td><td>Perth Pasties</td><td>6</td><td>196.79999</td></tr><tr><td>67</td><td>Laughing Lumberjack Lager</td><td>30</td><td>420.0</td></tr><tr><td>14</td><td>Tofu</td><td>70</td><td>1627.5</td></tr><tr><td>65</td><td>Louisiana Fiery Hot Pepper Sauce</td><td>20</td><td>421.0</td></tr><tr><td>2</td><td>Chang</td><td>12</td><td>228.0</td></tr><tr><td>21</td><td>Sir Rodney's Scones</td><td>12</td><td>120.0</td></tr><tr><td>53</td><td>Perth Pasties</td><td>10</td><td>328.0</td></tr><tr><td>61</td><td>Sirop d'érable</td><td>25</td><td>712.5</td></tr><tr><td>62</td><td>Tarte au sucre</td><td>3</td><td>147.9</td></tr><tr><td>25</td><td>NuNuCa Nuß-Nougat-Creme</td><td>18</td><td>250.2</td></tr><tr><td>70</td><td>Outback Lager</td><td>14</td><td>208.59999</td></tr><tr><td>43</td><td>Ipoh Coffee</td><td>15</td><td>687.75</td></tr><tr><td>48</td><td>Chocolade</td><td>15</td><td>189.0</td></tr><tr><td>13</td><td>Konbu</td><td>10</td><td>60.0</td></tr><tr><td>39</td><td>Chartreuse verte</td><td>10</td><td>180.0</td></tr><tr><td>28</td><td>Rössle Sauerkraut</td><td>3</td><td>136.79999</td></tr><tr><td>29</td><td>Thüringer Rostbratwurst</td><td>36</td><td>4456.44</td></tr><tr><td>75</td><td>Rhönbräu Klosterbier</td><td>36</td><td>275.4</td></tr><tr><td>4</td><td>Chef Anton's Cajun Seasoning</td><td>50</td><td>1092.5</td></tr><tr><td>7</td><td>Uncle Bob's Organic Dried Pears</td><td>50</td><td>1492.5</td></tr><tr><td>8</td><td>Northwoods Cranberry Sauce</td><td>10</td><td>398.5</td></tr><tr><td>24</td><td>Guaraná Fantástica</td><td>10</td><td>43.5</td></tr><tr><td>46</td><td>Spegesild</td><td>9</td><td>106.65</td></tr><tr><td>47</td><td>Zaanse koeken</td><td>6</td><td>56.100002</td></tr><tr><td>60</td><td>Camembert Pierrot</td><td>12</td><td>406.19998</td></tr><tr><td>21</td><td>Sir Rodney's Scones</td><td>40</td><td>392.0</td></tr><tr><td>32</td><td>Mascarpone Fabioli</td><td>50</td><td>1590.0</td></tr><tr><td>61</td><td>Sirop d'érable</td><td>15</td><td>424.5</td></tr><tr><td>20</td><td>Sir Rodney's Marmalade</td><td>39</td><td>3159.0</td></tr><tr><td>28</td><td>Rössle Sauerkraut</td><td>35</td><td>1596.0</td></tr><tr><td>56</td><td>Gnocchi di nonna Alice</td><td>70</td><td>2660.0</td></tr><tr><td>65</td><td>Louisiana Fiery Hot Pepper Sauce</td><td>39</td><td>820.94995</td></tr><tr><td>75</td><td>Rhönbräu Klosterbier</td><td>50</td><td>387.5</td></tr><tr><td>9</td><td>Mishi Kobe Niku</td><td>16</td><td>1549.6</td></tr><tr><td>16</td><td>Pavlova</td><td>50</td><td>872.50006</td></tr><tr><td>27</td><td>Schoggi Schokolade</td><td>120</td><td>5268.0</td></tr><tr><td>33</td><td>Geitost</td><td>16</td><td>37.6</td></tr><tr><td>60</td><td>Camembert Pierrot</td><td>84</td><td>2843.4</td></tr><tr><td>18</td><td>Carnarvon Tigers</td><td>25</td><td>1560.0</td></tr><tr><td>41</td><td>Jack's New England Clam Chowder</td><td>80</td><td>763.99994</td></tr><tr><td>42</td><td>Singaporean Hokkien Fried Mee</td><td>20</td><td>280.0</td></tr><tr><td>52</td><td>Filo Mix</td><td>6</td><td>42.0</td></tr><tr><td>59</td><td>Raclette Courdavault</td><td>4</td><td>220.0</td></tr><tr><td>70</td><td>Outback Lager</td><td>6</td><td>90.0</td></tr><tr><td>24</td><td>Guaraná Fantástica</td><td>5</td><td>22.5</td></tr><tr><td>38</td><td>Côte de Blaye</td><td>15</td><td>3952.5</td></tr><tr><td>44</td><td>Gula Malacca</td><td>9</td><td>175.05</td></tr><tr><td>10</td><td>Ikura</td><td>16</td><td>495.2</td></tr><tr><td>56</td><td>Gnocchi di nonna Alice</td><td>40</td><td>1520.0</td></tr><tr><td>60</td><td>Camembert Pierrot</td><td>10</td><td>339.5</td></tr><tr><td>24</td><td>Guaraná Fantástica</td><td>8</td><td>36.0</td></tr><tr><td>53</td><td>Perth Pasties</td><td>5</td><td>164.0</td></tr><tr><td>35</td><td>Steeleye Stout</td><td>3</td><td>54.0</td></tr><tr><td>41</td><td>Jack's New England Clam Chowder</td><td>10</td><td>96.5</td></tr><tr><td>68</td><td>Scottish Longbreads</td><td>6</td><td>75.0</td></tr><tr><td>1</td><td>Chai</td><td>40</td><td>712.0</td></tr><tr><td>8</td><td>Northwoods Cranberry Sauce</td><td>24</td><td>960.0</td></tr><tr><td>30</td><td>Nord-Ost Matjeshering</td><td>20</td><td>513.8</td></tr><tr><td>40</td><td>Boston Crab Meat</td><td>25</td><td>454.99997</td></tr><tr><td>17</td><td>Alice Mutton</td><td>25</td><td>972.50006</td></tr><tr><td>20</td><td>Sir Rodney's Marmalade</td><td>15</td><td>1213.5</td></tr><tr><td>37</td><td>Gravad lax</td><td>18</td><td>466.19998</td></tr><tr><td>41</td><td>Jack's New England Clam Chowder</td><td>6</td><td>57.299995</td></tr><tr><td>10</td><td>Ikura</td><td>2</td><td>62.0</td></tr><tr><td>30</td><td>Nord-Ost Matjeshering</td><td>10</td><td>258.9</td></tr><tr><td>43</td><td>Ipoh Coffee</td><td>60</td><td>2760.0</td></tr><tr><td>54</td><td>Tourtière</td><td>15</td><td>111.75</td></tr><tr><td>36</td><td>Inlagd Sill</td><td>30</td><td>570.0</td></tr><tr><td>40</td><td>Boston Crab Meat</td><td>15</td><td>274.5</td></tr><tr><td>1</td><td>Chai</td><td>8</td><td>142.8</td></tr><tr><td>13</td><td>Konbu</td><td>10</td><td>60.0</td></tr><tr><td>56</td><td>Gnocchi di nonna Alice</td><td>30</td><td>1135.5</td></tr><tr><td>4</td><td>Chef Anton's Cajun Seasoning</td><td>50</td><td>1095.0</td></tr><tr><td>36</td><td>Inlagd Sill</td><td>30</td><td>567.0</td></tr><tr><td>11</td><td>Queso Cabrales</td><td>3</td><td>63.0</td></tr><tr><td>33</td><td>Geitost</td><td>8</td><td>18.4</td></tr><tr><td>72</td><td>Mozzarella di Giovanni</td><td>9</td><td>313.19998</td></tr><tr><td>55</td><td>Pâté chinois</td><td>14</td><td>336.0</td></tr><tr><td>68</td><td>Scottish Longbreads</td><td>20</td><td>250.0</td></tr><tr><td>69</td><td>Gudbrandsdalsost</td><td>10</td><td>360.0</td></tr><tr><td>17</td><td>Alice Mutton</td><td>40</td><td>1560.0</td></tr><tr><td>43</td><td>Ipoh Coffee</td><td>25</td><td>1150.0</td></tr><tr><td>61</td><td>Sirop d'érable</td><td>20</td><td>570.0</td></tr><tr><td>76</td><td>Lakkalikööri</td><td>50</td><td>900.0</td></tr><tr><td>59</td><td>Raclette Courdavault</td><td>2</td><td>110.0</td></tr><tr><td>30</td><td>Nord-Ost Matjeshering</td><td>15</td><td>388.34998</td></tr><tr><td>66</td><td>Louisiana Hot Spiced Okra</td><td>24</td><td>408.0</td></tr><tr><td>4</td><td>Chef Anton's Cajun Seasoning</td><td>50</td><td>1097.5</td></tr><tr><td>72</td><td>Mozzarella di Giovanni</td><td>24</td><td>835.19995</td></tr><tr><td>73</td><td>Röd Kaviar</td><td>24</td><td>358.8</td></tr><tr><td>30</td><td>Nord-Ost Matjeshering</td><td>10</td><td>258.9</td></tr><tr><td>40</td><td>Boston Crab Meat</td><td>10</td><td>181.99998</td></tr><tr><td>54</td><td>Tourtière</td><td>10</td><td>72.5</td></tr><tr><td>11</td><td>Queso Cabrales</td><td>50</td><td>1045.0</td></tr><tr><td>40</td><td>Boston Crab Meat</td><td>10</td><td>183.0</td></tr><tr><td>57</td><td>Ravioli Angelo</td><td>5</td><td>97.0</td></tr><tr><td>59</td><td>Raclette Courdavault</td><td>15</td><td>823.5</td></tr><tr><td>12</td><td>Queso Manchego La Pastora</td><td>15</td><td>566.25</td></tr><tr><td>31</td><td>Gorgonzola Telino</td><td>20</td><td>250.0</td></tr><tr><td>33</td><td>Geitost</td><td>30</td><td>75.0</td></tr><tr><td>60</td><td>Camembert Pierrot</td><td>35</td><td>1181.25</td></tr><tr><td>31</td><td>Gorgonzola Telino</td><td>30</td><td>375.0</td></tr><tr><td>51</td><td>Manjimup Dried Apples</td><td>6</td><td>318.0</td></tr><tr><td>58</td><td>Escargots de Bourgogne</td><td>20</td><td>265.0</td></tr><tr><td>72</td><td>Mozzarella di Giovanni</td><td>21</td><td>730.8</td></tr><tr><td>73</td><td>Röd Kaviar</td><td>9</td><td>135.0</td></tr><tr><td>70</td><td>Outback Lager</td><td>7</td><td>105.0</td></tr><tr><td>72</td><td>Mozzarella di Giovanni</td><td>1</td><td>34.8</td></tr><tr><td>13</td><td>Konbu</td><td>8</td><td>48.0</td></tr><tr><td>21</td><td>Sir Rodney's Scones</td><td>15</td><td>150.0</td></tr><tr><td>33</td><td>Geitost</td><td>15</td><td>37.5</td></tr><tr><td>49</td><td>Maxilaku</td><td>6</td><td>120.0</td></tr><tr><td>3</td><td>Aniseed Syrup</td><td>60</td><td>600.0</td></tr><tr><td>26</td><td>Gumbär Gummibärchen</td><td>40</td><td>1249.2</td></tr><tr><td>38</td><td>Côte de Blaye</td><td>30</td><td>7905.0</td></tr><tr><td>68</td><td>Scottish Longbreads</td><td>35</td><td>437.5</td></tr><tr><td>24</td><td>Guaraná Fantástica</td><td>35</td><td>154.0</td></tr><tr><td>38</td><td>Côte de Blaye</td><td>4</td><td>1053.6</td></tr><tr><td>65</td><td>Louisiana Fiery Hot Pepper Sauce</td><td>36</td><td>754.19995</td></tr><tr><td>71</td><td>Flotemysost</td><td>9</td><td>192.59999</td></tr><tr><td>11</td><td>Queso Cabrales</td><td>15</td><td>314.25</td></tr><tr><td>54</td><td>Tourtière</td><td>24</td><td>177.59999</td></tr><tr><td>12</td><td>Queso Manchego La Pastora</td><td>30</td><td>1135.5</td></tr><tr><td>23</td><td>Tunnbröd</td><td>70</td><td>619.5</td></tr><tr><td>28</td><td>Rössle Sauerkraut</td><td>7</td><td>319.19998</td></tr><tr><td>67</td><td>Laughing Lumberjack Lager</td><td>7</td><td>98.0</td></tr><tr><td>11</td><td>Queso Cabrales</td><td>10</td><td>210.0</td></tr><tr><td>7</td><td>Uncle Bob's Organic Dried Pears</td><td>10</td><td>300.0</td></tr><tr><td>35</td><td>Steeleye Stout</td><td>30</td><td>540.0</td></tr><tr><td>62</td><td>Tarte au sucre</td><td>40</td><td>1972.0</td></tr><tr><td>32</td><td>Mascarpone Fabioli</td><td>24</td><td>764.4</td></tr><tr><td>36</td><td>Inlagd Sill</td><td>60</td><td>1140.0</td></tr><tr><td>34</td><td>Sasquatch Ale</td><td>10</td><td>137.5</td></tr><tr><td>41</td><td>Jack's New England Clam Chowder</td><td>14</td><td>135.09999</td></tr><tr><td>31</td><td>Gorgonzola Telino</td><td>55</td><td>679.25</td></tr><tr><td>45</td><td>Rogede sild</td><td>100</td><td>935.00006</td></tr><tr><td>51</td><td>Manjimup Dried Apples</td><td>48</td><td>2536.7998</td></tr><tr><td>17</td><td>Alice Mutton</td><td>8</td><td>311.2</td></tr><tr><td>19</td><td>Teatime Chocolate Biscuits</td><td>10</td><td>92.0</td></tr><tr><td>21</td><td>Sir Rodney's Scones</td><td>6</td><td>59.399998</td></tr><tr><td>61</td><td>Sirop d'érable</td><td>10</td><td>284.0</td></tr><tr><td>16</td><td>Pavlova</td><td>40</td><td>692.00006</td></tr><tr><td>35</td><td>Steeleye Stout</td><td>20</td><td>357.0</td></tr><tr><td>44</td><td>Gula Malacca</td><td>40</td><td>778.0</td></tr><tr><td>69</td><td>Gudbrandsdalsost</td><td>18</td><td>648.0</td></tr><tr><td>75</td><td>Rhönbräu Klosterbier</td><td>30</td><td>232.5</td></tr><tr><td>11</td><td>Queso Cabrales</td><td>15</td><td>315.0</td></tr><tr><td>16</td><td>Pavlova</td><td>14</td><td>244.30002</td></tr><tr><td>22</td><td>Gustaf's Knäckebröd</td><td>24</td><td>504.0</td></tr><tr><td>31</td><td>Gorgonzola Telino</td><td>30</td><td>375.0</td></tr><tr><td>35</td><td>Steeleye Stout</td><td>6</td><td>108.0</td></tr><tr><td>16</td><td>Pavlova</td><td>30</td><td>522.00006</td></tr><tr><td>23</td><td>Tunnbröd</td><td>20</td><td>179.0</td></tr><tr><td>62</td><td>Tarte au sucre</td><td>20</td><td>985.0</td></tr><tr><td>77</td><td>Original Frankfurter grüne Soße</td><td>10</td><td>129.5</td></tr><tr><td>14</td><td>Tofu</td><td>30</td><td>691.5</td></tr><tr><td>19</td><td>Teatime Chocolate Biscuits</td><td>35</td><td>315.0</td></tr><tr><td>24</td><td>Guaraná Fantástica</td><td>18</td><td>77.4</td></tr><tr><td>51</td><td>Manjimup Dried Apples</td><td>20</td><td>1056.0</td></tr><tr><td>56</td><td>Gnocchi di nonna Alice</td><td>40</td><td>1512.0</td></tr><tr><td>72</td><td>Mozzarella di Giovanni</td><td>24</td><td>835.19995</td></tr><tr><td>64</td><td>Wimmers gute Semmelknödel</td><td>30</td><td>997.5</td></tr><tr><td>75</td><td>Rhönbräu Klosterbier</td><td>20</td><td>155.0</td></tr><tr><td>47</td><td>Zaanse koeken</td><td>25</td><td>237.5</td></tr><tr><td>51</td><td>Manjimup Dried Apples</td><td>20</td><td>1060.0</td></tr><tr><td>52</td><td>Filo Mix</td><td>30</td><td>210.0</td></tr><tr><td>53</td><td>Perth Pasties</td><td>18</td><td>590.39996</td></tr><tr><td>73</td><td>Röd Kaviar</td><td>3</td><td>45.0</td></tr><tr><td>41</td><td>Jack's New England Clam Chowder</td><td>12</td><td>115.2</td></tr><tr><td>55</td><td>Pâté chinois</td><td>18</td><td>431.1</td></tr><tr><td>30</td><td>Nord-Ost Matjeshering</td><td>20</td><td>517.8</td></tr><tr><td>62</td><td>Tarte au sucre</td><td>15</td><td>735.75</td></tr><tr><td>44</td><td>Gula Malacca</td><td>10</td><td>194.5</td></tr><tr><td>51</td><td>Manjimup Dried Apples</td><td>50</td><td>2650.0</td></tr><tr><td>33</td><td>Geitost</td><td>20</td><td>48.0</td></tr><tr><td>62</td><td>Tarte au sucre</td><td>10</td><td>492.0</td></tr><tr><td>36</td><td>Inlagd Sill</td><td>25</td><td>475.0</td></tr><tr><td>52</td><td>Filo Mix</td><td>70</td><td>490.0</td></tr><tr><td>17</td><td>Alice Mutton</td><td>16</td><td>623.2</td></tr><tr><td>31</td><td>Gorgonzola Telino</td><td>6</td><td>74.7</td></tr><tr><td>55</td><td>Pâté chinois</td><td>25</td><td>598.75</td></tr><tr><td>24</td><td>Guaraná Fantástica</td><td>25</td><td>110.0</td></tr><tr><td>64</td><td>Wimmers gute Semmelknödel</td><td>18</td><td>596.7</td></tr><tr><td>11</td><td>Queso Cabrales</td><td>35</td><td>729.75</td></tr><tr><td>18</td><td>Carnarvon Tigers</td><td>18</td><td>1122.2999</td></tr><tr><td>76</td><td>Lakkalikööri</td><td>10</td><td>180.0</td></tr><tr><td>31</td><td>Gorgonzola Telino</td><td>60</td><td>738.0</td></tr><tr><td>51</td><td>Manjimup Dried Apples</td><td>3</td><td>159.0</td></tr><tr><td>59</td><td>Raclette Courdavault</td><td>40</td><td>2192.0</td></tr><tr><td>10</td><td>Ikura</td><td>5</td><td>155.0</td></tr><tr><td>31</td><td>Gorgonzola Telino</td><td>35</td><td>430.5</td></tr><tr><td>76</td><td>Lakkalikööri</td><td>30</td><td>540.0</td></tr><tr><td>11</td><td>Queso Cabrales</td><td>15</td><td>314.25</td></tr><tr><td>56</td><td>Gnocchi di nonna Alice</td><td>60</td><td>2277.0</td></tr><tr><td>14</td><td>Tofu</td><td>11</td><td>254.1</td></tr><tr><td>42</td><td>Singaporean Hokkien Fried Mee</td><td>28</td><td>387.80002</td></tr><tr><td>16</td><td>Pavlova</td><td>12</td><td>208.20001</td></tr><tr><td>32</td><td>Mascarpone Fabioli</td><td>10</td><td>319.0</td></tr><tr><td>40</td><td>Boston Crab Meat</td><td>50</td><td>920.0</td></tr><tr><td>75</td><td>Rhönbräu Klosterbier</td><td>15</td><td>114.75</td></tr><tr><td>17</td><td>Alice Mutton</td><td>18</td><td>702.0</td></tr><tr><td>34</td><td>Sasquatch Ale</td><td>40</td><td>560.0</td></tr><tr><td>53</td><td>Perth Pasties</td><td>25</td><td>820.0</td></tr><tr><td>33</td><td>Geitost</td><td>14</td><td>35.0</td></tr><tr><td>40</td><td>Boston Crab Meat</td><td>2</td><td>36.8</td></tr><tr><td>62</td><td>Tarte au sucre</td><td>10</td><td>493.0</td></tr><tr><td>64</td><td>Wimmers gute Semmelknödel</td><td>6</td><td>199.5</td></tr><tr><td>59</td><td>Raclette Courdavault</td><td>12</td><td>660.0</td></tr><tr><td>63</td><td>Vegie-spread</td><td>6</td><td>263.40002</td></tr><tr><td>72</td><td>Mozzarella di Giovanni</td><td>30</td><td>1044.0</td></tr><tr><td>76</td><td>Lakkalikööri</td><td>10</td><td>180.0</td></tr><tr><td>1</td><td>Chai</td><td>10</td><td>180.0</td></tr><tr><td>31</td><td>Gorgonzola Telino</td><td>20</td><td>250.0</td></tr><tr><td>44</td><td>Gula Malacca</td><td>21</td><td>408.45</td></tr><tr><td>39</td><td>Chartreuse verte</td><td>10</td><td>180.0</td></tr><tr><td>75</td><td>Rhönbräu Klosterbier</td><td>20</td><td>155.0</td></tr><tr><td>77</td><td>Original Frankfurter grüne Soße</td><td>18</td><td>234.0</td></tr><tr><td>35</td><td>Steeleye Stout</td><td>20</td><td>360.0</td></tr><tr><td>57</td><td>Ravioli Angelo</td><td>6</td><td>117.0</td></tr><tr><td>15</td><td>Genen Shouyu</td><td>10</td><td>155.0</td></tr><tr><td>75</td><td>Rhönbräu Klosterbier</td><td>21</td><td>162.75</td></tr><tr><td>14</td><td>Tofu</td><td>15</td><td>348.0</td></tr><tr><td>41</td><td>Jack's New England Clam Chowder</td><td>9</td><td>86.399994</td></tr><tr><td>65</td><td>Louisiana Fiery Hot Pepper Sauce</td><td>30</td><td>630.0</td></tr><tr><td>75</td><td>Rhönbräu Klosterbier</td><td>50</td><td>377.5</td></tr><tr><td>57</td><td>Ravioli Angelo</td><td>4</td><td>78.0</td></tr><tr><td>76</td><td>Lakkalikööri</td><td>14</td><td>252.0</td></tr><tr><td>29</td><td>Thüringer Rostbratwurst</td><td>10</td><td>1237.9</td></tr><tr><td>60</td><td>Camembert Pierrot</td><td>24</td><td>812.39996</td></tr><tr><td>69</td><td>Gudbrandsdalsost</td><td>10</td><td>358.5</td></tr><tr><td>31</td><td>Gorgonzola Telino</td><td>50</td><td>622.5</td></tr><tr><td>47</td><td>Zaanse koeken</td><td>15</td><td>142.5</td></tr><tr><td>52</td><td>Filo Mix</td><td>4</td><td>27.4</td></tr><tr><td>26</td><td>Gumbär Gummibärchen</td><td>6</td><td>187.38</td></tr><tr><td>35</td><td>Steeleye Stout</td><td>20</td><td>360.0</td></tr><tr><td>77</td><td>Original Frankfurter grüne Soße</td><td>20</td><td>260.0</td></tr><tr><td>18</td><td>Carnarvon Tigers</td><td>40</td><td>2492.0</td></tr><tr><td>42</td><td>Singaporean Hokkien Fried Mee</td><td>100</td><td>1380.0</td></tr><tr><td>35</td><td>Steeleye Stout</td><td>4</td><td>72.0</td></tr><tr><td>1</td><td>Chai</td><td>20</td><td>360.0</td></tr><tr><td>77</td><td>Original Frankfurter grüne Soße</td><td>60</td><td>777.0</td></tr><tr><td>3</td><td>Aniseed Syrup</td><td>14</td><td>140.0</td></tr><tr><td>7</td><td>Uncle Bob's Organic Dried Pears</td><td>10</td><td>300.0</td></tr><tr><td>54</td><td>Tourtière</td><td>50</td><td>372.5</td></tr><tr><td>15</td><td>Genen Shouyu</td><td>25</td><td>386.25</td></tr><tr><td>26</td><td>Gumbär Gummibärchen</td><td>5</td><td>155.9</td></tr><tr><td>20</td><td>Sir Rodney's Marmalade</td><td>21</td><td>1696.8</td></tr><tr><td>69</td><td>Gudbrandsdalsost</td><td>20</td><td>716.0</td></tr><tr><td>76</td><td>Lakkalikööri</td><td>4</td><td>71.2</td></tr><tr><td>52</td><td>Filo Mix</td><td>24</td><td>168.0</td></tr><tr><td>58</td><td>Escargots de Bourgogne</td><td>30</td><td>397.5</td></tr><tr><td>35</td><td>Steeleye Stout</td><td>30</td><td>532.5</td></tr><tr><td>61</td><td>Sirop d'érable</td><td>120</td><td>3390.0</td></tr><tr><td>69</td><td>Gudbrandsdalsost</td><td>65</td><td>2323.75</td></tr><tr><td>56</td><td>Gnocchi di nonna Alice</td><td>5</td><td>189.0</td></tr><tr><td>63</td><td>Vegie-spread</td><td>24</td><td>1048.8</td></tr><tr><td>75</td><td>Rhönbräu Klosterbier</td><td>30</td><td>226.5</td></tr><tr><td>24</td><td>Guaraná Fantástica</td><td>35</td><td>150.5</td></tr><tr><td>57</td><td>Ravioli Angelo</td><td>20</td><td>390.0</td></tr><tr><td>65</td><td>Louisiana Fiery Hot Pepper Sauce</td><td>12</td><td>250.19998</td></tr><tr><td>27</td><td>Schoggi Schokolade</td><td>50</td><td>2195.0</td></tr><tr><td>71</td><td>Flotemysost</td><td>9</td><td>193.5</td></tr><tr><td>62</td><td>Tarte au sucre</td><td>10</td><td>493.0</td></tr><tr><td>54</td><td>Tourtière</td><td>4</td><td>29.8</td></tr><tr><td>73</td><td>Röd Kaviar</td><td>30</td><td>450.0</td></tr><tr><td>13</td><td>Konbu</td><td>60</td><td>360.0</td></tr><tr><td>59</td><td>Raclette Courdavault</td><td>35</td><td>1925.0</td></tr><tr><td>77</td><td>Original Frankfurter grüne Soße</td><td>5</td><td>63.75</td></tr><tr><td>22</td><td>Gustaf's Knäckebröd</td><td>48</td><td>1008.0</td></tr><tr><td>49</td><td>Maxilaku</td><td>25</td><td>498.75003</td></tr><tr><td>48</td><td>Chocolade</td><td>6</td><td>75.899994</td></tr><tr><td>76</td><td>Lakkalikööri</td><td>10</td><td>179.0</td></tr><tr><td>16</td><td>Pavlova</td><td>30</td><td>522.00006</td></tr><tr><td>59</td><td>Raclette Courdavault</td><td>20</td><td>1099.0</td></tr><tr><td>60</td><td>Camembert Pierrot</td><td>70</td><td>2376.5</td></tr><tr><td>71</td><td>Flotemysost</td><td>15</td><td>321.75</td></tr><tr><td>4</td><td>Chef Anton's Cajun Seasoning</td><td>20</td><td>436.0</td></tr><tr><td>55</td><td>Pâté chinois</td><td>20</td><td>476.0</td></tr><tr><td>62</td><td>Tarte au sucre</td><td>10</td><td>491.0</td></tr><tr><td>7</td><td>Uncle Bob's Organic Dried Pears</td><td>45</td><td>1350.0</td></tr><tr><td>17</td><td>Alice Mutton</td><td>100</td><td>3900.0</td></tr><tr><td>33</td><td>Geitost</td><td>14</td><td>35.0</td></tr><tr><td>40</td><td>Boston Crab Meat</td><td>42</td><td>772.8</td></tr><tr><td>72</td><td>Mozzarella di Giovanni</td><td>12</td><td>417.59998</td></tr><tr><td>56</td><td>Gnocchi di nonna Alice</td><td>28</td><td>1064.0</td></tr><tr><td>1</td><td>Chai</td><td>3</td><td>54.0</td></tr><tr><td>10</td><td>Ikura</td><td>10</td><td>310.0</td></tr><tr><td>21</td><td>Sir Rodney's Scones</td><td>6</td><td>60.0</td></tr><tr><td>36</td><td>Inlagd Sill</td><td>21</td><td>393.75</td></tr><tr><td>1</td><td>Chai</td><td>6</td><td>108.0</td></tr><tr><td>2</td><td>Chang</td><td>10</td><td>190.0</td></tr><tr><td>60</td><td>Camembert Pierrot</td><td>15</td><td>510.0</td></tr><tr><td>10</td><td>Ikura</td><td>70</td><td>2170.0</td></tr><tr><td>36</td><td>Inlagd Sill</td><td>55</td><td>1045.0</td></tr><tr><td>49</td><td>Maxilaku</td><td>18</td><td>360.0</td></tr><tr><td>60</td><td>Camembert Pierrot</td><td>40</td><td>1360.0</td></tr><tr><td>76</td><td>Lakkalikööri</td><td>80</td><td>1440.0</td></tr><tr><td>13</td><td>Konbu</td><td>8</td><td>47.2</td></tr><tr><td>75</td><td>Rhönbräu Klosterbier</td><td>40</td><td>310.0</td></tr><tr><td>11</td><td>Queso Cabrales</td><td>14</td><td>294.0</td></tr><tr><td>21</td><td>Sir Rodney's Scones</td><td>8</td><td>80.0</td></tr><tr><td>39</td><td>Chartreuse verte</td><td>5</td><td>90.0</td></tr><tr><td>55</td><td>Pâté chinois</td><td>5</td><td>120.0</td></tr><tr><td>38</td><td>Côte de Blaye</td><td>15</td><td>3951.7502</td></tr><tr><td>56</td><td>Gnocchi di nonna Alice</td><td>14</td><td>532.0</td></tr><tr><td>70</td><td>Outback Lager</td><td>15</td><td>224.25</td></tr><tr><td>71</td><td>Flotemysost</td><td>15</td><td>321.75</td></tr><tr><td>59</td><td>Raclette Courdavault</td><td>30</td><td>1645.5</td></tr><tr><td>6</td><td>Grandma's Boysenberry Spread</td><td>70</td><td>1750.0</td></tr><tr><td>56</td><td>Gnocchi di nonna Alice</td><td>20</td><td>760.0</td></tr><tr><td>68</td><td>Scottish Longbreads</td><td>15</td><td>187.5</td></tr><tr><td>21</td><td>Sir Rodney's Scones</td><td>42</td><td>420.0</td></tr><tr><td>22</td><td>Gustaf's Knäckebröd</td><td>40</td><td>840.0</td></tr><tr><td>24</td><td>Guaraná Fantástica</td><td>5</td><td>22.5</td></tr><tr><td>52</td><td>Filo Mix</td><td>5</td><td>35.0</td></tr><tr><td>19</td><td>Teatime Chocolate Biscuits</td><td>5</td><td>46.0</td></tr><tr><td>23</td><td>Tunnbröd</td><td>10</td><td>90.0</td></tr><tr><td>70</td><td>Outback Lager</td><td>20</td><td>300.0</td></tr><tr><td>71</td><td>Flotemysost</td><td>15</td><td>322.5</td></tr><tr><td>2</td><td>Chang</td><td>20</td><td>380.0</td></tr><tr><td>68</td><td>Scottish Longbreads</td><td>18</td><td>221.40001</td></tr><tr><td>14</td><td>Tofu</td><td>21</td><td>488.25</td></tr><tr><td>19</td><td>Teatime Chocolate Biscuits</td><td>15</td><td>136.49998</td></tr><tr><td>21</td><td>Sir Rodney's Scones</td><td>25</td><td>247.49998</td></tr><tr><td>24</td><td>Guaraná Fantástica</td><td>3</td><td>13.5</td></tr><tr><td>35</td><td>Steeleye Stout</td><td>30</td><td>537.0</td></tr><tr><td>28</td><td>Rössle Sauerkraut</td><td>10</td><td>456.0</td></tr><tr><td>29</td><td>Thüringer Rostbratwurst</td><td>6</td><td>742.74</td></tr><tr><td>44</td><td>Gula Malacca</td><td>10</td><td>194.5</td></tr><tr><td>14</td><td>Tofu</td><td>3</td><td>69.75</td></tr><tr><td>42</td><td>Singaporean Hokkien Fried Mee</td><td>5</td><td>70.0</td></tr><tr><td>60</td><td>Camembert Pierrot</td><td>10</td><td>340.0</td></tr></tbody></table>Showing the first 1000 rows.</div>"
      ]
     },
     "metadata": {
      "application/vnd.databricks.v1+output": {
       "addedWidgets": {},
       "aggData": [],
       "aggError": "",
       "aggOverflow": false,
       "aggSchema": [],
       "aggSeriesLimitReached": false,
       "aggType": "",
       "arguments": {},
       "columnCustomDisplayInfos": {},
       "data": [
        [
         11,
         "Queso Cabrales",
         12,
         168
        ],
        [
         42,
         "Singaporean Hokkien Fried Mee",
         10,
         98
        ],
        [
         72,
         "Mozzarella di Giovanni",
         5,
         174
        ],
        [
         14,
         "Tofu",
         9,
         167.40001
        ],
        [
         51,
         "Manjimup Dried Apples",
         40,
         1696
        ],
        [
         41,
         "Jack's New England Clam Chowder",
         10,
         77
        ],
        [
         51,
         "Manjimup Dried Apples",
         35,
         1478.75
        ],
        [
         65,
         "Louisiana Fiery Hot Pepper Sauce",
         15,
         249.75
        ],
        [
         22,
         "Gustaf's Knäckebröd",
         6,
         100.5
        ],
        [
         57,
         "Ravioli Angelo",
         15,
         233.25
        ],
        [
         65,
         "Louisiana Fiery Hot Pepper Sauce",
         20,
         336
        ],
        [
         20,
         "Sir Rodney's Marmalade",
         40,
         2590
        ],
        [
         33,
         "Geitost",
         25,
         48.75
        ],
        [
         60,
         "Camembert Pierrot",
         40,
         1088
        ],
        [
         31,
         "Gorgonzola Telino",
         20,
         200
        ],
        [
         39,
         "Chartreuse verte",
         42,
         604.8
        ],
        [
         49,
         "Maxilaku",
         40,
         640
        ],
        [
         24,
         "Guaraná Fantástica",
         15,
         51.749996
        ],
        [
         55,
         "Pâté chinois",
         21,
         400.05002
        ],
        [
         74,
         "Longlife Tofu",
         21,
         168
        ],
        [
         2,
         "Chang",
         20,
         304
        ],
        [
         16,
         "Pavlova",
         35,
         486.5
        ],
        [
         36,
         "Inlagd Sill",
         25,
         380
        ],
        [
         59,
         "Raclette Courdavault",
         30,
         1320
        ],
        [
         53,
         "Perth Pasties",
         15,
         393
        ],
        [
         77,
         "Original Frankfurter grüne Soße",
         12,
         124.799995
        ],
        [
         27,
         "Schoggi Schokolade",
         25,
         877.49994
        ],
        [
         39,
         "Chartreuse verte",
         6,
         86.399994
        ],
        [
         77,
         "Original Frankfurter grüne Soße",
         15,
         156
        ],
        [
         2,
         "Chang",
         50,
         750
        ],
        [
         5,
         "Chef Anton's Gumbo Mix",
         65,
         1092
        ],
        [
         32,
         "Mascarpone Fabioli",
         6,
         152.4
        ],
        [
         21,
         "Sir Rodney's Scones",
         10,
         80
        ],
        [
         37,
         "Gravad lax",
         1,
         20.8
        ],
        [
         41,
         "Jack's New England Clam Chowder",
         16,
         119.2
        ],
        [
         57,
         "Ravioli Angelo",
         50,
         780
        ],
        [
         62,
         "Tarte au sucre",
         15,
         587.25
        ],
        [
         70,
         "Outback Lager",
         21,
         246.75
        ],
        [
         21,
         "Sir Rodney's Scones",
         20,
         160
        ],
        [
         35,
         "Steeleye Stout",
         20,
         288
        ],
        [
         5,
         "Chef Anton's Gumbo Mix",
         12,
         201.59999
        ],
        [
         7,
         "Uncle Bob's Organic Dried Pears",
         15,
         360
        ],
        [
         56,
         "Gnocchi di nonna Alice",
         2,
         60.8
        ],
        [
         16,
         "Pavlova",
         60,
         819
        ],
        [
         24,
         "Guaraná Fantástica",
         28,
         100.799995
        ],
        [
         30,
         "Nord-Ost Matjeshering",
         60,
         1227
        ],
        [
         74,
         "Longlife Tofu",
         36,
         279
        ],
        [
         2,
         "Chang",
         35,
         532
        ],
        [
         41,
         "Jack's New England Clam Chowder",
         25,
         188.75
        ],
        [
         17,
         "Alice Mutton",
         30,
         936
        ],
        [
         70,
         "Outback Lager",
         20,
         240
        ],
        [
         12,
         "Queso Manchego La Pastora",
         12,
         364.2
        ],
        [
         40,
         "Boston Crab Meat",
         50,
         735
        ],
        [
         59,
         "Raclette Courdavault",
         70,
         3069.5
        ],
        [
         76,
         "Lakkalikööri",
         15,
         213.75
        ],
        [
         29,
         "Thüringer Rostbratwurst",
         10,
         990
        ],
        [
         72,
         "Mozzarella di Giovanni",
         4,
         111.2
        ],
        [
         33,
         "Geitost",
         60,
         117
        ],
        [
         72,
         "Mozzarella di Giovanni",
         20,
         555
        ],
        [
         36,
         "Inlagd Sill",
         30,
         456
        ],
        [
         43,
         "Ipoh Coffee",
         25,
         920
        ],
        [
         33,
         "Geitost",
         24,
         48
        ],
        [
         20,
         "Sir Rodney's Marmalade",
         6,
         388.80002
        ],
        [
         31,
         "Gorgonzola Telino",
         40,
         400
        ],
        [
         72,
         "Mozzarella di Giovanni",
         24,
         667.19995
        ],
        [
         10,
         "Ikura",
         24,
         594
        ],
        [
         31,
         "Gorgonzola Telino",
         15,
         149.25
        ],
        [
         33,
         "Geitost",
         20,
         40
        ],
        [
         40,
         "Boston Crab Meat",
         60,
         879
        ],
        [
         76,
         "Lakkalikööri",
         33,
         473.55
        ],
        [
         71,
         "Flotemysost",
         20,
         344
        ],
        [
         72,
         "Mozzarella di Giovanni",
         7,
         194.59999
        ],
        [
         24,
         "Guaraná Fantástica",
         12,
         42.6
        ],
        [
         59,
         "Raclette Courdavault",
         6,
         263.7
        ],
        [
         10,
         "Ikura",
         15,
         372
        ],
        [
         13,
         "Konbu",
         10,
         48
        ],
        [
         28,
         "Rössle Sauerkraut",
         20,
         728
        ],
        [
         62,
         "Tarte au sucre",
         12,
         472.80002
        ],
        [
         44,
         "Gula Malacca",
         16,
         248
        ],
        [
         59,
         "Raclette Courdavault",
         15,
         660
        ],
        [
         63,
         "Vegie-spread",
         8,
         280.8
        ],
        [
         73,
         "Röd Kaviar",
         25,
         300
        ],
        [
         17,
         "Alice Mutton",
         15,
         464.25
        ],
        [
         24,
         "Guaraná Fantástica",
         12,
         43.199997
        ],
        [
         55,
         "Pâté chinois",
         20,
         384
        ],
        [
         75,
         "Rhönbräu Klosterbier",
         30,
         186
        ],
        [
         19,
         "Teatime Chocolate Biscuits",
         1,
         7.3
        ],
        [
         24,
         "Guaraná Fantástica",
         6,
         21.599998
        ],
        [
         35,
         "Steeleye Stout",
         4,
         57.6
        ],
        [
         30,
         "Nord-Ost Matjeshering",
         6,
         124.200005
        ],
        [
         57,
         "Ravioli Angelo",
         2,
         31.2
        ],
        [
         15,
         "Genen Shouyu",
         20,
         248
        ],
        [
         19,
         "Teatime Chocolate Biscuits",
         18,
         131.40001
        ],
        [
         60,
         "Camembert Pierrot",
         35,
         952
        ],
        [
         72,
         "Mozzarella di Giovanni",
         3,
         83.399994
        ],
        [
         27,
         "Schoggi Schokolade",
         15,
         522.75
        ],
        [
         44,
         "Gula Malacca",
         21,
         325.5
        ],
        [
         60,
         "Camembert Pierrot",
         20,
         539
        ],
        [
         67,
         "Laughing Lumberjack Lager",
         5,
         54.75
        ],
        [
         1,
         "Chai",
         45,
         639
        ],
        [
         40,
         "Boston Crab Meat",
         40,
         580
        ],
        [
         53,
         "Perth Pasties",
         36,
         936
        ],
        [
         35,
         "Steeleye Stout",
         100,
         1440
        ],
        [
         62,
         "Tarte au sucre",
         40,
         1576
        ],
        [
         16,
         "Pavlova",
         40,
         550
        ],
        [
         34,
         "Sasquatch Ale",
         20,
         224
        ],
        [
         46,
         "Spegesild",
         15,
         141.75002
        ],
        [
         54,
         "Tourtière",
         10,
         58
        ],
        [
         68,
         "Scottish Longbreads",
         3,
         29.699999
        ],
        [
         3,
         "Aniseed Syrup",
         30,
         240
        ],
        [
         64,
         "Wimmers gute Semmelknödel",
         9,
         239.40001
        ],
        [
         5,
         "Chef Anton's Gumbo Mix",
         20,
         340
        ],
        [
         29,
         "Thüringer Rostbratwurst",
         15,
         1485
        ],
        [
         49,
         "Maxilaku",
         15,
         240
        ],
        [
         77,
         "Original Frankfurter grüne Soße",
         10,
         104
        ],
        [
         13,
         "Konbu",
         20,
         94.00001
        ],
        [
         44,
         "Gula Malacca",
         24,
         369.59998
        ],
        [
         51,
         "Manjimup Dried Apples",
         2,
         84.600006
        ],
        [
         20,
         "Sir Rodney's Marmalade",
         20,
         1296
        ],
        [
         18,
         "Carnarvon Tigers",
         12,
         600
        ],
        [
         24,
         "Guaraná Fantástica",
         10,
         36
        ],
        [
         63,
         "Vegie-spread",
         5,
         175.5
        ],
        [
         75,
         "Rhönbräu Klosterbier",
         6,
         37.199997
        ],
        [
         1,
         "Chai",
         18,
         259.19998
        ],
        [
         17,
         "Alice Mutton",
         15,
         468
        ],
        [
         43,
         "Ipoh Coffee",
         15,
         552
        ],
        [
         60,
         "Camembert Pierrot",
         21,
         571.2
        ],
        [
         75,
         "Rhönbräu Klosterbier",
         6,
         37.199997
        ],
        [
         56,
         "Gnocchi di nonna Alice",
         4,
         121.6
        ],
        [
         11,
         "Queso Cabrales",
         12,
         201.59999
        ],
        [
         16,
         "Pavlova",
         30,
         417
        ],
        [
         69,
         "Gudbrandsdalsost",
         15,
         432
        ],
        [
         39,
         "Chartreuse verte",
         60,
         864
        ],
        [
         72,
         "Mozzarella di Giovanni",
         20,
         556
        ],
        [
         2,
         "Chang",
         40,
         608
        ],
        [
         36,
         "Inlagd Sill",
         40,
         598
        ],
        [
         59,
         "Raclette Courdavault",
         30,
         1312.5
        ],
        [
         62,
         "Tarte au sucre",
         15,
         591
        ],
        [
         19,
         "Teatime Chocolate Biscuits",
         15,
         109.5
        ],
        [
         70,
         "Outback Lager",
         20,
         240
        ],
        [
         66,
         "Louisiana Hot Spiced Okra",
         30,
         408
        ],
        [
         68,
         "Scottish Longbreads",
         20,
         200
        ],
        [
         40,
         "Boston Crab Meat",
         10,
         147
        ],
        [
         56,
         "Gnocchi di nonna Alice",
         20,
         608
        ],
        [
         17,
         "Alice Mutton",
         40,
         1248
        ],
        [
         28,
         "Rössle Sauerkraut",
         28,
         1019.2001
        ],
        [
         43,
         "Ipoh Coffee",
         12,
         441.59998
        ],
        [
         40,
         "Boston Crab Meat",
         40,
         584
        ],
        [
         65,
         "Louisiana Fiery Hot Pepper Sauce",
         30,
         500.99997
        ],
        [
         68,
         "Scottish Longbreads",
         15,
         148.5
        ],
        [
         49,
         "Maxilaku",
         30,
         480
        ],
        [
         59,
         "Raclette Courdavault",
         10,
         440
        ],
        [
         71,
         "Flotemysost",
         2,
         34.4
        ],
        [
         18,
         "Carnarvon Tigers",
         25,
         1247.5
        ],
        [
         29,
         "Thüringer Rostbratwurst",
         25,
         2472.5
        ],
        [
         39,
         "Chartreuse verte",
         30,
         428.99997
        ],
        [
         30,
         "Nord-Ost Matjeshering",
         10,
         207
        ],
        [
         53,
         "Perth Pasties",
         10,
         262
        ],
        [
         54,
         "Tourtière",
         5,
         29.5
        ],
        [
         62,
         "Tarte au sucre",
         10,
         394
        ],
        [
         68,
         "Scottish Longbreads",
         3,
         30
        ],
        [
         69,
         "Gudbrandsdalsost",
         1,
         28.8
        ],
        [
         70,
         "Outback Lager",
         5,
         60
        ],
        [
         4,
         "Chef Anton's Cajun Seasoning",
         20,
         352
        ],
        [
         6,
         "Grandma's Boysenberry Spread",
         30,
         600
        ],
        [
         42,
         "Singaporean Hokkien Fried Mee",
         2,
         22.4
        ],
        [
         43,
         "Ipoh Coffee",
         20,
         736
        ],
        [
         71,
         "Flotemysost",
         3,
         51.600002
        ],
        [
         16,
         "Pavlova",
         10,
         139
        ],
        [
         62,
         "Tarte au sucre",
         5,
         197
        ],
        [
         42,
         "Singaporean Hokkien Fried Mee",
         6,
         67.2
        ],
        [
         69,
         "Gudbrandsdalsost",
         7,
         201.59999
        ],
        [
         28,
         "Rössle Sauerkraut",
         4,
         145.6
        ],
        [
         43,
         "Ipoh Coffee",
         24,
         883.19995
        ],
        [
         53,
         "Perth Pasties",
         20,
         524
        ],
        [
         75,
         "Rhönbräu Klosterbier",
         10,
         62
        ],
        [
         36,
         "Inlagd Sill",
         12,
         182.4
        ],
        [
         32,
         "Mascarpone Fabioli",
         40,
         1020
        ],
        [
         58,
         "Escargots de Bourgogne",
         30,
         315
        ],
        [
         62,
         "Tarte au sucre",
         25,
         982.50006
        ],
        [
         34,
         "Sasquatch Ale",
         14,
         156.8
        ],
        [
         70,
         "Outback Lager",
         30,
         360
        ],
        [
         41,
         "Jack's New England Clam Chowder",
         10,
         77
        ],
        [
         62,
         "Tarte au sucre",
         70,
         2758
        ],
        [
         1,
         "Chai",
         20,
         288
        ],
        [
         41,
         "Jack's New England Clam Chowder",
         20,
         154
        ],
        [
         76,
         "Lakkalikööri",
         6,
         86.399994
        ],
        [
         17,
         "Alice Mutton",
         8,
         249.6
        ],
        [
         28,
         "Rössle Sauerkraut",
         14,
         509.60004
        ],
        [
         76,
         "Lakkalikööri",
         30,
         432
        ],
        [
         71,
         "Flotemysost",
         30,
         516
        ],
        [
         35,
         "Steeleye Stout",
         10,
         144
        ],
        [
         52,
         "Filo Mix",
         20,
         112
        ],
        [
         15,
         "Genen Shouyu",
         5,
         62
        ],
        [
         25,
         "NuNuCa Nuß-Nougat-Creme",
         4,
         44.8
        ],
        [
         39,
         "Chartreuse verte",
         4,
         57.6
        ],
        [
         16,
         "Pavlova",
         21,
         288.75
        ],
        [
         35,
         "Steeleye Stout",
         70,
         997.5
        ],
        [
         46,
         "Spegesild",
         30,
         288
        ],
        [
         59,
         "Raclette Courdavault",
         40,
         1754
        ],
        [
         63,
         "Vegie-spread",
         80,
         2795.9998
        ],
        [
         6,
         "Grandma's Boysenberry Spread",
         6,
         120
        ],
        [
         13,
         "Konbu",
         12,
         57.600002
        ],
        [
         14,
         "Tofu",
         9,
         167.40001
        ],
        [
         31,
         "Gorgonzola Telino",
         4,
         40
        ],
        [
         72,
         "Mozzarella di Giovanni",
         40,
         1112
        ],
        [
         4,
         "Chef Anton's Cajun Seasoning",
         24,
         422.40002
        ],
        [
         57,
         "Ravioli Angelo",
         16,
         249.6
        ],
        [
         75,
         "Rhönbräu Klosterbier",
         50,
         310
        ],
        [
         2,
         "Chang",
         25,
         375
        ],
        [
         11,
         "Queso Cabrales",
         50,
         829.99994
        ],
        [
         30,
         "Nord-Ost Matjeshering",
         35,
         717.5
        ],
        [
         58,
         "Escargots de Bourgogne",
         30,
         312.00003
        ],
        [
         59,
         "Raclette Courdavault",
         9,
         396
        ],
        [
         65,
         "Louisiana Fiery Hot Pepper Sauce",
         40,
         672
        ],
        [
         68,
         "Scottish Longbreads",
         10,
         100
        ],
        [
         19,
         "Teatime Chocolate Biscuits",
         10,
         72.5
        ],
        [
         30,
         "Nord-Ost Matjeshering",
         8,
         165.20001
        ],
        [
         38,
         "Côte de Blaye",
         20,
         4215
        ],
        [
         56,
         "Gnocchi di nonna Alice",
         12,
         364.2
        ],
        [
         26,
         "Gumbär Gummibärchen",
         50,
         1237.5
        ],
        [
         72,
         "Mozzarella di Giovanni",
         25,
         691.25
        ],
        [
         54,
         "Tourtière",
         15,
         88.5
        ],
        [
         18,
         "Carnarvon Tigers",
         40,
         1992
        ],
        [
         42,
         "Singaporean Hokkien Fried Mee",
         10,
         110
        ],
        [
         47,
         "Zaanse koeken",
         16,
         118.4
        ],
        [
         14,
         "Tofu",
         10,
         186
        ],
        [
         21,
         "Sir Rodney's Scones",
         10,
         79
        ],
        [
         71,
         "Flotemysost",
         40,
         684
        ],
        [
         52,
         "Filo Mix",
         8,
         44.8
        ],
        [
         68,
         "Scottish Longbreads",
         10,
         100
        ],
        [
         2,
         "Chang",
         7,
         105
        ],
        [
         31,
         "Gorgonzola Telino",
         25,
         245
        ],
        [
         32,
         "Mascarpone Fabioli",
         6,
         152.4
        ],
        [
         51,
         "Manjimup Dried Apples",
         48,
         2025.6001
        ],
        [
         4,
         "Chef Anton's Cajun Seasoning",
         18,
         315
        ],
        [
         23,
         "Tunnbröd",
         40,
         288
        ],
        [
         26,
         "Gumbär Gummibärchen",
         24,
         597.6
        ],
        [
         36,
         "Inlagd Sill",
         20,
         304
        ],
        [
         37,
         "Gravad lax",
         28,
         582.39996
        ],
        [
         72,
         "Mozzarella di Giovanni",
         25,
         695
        ],
        [
         17,
         "Alice Mutton",
         20,
         624
        ],
        [
         30,
         "Nord-Ost Matjeshering",
         15,
         310.5
        ],
        [
         4,
         "Chef Anton's Cajun Seasoning",
         10,
         176
        ],
        [
         17,
         "Alice Mutton",
         70,
         2180.5
        ],
        [
         62,
         "Tarte au sucre",
         28,
         1103.2001
        ],
        [
         18,
         "Carnarvon Tigers",
         20,
         999
        ],
        [
         41,
         "Jack's New England Clam Chowder",
         12,
         91.799995
        ],
        [
         43,
         "Ipoh Coffee",
         40,
         1470
        ],
        [
         33,
         "Geitost",
         8,
         16
        ],
        [
         59,
         "Raclette Courdavault",
         9,
         394.65
        ],
        [
         2,
         "Chang",
         24,
         360
        ],
        [
         31,
         "Gorgonzola Telino",
         56,
         548.8
        ],
        [
         36,
         "Inlagd Sill",
         40,
         600
        ],
        [
         55,
         "Pâté chinois",
         40,
         760
        ],
        [
         64,
         "Wimmers gute Semmelknödel",
         50,
         1330
        ],
        [
         68,
         "Scottish Longbreads",
         4,
         39.8
        ],
        [
         76,
         "Lakkalikööri",
         15,
         216
        ],
        [
         4,
         "Chef Anton's Cajun Seasoning",
         35,
         616
        ],
        [
         8,
         "Northwoods Cranberry Sauce",
         70,
         2222.5
        ],
        [
         8,
         "Northwoods Cranberry Sauce",
         70,
         2240
        ],
        [
         19,
         "Teatime Chocolate Biscuits",
         80,
         584
        ],
        [
         42,
         "Singaporean Hokkien Fried Mee",
         9,
         100.799995
        ],
        [
         17,
         "Alice Mutton",
         36,
         1119.6
        ],
        [
         56,
         "Gnocchi di nonna Alice",
         20,
         608
        ],
        [
         25,
         "NuNuCa Nuß-Nougat-Creme",
         10,
         112
        ],
        [
         39,
         "Chartreuse verte",
         50,
         712.5
        ],
        [
         40,
         "Boston Crab Meat",
         4,
         58.8
        ],
        [
         75,
         "Rhönbräu Klosterbier",
         6,
         36.3
        ],
        [
         1,
         "Chai",
         15,
         213.75
        ],
        [
         23,
         "Tunnbröd",
         25,
         180
        ],
        [
         54,
         "Tourtière",
         24,
         141.6
        ],
        [
         50,
         "Valkoinen suklaa",
         15,
         193.5
        ],
        [
         69,
         "Gudbrandsdalsost",
         18,
         516.6
        ],
        [
         38,
         "Côte de Blaye",
         20,
         4215
        ],
        [
         41,
         "Jack's New England Clam Chowder",
         13,
         100.1
        ],
        [
         44,
         "Gula Malacca",
         77,
         1189.65
        ],
        [
         65,
         "Louisiana Fiery Hot Pepper Sauce",
         10,
         167.5
        ],
        [
         24,
         "Guaraná Fantástica",
         10,
         36
        ],
        [
         54,
         "Tourtière",
         20,
         115
        ],
        [
         11,
         "Queso Cabrales",
         12,
         199.19998
        ],
        [
         38,
         "Côte de Blaye",
         50,
         10530
        ],
        [
         1,
         "Chai",
         12,
         172.79999
        ],
        [
         29,
         "Thüringer Rostbratwurst",
         4,
         396
        ],
        [
         24,
         "Guaraná Fantástica",
         25,
         90
        ],
        [
         57,
         "Ravioli Angelo",
         25,
         390
        ],
        [
         31,
         "Gorgonzola Telino",
         30,
         300
        ],
        [
         55,
         "Pâté chinois",
         12,
         230.40001
        ],
        [
         69,
         "Gudbrandsdalsost",
         20,
         576
        ],
        [
         10,
         "Ikura",
         30,
         737.99994
        ],
        [
         26,
         "Gumbär Gummibärchen",
         16,
         398.4
        ],
        [
         60,
         "Camembert Pierrot",
         8,
         216
        ],
        [
         24,
         "Guaraná Fantástica",
         10,
         35.5
        ],
        [
         34,
         "Sasquatch Ale",
         10,
         111.5
        ],
        [
         36,
         "Inlagd Sill",
         20,
         303
        ],
        [
         16,
         "Pavlova",
         56,
         775.6
        ],
        [
         31,
         "Gorgonzola Telino",
         70,
         696.5
        ],
        [
         60,
         "Camembert Pierrot",
         80,
         2172
        ],
        [
         28,
         "Rössle Sauerkraut",
         30,
         1092
        ],
        [
         29,
         "Thüringer Rostbratwurst",
         35,
         3465
        ],
        [
         38,
         "Côte de Blaye",
         10,
         2108
        ],
        [
         49,
         "Maxilaku",
         35,
         560
        ],
        [
         54,
         "Tourtière",
         28,
         165.2
        ],
        [
         39,
         "Chartreuse verte",
         54,
         772.19995
        ],
        [
         60,
         "Camembert Pierrot",
         55,
         1490.5
        ],
        [
         25,
         "NuNuCa Nuß-Nougat-Creme",
         50,
         560
        ],
        [
         51,
         "Manjimup Dried Apples",
         20,
         848
        ],
        [
         54,
         "Tourtière",
         24,
         141.6
        ],
        [
         31,
         "Gorgonzola Telino",
         20,
         200
        ],
        [
         75,
         "Rhönbräu Klosterbier",
         12,
         74.399994
        ],
        [
         76,
         "Lakkalikööri",
         12,
         172.79999
        ],
        [
         69,
         "Gudbrandsdalsost",
         30,
         864
        ],
        [
         71,
         "Flotemysost",
         5,
         86
        ],
        [
         11,
         "Queso Cabrales",
         24,
         403.19998
        ],
        [
         65,
         "Louisiana Fiery Hot Pepper Sauce",
         5,
         84
        ],
        [
         77,
         "Original Frankfurter grüne Soße",
         5,
         52
        ],
        [
         34,
         "Sasquatch Ale",
         36,
         403.19998
        ],
        [
         54,
         "Tourtière",
         18,
         106.200005
        ],
        [
         65,
         "Louisiana Fiery Hot Pepper Sauce",
         15,
         251.99998
        ],
        [
         77,
         "Original Frankfurter grüne Soße",
         7,
         72.799995
        ],
        [
         21,
         "Sir Rodney's Scones",
         5,
         39.5
        ],
        [
         28,
         "Rössle Sauerkraut",
         13,
         471.90002
        ],
        [
         57,
         "Ravioli Angelo",
         25,
         390
        ],
        [
         64,
         "Wimmers gute Semmelknödel",
         35,
         927.5
        ],
        [
         29,
         "Thüringer Rostbratwurst",
         20,
         1980
        ],
        [
         56,
         "Gnocchi di nonna Alice",
         18,
         542.7
        ],
        [
         1,
         "Chai",
         15,
         213.75
        ],
        [
         64,
         "Wimmers gute Semmelknödel",
         30,
         798
        ],
        [
         74,
         "Longlife Tofu",
         20,
         157
        ],
        [
         36,
         "Inlagd Sill",
         6,
         90
        ],
        [
         20,
         "Sir Rodney's Marmalade",
         12,
         774.60004
        ],
        [
         38,
         "Côte de Blaye",
         40,
         8422
        ],
        [
         60,
         "Camembert Pierrot",
         70,
         1886.5
        ],
        [
         72,
         "Mozzarella di Giovanni",
         42,
         1157.1
        ],
        [
         58,
         "Escargots de Bourgogne",
         80,
         832.00006
        ],
        [
         71,
         "Flotemysost",
         50,
         850
        ],
        [
         31,
         "Gorgonzola Telino",
         30,
         300
        ],
        [
         58,
         "Escargots de Bourgogne",
         15,
         159
        ],
        [
         14,
         "Tofu",
         15,
         279
        ],
        [
         54,
         "Tourtière",
         10,
         59
        ],
        [
         31,
         "Gorgonzola Telino",
         42,
         417.9
        ],
        [
         28,
         "Rössle Sauerkraut",
         20,
         725
        ],
        [
         39,
         "Chartreuse verte",
         20,
         285
        ],
        [
         71,
         "Flotemysost",
         6,
         103.200005
        ],
        [
         41,
         "Jack's New England Clam Chowder",
         8,
         60.8
        ],
        [
         63,
         "Vegie-spread",
         16,
         560
        ],
        [
         65,
         "Louisiana Fiery Hot Pepper Sauce",
         20,
         333.99997
        ],
        [
         30,
         "Nord-Ost Matjeshering",
         18,
         370.80002
        ],
        [
         53,
         "Perth Pasties",
         20,
         522
        ],
        [
         60,
         "Camembert Pierrot",
         6,
         162.6
        ],
        [
         70,
         "Outback Lager",
         30,
         360
        ],
        [
         74,
         "Longlife Tofu",
         14,
         112
        ],
        [
         5,
         "Chef Anton's Gumbo Mix",
         32,
         544
        ],
        [
         18,
         "Carnarvon Tigers",
         9,
         450
        ],
        [
         29,
         "Thüringer Rostbratwurst",
         14,
         1386
        ],
        [
         33,
         "Geitost",
         60,
         120
        ],
        [
         74,
         "Longlife Tofu",
         50,
         400
        ],
        [
         13,
         "Konbu",
         20,
         96
        ],
        [
         50,
         "Valkoinen suklaa",
         15,
         195
        ],
        [
         56,
         "Gnocchi di nonna Alice",
         20,
         608
        ],
        [
         20,
         "Sir Rodney's Marmalade",
         28,
         1814.4001
        ],
        [
         60,
         "Camembert Pierrot",
         15,
         408
        ],
        [
         7,
         "Uncle Bob's Organic Dried Pears",
         10,
         238
        ],
        [
         60,
         "Camembert Pierrot",
         20,
         540
        ],
        [
         68,
         "Scottish Longbreads",
         8,
         78.4
        ],
        [
         24,
         "Guaraná Fantástica",
         15,
         54
        ],
        [
         34,
         "Sasquatch Ale",
         10,
         112
        ],
        [
         24,
         "Guaraná Fantástica",
         15,
         54
        ],
        [
         28,
         "Rössle Sauerkraut",
         6,
         218.40001
        ],
        [
         59,
         "Raclette Courdavault",
         12,
         528
        ],
        [
         71,
         "Flotemysost",
         15,
         258
        ],
        [
         45,
         "Rogede sild",
         15,
         111
        ],
        [
         52,
         "Filo Mix",
         20,
         108
        ],
        [
         53,
         "Perth Pasties",
         40,
         1048
        ],
        [
         10,
         "Ikura",
         16,
         396.8
        ],
        [
         55,
         "Pâté chinois",
         15,
         288
        ],
        [
         62,
         "Tarte au sucre",
         20,
         788
        ],
        [
         70,
         "Outback Lager",
         30,
         360
        ],
        [
         31,
         "Gorgonzola Telino",
         60,
         594
        ],
        [
         35,
         "Steeleye Stout",
         40,
         572
        ],
        [
         46,
         "Spegesild",
         45,
         432.00003
        ],
        [
         72,
         "Mozzarella di Giovanni",
         24,
         664.8
        ],
        [
         13,
         "Konbu",
         18,
         86.4
        ],
        [
         69,
         "Gudbrandsdalsost",
         50,
         1440
        ],
        [
         2,
         "Chang",
         25,
         373.75
        ],
        [
         14,
         "Tofu",
         42,
         770.7
        ],
        [
         25,
         "NuNuCa Nuß-Nougat-Creme",
         7,
         76.65
        ],
        [
         26,
         "Gumbär Gummibärchen",
         70,
         1725.5
        ],
        [
         31,
         "Gorgonzola Telino",
         32,
         320
        ],
        [
         13,
         "Konbu",
         10,
         48
        ],
        [
         62,
         "Tarte au sucre",
         10,
         394
        ],
        [
         46,
         "Spegesild",
         28,
         266
        ],
        [
         53,
         "Perth Pasties",
         70,
         1827
        ],
        [
         69,
         "Gudbrandsdalsost",
         8,
         230.4
        ],
        [
         23,
         "Tunnbröd",
         40,
         288
        ],
        [
         71,
         "Flotemysost",
         60,
         1032
        ],
        [
         72,
         "Mozzarella di Giovanni",
         21,
         583.8
        ],
        [
         21,
         "Sir Rodney's Scones",
         10,
         78.5
        ],
        [
         51,
         "Manjimup Dried Apples",
         18,
         760.5
        ],
        [
         35,
         "Steeleye Stout",
         30,
         432
        ],
        [
         55,
         "Pâté chinois",
         120,
         2292
        ],
        [
         68,
         "Scottish Longbreads",
         60,
         600
        ],
        [
         71,
         "Flotemysost",
         30,
         516
        ],
        [
         76,
         "Lakkalikööri",
         35,
         504
        ],
        [
         77,
         "Original Frankfurter grüne Soße",
         14,
         145.59999
        ],
        [
         29,
         "Thüringer Rostbratwurst",
         21,
         2079
        ],
        [
         35,
         "Steeleye Stout",
         35,
         504
        ],
        [
         49,
         "Maxilaku",
         30,
         480
        ],
        [
         30,
         "Nord-Ost Matjeshering",
         18,
         372.6
        ],
        [
         56,
         "Gnocchi di nonna Alice",
         70,
         2128
        ],
        [
         65,
         "Louisiana Fiery Hot Pepper Sauce",
         20,
         336
        ],
        [
         71,
         "Flotemysost",
         60,
         1032
        ],
        [
         23,
         "Tunnbröd",
         60,
         432
        ],
        [
         63,
         "Vegie-spread",
         65,
         2281.5
        ],
        [
         16,
         "Pavlova",
         21,
         288.75
        ],
        [
         48,
         "Chocolade",
         70,
         703.5
        ],
        [
         26,
         "Gumbär Gummibärchen",
         30,
         745.5
        ],
        [
         42,
         "Singaporean Hokkien Fried Mee",
         40,
         446
        ],
        [
         49,
         "Maxilaku",
         30,
         478.5
        ],
        [
         3,
         "Aniseed Syrup",
         50,
         400
        ],
        [
         1,
         "Chai",
         10,
         144
        ],
        [
         21,
         "Sir Rodney's Scones",
         30,
         237
        ],
        [
         28,
         "Rössle Sauerkraut",
         42,
         1524.6001
        ],
        [
         36,
         "Inlagd Sill",
         5,
         75.5
        ],
        [
         40,
         "Boston Crab Meat",
         2,
         29.199999
        ],
        [
         11,
         "Queso Cabrales",
         30,
         503.99997
        ],
        [
         69,
         "Gudbrandsdalsost",
         15,
         432
        ],
        [
         71,
         "Flotemysost",
         15,
         258
        ],
        [
         37,
         "Gravad lax",
         10,
         208
        ],
        [
         54,
         "Tourtière",
         6,
         35.4
        ],
        [
         62,
         "Tarte au sucre",
         35,
         1379
        ],
        [
         14,
         "Tofu",
         12,
         223.20001
        ],
        [
         21,
         "Sir Rodney's Scones",
         12,
         96
        ],
        [
         33,
         "Geitost",
         49,
         98
        ],
        [
         59,
         "Raclette Courdavault",
         16,
         704
        ],
        [
         41,
         "Jack's New England Clam Chowder",
         25,
         187.5
        ],
        [
         44,
         "Gula Malacca",
         40,
         612
        ],
        [
         59,
         "Raclette Courdavault",
         9,
         394.19998
        ],
        [
         14,
         "Tofu",
         20,
         370
        ],
        [
         1,
         "Chai",
         24,
         345.59998
        ],
        [
         62,
         "Tarte au sucre",
         40,
         1576
        ],
        [
         76,
         "Lakkalikööri",
         14,
         201.59999
        ],
        [
         19,
         "Teatime Chocolate Biscuits",
         18,
         130.5
        ],
        [
         33,
         "Geitost",
         50,
         100
        ],
        [
         17,
         "Alice Mutton",
         2,
         62.4
        ],
        [
         33,
         "Geitost",
         20,
         40
        ],
        [
         19,
         "Teatime Chocolate Biscuits",
         20,
         146
        ],
        [
         53,
         "Perth Pasties",
         10,
         262
        ],
        [
         57,
         "Ravioli Angelo",
         20,
         312
        ],
        [
         38,
         "Côte de Blaye",
         50,
         10540
        ],
        [
         46,
         "Spegesild",
         2,
         18.7
        ],
        [
         68,
         "Scottish Longbreads",
         36,
         351
        ],
        [
         77,
         "Original Frankfurter grüne Soße",
         35,
         364
        ],
        [
         2,
         "Chang",
         60,
         912
        ],
        [
         47,
         "Zaanse koeken",
         55,
         418
        ],
        [
         61,
         "Sirop d'érable",
         16,
         364.8
        ],
        [
         74,
         "Longlife Tofu",
         15,
         120
        ],
        [
         60,
         "Camembert Pierrot",
         60,
         1629.0001
        ],
        [
         69,
         "Gudbrandsdalsost",
         20,
         575
        ],
        [
         9,
         "Mishi Kobe Niku",
         20,
         1550
        ],
        [
         13,
         "Konbu",
         2,
         9.400001
        ],
        [
         70,
         "Outback Lager",
         8,
         95.2
        ],
        [
         73,
         "Röd Kaviar",
         20,
         238
        ],
        [
         19,
         "Teatime Chocolate Biscuits",
         4,
         28.6
        ],
        [
         26,
         "Gumbär Gummibärchen",
         30,
         747
        ],
        [
         53,
         "Perth Pasties",
         15,
         390.75003
        ],
        [
         77,
         "Original Frankfurter grüne Soße",
         10,
         102.5
        ],
        [
         26,
         "Gumbär Gummibärchen",
         2,
         49.8
        ],
        [
         31,
         "Gorgonzola Telino",
         14,
         140
        ],
        [
         59,
         "Raclette Courdavault",
         20,
         880
        ],
        [
         35,
         "Steeleye Stout",
         60,
         852
        ],
        [
         38,
         "Côte de Blaye",
         49,
         10319.4
        ],
        [
         68,
         "Scottish Longbreads",
         30,
         294
        ],
        [
         55,
         "Pâté chinois",
         10,
         189.5
        ],
        [
         76,
         "Lakkalikööri",
         20,
         283
        ],
        [
         56,
         "Gnocchi di nonna Alice",
         5,
         152
        ],
        [
         64,
         "Wimmers gute Semmelknödel",
         7,
         186.2
        ],
        [
         14,
         "Tofu",
         35,
         651
        ],
        [
         46,
         "Spegesild",
         20,
         192
        ],
        [
         50,
         "Valkoinen suklaa",
         40,
         520
        ],
        [
         63,
         "Vegie-spread",
         35,
         1219.75
        ],
        [
         17,
         "Alice Mutton",
         45,
         1395
        ],
        [
         21,
         "Sir Rodney's Scones",
         50,
         400
        ],
        [
         56,
         "Gnocchi di nonna Alice",
         30,
         912
        ],
        [
         59,
         "Raclette Courdavault",
         70,
         3066
        ],
        [
         17,
         "Alice Mutton",
         50,
         1547.5
        ],
        [
         40,
         "Boston Crab Meat",
         50,
         722.5
        ],
        [
         47,
         "Zaanse koeken",
         30,
         220.5
        ],
        [
         26,
         "Gumbär Gummibärchen",
         10,
         249
        ],
        [
         54,
         "Tourtière",
         40,
         236
        ],
        [
         56,
         "Gnocchi di nonna Alice",
         28,
         851.2
        ],
        [
         11,
         "Queso Cabrales",
         6,
         100.799995
        ],
        [
         76,
         "Lakkalikööri",
         18,
         256.5
        ],
        [
         2,
         "Chang",
         10,
         152
        ],
        [
         22,
         "Gustaf's Knäckebröd",
         12,
         201.59999
        ],
        [
         72,
         "Mozzarella di Giovanni",
         10,
         278
        ],
        [
         46,
         "Spegesild",
         5,
         48
        ],
        [
         56,
         "Gnocchi di nonna Alice",
         40,
         1212
        ],
        [
         64,
         "Wimmers gute Semmelknödel",
         30,
         795
        ],
        [
         75,
         "Rhönbräu Klosterbier",
         24,
         146.4
        ],
        [
         53,
         "Perth Pasties",
         15,
         393
        ],
        [
         19,
         "Teatime Chocolate Biscuits",
         15,
         106.50001
        ],
        [
         34,
         "Sasquatch Ale",
         20,
         220
        ],
        [
         57,
         "Ravioli Angelo",
         15,
         231.00002
        ],
        [
         12,
         "Queso Manchego La Pastora",
         15,
         456
        ],
        [
         16,
         "Pavlova",
         16,
         222.4
        ],
        [
         64,
         "Wimmers gute Semmelknödel",
         6,
         159.6
        ],
        [
         74,
         "Longlife Tofu",
         30,
         240
        ],
        [
         2,
         "Chang",
         45,
         677.25
        ],
        [
         16,
         "Pavlova",
         49,
         673.75
        ],
        [
         29,
         "Thüringer Rostbratwurst",
         24,
         2372.4
        ],
        [
         61,
         "Sirop d'érable",
         90,
         2038.5
        ],
        [
         27,
         "Schoggi Schokolade",
         50,
         1754.9999
        ],
        [
         11,
         "Queso Cabrales",
         30,
         503.99997
        ],
        [
         54,
         "Tourtière",
         80,
         472
        ],
        [
         66,
         "Louisiana Hot Spiced Okra",
         60,
         816
        ],
        [
         11,
         "Queso Cabrales",
         6,
         99.59999
        ],
        [
         28,
         "Rössle Sauerkraut",
         12,
         436.80002
        ],
        [
         17,
         "Alice Mutton",
         10,
         312
        ],
        [
         26,
         "Gumbär Gummibärchen",
         15,
         373.5
        ],
        [
         35,
         "Steeleye Stout",
         8,
         115.2
        ],
        [
         41,
         "Jack's New England Clam Chowder",
         30,
         231
        ],
        [
         39,
         "Chartreuse verte",
         6,
         86.399994
        ],
        [
         54,
         "Tourtière",
         15,
         88.5
        ],
        [
         19,
         "Teatime Chocolate Biscuits",
         12,
         86.4
        ],
        [
         24,
         "Guaraná Fantástica",
         20,
         70
        ],
        [
         31,
         "Gorgonzola Telino",
         3,
         29.699999
        ],
        [
         52,
         "Filo Mix",
         15,
         82.5
        ],
        [
         19,
         "Teatime Chocolate Biscuits",
         40,
         292
        ],
        [
         65,
         "Louisiana Fiery Hot Pepper Sauce",
         35,
         588
        ],
        [
         71,
         "Flotemysost",
         2,
         34.4
        ],
        [
         26,
         "Gumbär Gummibärchen",
         6,
         149.4
        ],
        [
         40,
         "Boston Crab Meat",
         20,
         294
        ],
        [
         10,
         "Ikura",
         14,
         347.19998
        ],
        [
         52,
         "Filo Mix",
         20,
         112
        ],
        [
         62,
         "Tarte au sucre",
         35,
         1379
        ],
        [
         10,
         "Ikura",
         20,
         491.99997
        ],
        [
         54,
         "Tourtière",
         6,
         34.2
        ],
        [
         55,
         "Pâté chinois",
         120,
         2292
        ],
        [
         64,
         "Wimmers gute Semmelknödel",
         35,
         927.5
        ],
        [
         65,
         "Louisiana Fiery Hot Pepper Sauce",
         28,
         467.59998
        ],
        [
         77,
         "Original Frankfurter grüne Soße",
         55,
         566.49994
        ],
        [
         28,
         "Rössle Sauerkraut",
         15,
         546
        ],
        [
         44,
         "Gula Malacca",
         100,
         1545
        ],
        [
         48,
         "Chocolade",
         15,
         151.49998
        ],
        [
         70,
         "Outback Lager",
         25,
         297.5
        ],
        [
         16,
         "Pavlova",
         20,
         274
        ],
        [
         33,
         "Geitost",
         20,
         36
        ],
        [
         46,
         "Spegesild",
         10,
         94.00001
        ],
        [
         39,
         "Chartreuse verte",
         20,
         288
        ],
        [
         53,
         "Perth Pasties",
         50,
         1310
        ],
        [
         61,
         "Sirop d'érable",
         25,
         570
        ],
        [
         71,
         "Flotemysost",
         30,
         516
        ],
        [
         21,
         "Sir Rodney's Scones",
         40,
         314
        ],
        [
         49,
         "Maxilaku",
         21,
         332.85
        ],
        [
         59,
         "Raclette Courdavault",
         36,
         1584
        ],
        [
         26,
         "Gumbär Gummibärchen",
         30,
         747
        ],
        [
         28,
         "Rössle Sauerkraut",
         30,
         1092
        ],
        [
         43,
         "Ipoh Coffee",
         20,
         736
        ],
        [
         56,
         "Gnocchi di nonna Alice",
         15,
         456
        ],
        [
         71,
         "Flotemysost",
         50,
         860.00006
        ],
        [
         7,
         "Uncle Bob's Organic Dried Pears",
         16,
         383.2
        ],
        [
         46,
         "Spegesild",
         20,
         191
        ],
        [
         72,
         "Mozzarella di Giovanni",
         40,
         1112
        ],
        [
         68,
         "Scottish Longbreads",
         21,
         204.75
        ],
        [
         75,
         "Rhönbräu Klosterbier",
         4,
         23.8
        ],
        [
         21,
         "Sir Rodney's Scones",
         40,
         310
        ],
        [
         30,
         "Nord-Ost Matjeshering",
         28,
         572.60004
        ],
        [
         55,
         "Pâté chinois",
         60,
         1137
        ],
        [
         13,
         "Konbu",
         1,
         4.8
        ],
        [
         23,
         "Tunnbröd",
         21,
         151.2
        ],
        [
         19,
         "Teatime Chocolate Biscuits",
         21,
         153.3
        ],
        [
         42,
         "Singaporean Hokkien Fried Mee",
         50,
         560
        ],
        [
         4,
         "Chef Anton's Cajun Seasoning",
         16,
         278.4
        ],
        [
         43,
         "Ipoh Coffee",
         3,
         110.399994
        ],
        [
         56,
         "Gnocchi di nonna Alice",
         30,
         905.99994
        ],
        [
         60,
         "Camembert Pierrot",
         20,
         544
        ],
        [
         24,
         "Guaraná Fantástica",
         25,
         90
        ],
        [
         29,
         "Thüringer Rostbratwurst",
         18,
         1780.2001
        ],
        [
         40,
         "Boston Crab Meat",
         20,
         294
        ],
        [
         45,
         "Rogede sild",
         30,
         225
        ],
        [
         50,
         "Valkoinen suklaa",
         25,
         325
        ],
        [
         11,
         "Queso Cabrales",
         10,
         168
        ],
        [
         46,
         "Spegesild",
         5,
         48
        ],
        [
         24,
         "Guaraná Fantástica",
         28,
         100.799995
        ],
        [
         25,
         "NuNuCa Nuß-Nougat-Creme",
         12,
         134.4
        ],
        [
         30,
         "Nord-Ost Matjeshering",
         8,
         165.6
        ],
        [
         43,
         "Ipoh Coffee",
         15,
         552
        ],
        [
         2,
         "Chang",
         40,
         602
        ],
        [
         16,
         "Pavlova",
         35,
         481.25
        ],
        [
         44,
         "Gula Malacca",
         2,
         30.7
        ],
        [
         18,
         "Carnarvon Tigers",
         30,
         1500
        ],
        [
         23,
         "Tunnbröd",
         15,
         108
        ],
        [
         64,
         "Wimmers gute Semmelknödel",
         8,
         212.8
        ],
        [
         7,
         "Uncle Bob's Organic Dried Pears",
         30,
         720
        ],
        [
         56,
         "Gnocchi di nonna Alice",
         20,
         608
        ],
        [
         24,
         "Guaraná Fantástica",
         80,
         284
        ],
        [
         51,
         "Manjimup Dried Apples",
         18,
         763.2
        ],
        [
         33,
         "Geitost",
         12,
         24
        ],
        [
         71,
         "Flotemysost",
         12,
         206.40001
        ],
        [
         14,
         "Tofu",
         12,
         223.20001
        ],
        [
         28,
         "Rössle Sauerkraut",
         18,
         655.2
        ],
        [
         40,
         "Boston Crab Meat",
         21,
         308.69998
        ],
        [
         75,
         "Rhönbräu Klosterbier",
         10,
         62
        ],
        [
         31,
         "Gorgonzola Telino",
         35,
         344.75
        ],
        [
         66,
         "Louisiana Hot Spiced Okra",
         60,
         807.00006
        ],
        [
         76,
         "Lakkalikööri",
         42,
         598.5
        ],
        [
         55,
         "Pâté chinois",
         2,
         38.300003
        ],
        [
         70,
         "Outback Lager",
         12,
         144
        ],
        [
         1,
         "Chai",
         15,
         216
        ],
        [
         21,
         "Sir Rodney's Scones",
         21,
         162.75
        ],
        [
         39,
         "Chartreuse verte",
         20,
         283
        ],
        [
         10,
         "Ikura",
         20,
         495
        ],
        [
         38,
         "Côte de Blaye",
         30,
         6324
        ],
        [
         53,
         "Perth Pasties",
         28,
         733.60004
        ],
        [
         59,
         "Raclette Courdavault",
         60,
         2640
        ],
        [
         64,
         "Wimmers gute Semmelknödel",
         30,
         798
        ],
        [
         47,
         "Zaanse koeken",
         30,
         228
        ],
        [
         59,
         "Raclette Courdavault",
         12,
         528
        ],
        [
         49,
         "Maxilaku",
         24,
         384
        ],
        [
         60,
         "Camembert Pierrot",
         40,
         1088
        ],
        [
         40,
         "Boston Crab Meat",
         10,
         147
        ],
        [
         34,
         "Sasquatch Ale",
         35,
         390.25
        ],
        [
         77,
         "Original Frankfurter grüne Soße",
         30,
         310.49997
        ],
        [
         21,
         "Sir Rodney's Scones",
         14,
         112
        ],
        [
         40,
         "Boston Crab Meat",
         10,
         147
        ],
        [
         51,
         "Manjimup Dried Apples",
         3,
         127.200005
        ],
        [
         2,
         "Chang",
         20,
         302
        ],
        [
         3,
         "Aniseed Syrup",
         20,
         158
        ],
        [
         55,
         "Pâté chinois",
         30,
         573
        ],
        [
         70,
         "Outback Lager",
         60,
         714
        ],
        [
         11,
         "Queso Cabrales",
         5,
         84
        ],
        [
         51,
         "Manjimup Dried Apples",
         25,
         1060
        ],
        [
         74,
         "Longlife Tofu",
         16,
         128
        ],
        [
         19,
         "Teatime Chocolate Biscuits",
         5,
         36.5
        ],
        [
         26,
         "Gumbär Gummibärchen",
         30,
         747
        ],
        [
         54,
         "Tourtière",
         24,
         135.6
        ],
        [
         59,
         "Raclette Courdavault",
         30,
         1320
        ],
        [
         73,
         "Röd Kaviar",
         20,
         236
        ],
        [
         11,
         "Queso Cabrales",
         15,
         248.24998
        ],
        [
         16,
         "Pavlova",
         18,
         250.2
        ],
        [
         59,
         "Raclette Courdavault",
         60,
         2640
        ],
        [
         68,
         "Scottish Longbreads",
         30,
         300
        ],
        [
         75,
         "Rhönbräu Klosterbier",
         36,
         223.2
        ],
        [
         44,
         "Gula Malacca",
         15,
         230.25
        ],
        [
         77,
         "Original Frankfurter grüne Soße",
         7,
         71.75
        ],
        [
         25,
         "NuNuCa Nuß-Nougat-Creme",
         60,
         669
        ],
        [
         42,
         "Singaporean Hokkien Fried Mee",
         20,
         223
        ],
        [
         65,
         "Louisiana Fiery Hot Pepper Sauce",
         15,
         250.49998
        ],
        [
         66,
         "Louisiana Hot Spiced Okra",
         10,
         135
        ],
        [
         69,
         "Gudbrandsdalsost",
         10,
         287
        ],
        [
         56,
         "Gnocchi di nonna Alice",
         30,
         912
        ],
        [
         23,
         "Tunnbröd",
         10,
         72
        ],
        [
         41,
         "Jack's New England Clam Chowder",
         20,
         154
        ],
        [
         77,
         "Original Frankfurter grüne Soße",
         5,
         52
        ],
        [
         31,
         "Gorgonzola Telino",
         20,
         199
        ],
        [
         56,
         "Gnocchi di nonna Alice",
         14,
         425.6
        ],
        [
         72,
         "Mozzarella di Giovanni",
         25,
         695
        ],
        [
         77,
         "Original Frankfurter grüne Soße",
         25,
         260
        ],
        [
         24,
         "Guaraná Fantástica",
         14,
         63
        ],
        [
         40,
         "Boston Crab Meat",
         5,
         92
        ],
        [
         42,
         "Singaporean Hokkien Fried Mee",
         30,
         420
        ],
        [
         28,
         "Rössle Sauerkraut",
         20,
         912
        ],
        [
         49,
         "Maxilaku",
         25,
         500
        ],
        [
         15,
         "Genen Shouyu",
         12,
         185.4
        ],
        [
         28,
         "Rössle Sauerkraut",
         8,
         364.4
        ],
        [
         54,
         "Tourtière",
         20,
         149
        ],
        [
         45,
         "Rogede sild",
         21,
         199.5
        ],
        [
         53,
         "Perth Pasties",
         6,
         196.79999
        ],
        [
         67,
         "Laughing Lumberjack Lager",
         30,
         420
        ],
        [
         14,
         "Tofu",
         70,
         1627.5
        ],
        [
         65,
         "Louisiana Fiery Hot Pepper Sauce",
         20,
         421
        ],
        [
         2,
         "Chang",
         12,
         228
        ],
        [
         21,
         "Sir Rodney's Scones",
         12,
         120
        ],
        [
         53,
         "Perth Pasties",
         10,
         328
        ],
        [
         61,
         "Sirop d'érable",
         25,
         712.5
        ],
        [
         62,
         "Tarte au sucre",
         3,
         147.9
        ],
        [
         25,
         "NuNuCa Nuß-Nougat-Creme",
         18,
         250.2
        ],
        [
         70,
         "Outback Lager",
         14,
         208.59999
        ],
        [
         43,
         "Ipoh Coffee",
         15,
         687.75
        ],
        [
         48,
         "Chocolade",
         15,
         189
        ],
        [
         13,
         "Konbu",
         10,
         60
        ],
        [
         39,
         "Chartreuse verte",
         10,
         180
        ],
        [
         28,
         "Rössle Sauerkraut",
         3,
         136.79999
        ],
        [
         29,
         "Thüringer Rostbratwurst",
         36,
         4456.44
        ],
        [
         75,
         "Rhönbräu Klosterbier",
         36,
         275.4
        ],
        [
         4,
         "Chef Anton's Cajun Seasoning",
         50,
         1092.5
        ],
        [
         7,
         "Uncle Bob's Organic Dried Pears",
         50,
         1492.5
        ],
        [
         8,
         "Northwoods Cranberry Sauce",
         10,
         398.5
        ],
        [
         24,
         "Guaraná Fantástica",
         10,
         43.5
        ],
        [
         46,
         "Spegesild",
         9,
         106.65
        ],
        [
         47,
         "Zaanse koeken",
         6,
         56.100002
        ],
        [
         60,
         "Camembert Pierrot",
         12,
         406.19998
        ],
        [
         21,
         "Sir Rodney's Scones",
         40,
         392
        ],
        [
         32,
         "Mascarpone Fabioli",
         50,
         1590
        ],
        [
         61,
         "Sirop d'érable",
         15,
         424.5
        ],
        [
         20,
         "Sir Rodney's Marmalade",
         39,
         3159
        ],
        [
         28,
         "Rössle Sauerkraut",
         35,
         1596
        ],
        [
         56,
         "Gnocchi di nonna Alice",
         70,
         2660
        ],
        [
         65,
         "Louisiana Fiery Hot Pepper Sauce",
         39,
         820.94995
        ],
        [
         75,
         "Rhönbräu Klosterbier",
         50,
         387.5
        ],
        [
         9,
         "Mishi Kobe Niku",
         16,
         1549.6
        ],
        [
         16,
         "Pavlova",
         50,
         872.50006
        ],
        [
         27,
         "Schoggi Schokolade",
         120,
         5268
        ],
        [
         33,
         "Geitost",
         16,
         37.6
        ],
        [
         60,
         "Camembert Pierrot",
         84,
         2843.4
        ],
        [
         18,
         "Carnarvon Tigers",
         25,
         1560
        ],
        [
         41,
         "Jack's New England Clam Chowder",
         80,
         763.99994
        ],
        [
         42,
         "Singaporean Hokkien Fried Mee",
         20,
         280
        ],
        [
         52,
         "Filo Mix",
         6,
         42
        ],
        [
         59,
         "Raclette Courdavault",
         4,
         220
        ],
        [
         70,
         "Outback Lager",
         6,
         90
        ],
        [
         24,
         "Guaraná Fantástica",
         5,
         22.5
        ],
        [
         38,
         "Côte de Blaye",
         15,
         3952.5
        ],
        [
         44,
         "Gula Malacca",
         9,
         175.05
        ],
        [
         10,
         "Ikura",
         16,
         495.2
        ],
        [
         56,
         "Gnocchi di nonna Alice",
         40,
         1520
        ],
        [
         60,
         "Camembert Pierrot",
         10,
         339.5
        ],
        [
         24,
         "Guaraná Fantástica",
         8,
         36
        ],
        [
         53,
         "Perth Pasties",
         5,
         164
        ],
        [
         35,
         "Steeleye Stout",
         3,
         54
        ],
        [
         41,
         "Jack's New England Clam Chowder",
         10,
         96.5
        ],
        [
         68,
         "Scottish Longbreads",
         6,
         75
        ],
        [
         1,
         "Chai",
         40,
         712
        ],
        [
         8,
         "Northwoods Cranberry Sauce",
         24,
         960
        ],
        [
         30,
         "Nord-Ost Matjeshering",
         20,
         513.8
        ],
        [
         40,
         "Boston Crab Meat",
         25,
         454.99997
        ],
        [
         17,
         "Alice Mutton",
         25,
         972.50006
        ],
        [
         20,
         "Sir Rodney's Marmalade",
         15,
         1213.5
        ],
        [
         37,
         "Gravad lax",
         18,
         466.19998
        ],
        [
         41,
         "Jack's New England Clam Chowder",
         6,
         57.299995
        ],
        [
         10,
         "Ikura",
         2,
         62
        ],
        [
         30,
         "Nord-Ost Matjeshering",
         10,
         258.9
        ],
        [
         43,
         "Ipoh Coffee",
         60,
         2760
        ],
        [
         54,
         "Tourtière",
         15,
         111.75
        ],
        [
         36,
         "Inlagd Sill",
         30,
         570
        ],
        [
         40,
         "Boston Crab Meat",
         15,
         274.5
        ],
        [
         1,
         "Chai",
         8,
         142.8
        ],
        [
         13,
         "Konbu",
         10,
         60
        ],
        [
         56,
         "Gnocchi di nonna Alice",
         30,
         1135.5
        ],
        [
         4,
         "Chef Anton's Cajun Seasoning",
         50,
         1095
        ],
        [
         36,
         "Inlagd Sill",
         30,
         567
        ],
        [
         11,
         "Queso Cabrales",
         3,
         63
        ],
        [
         33,
         "Geitost",
         8,
         18.4
        ],
        [
         72,
         "Mozzarella di Giovanni",
         9,
         313.19998
        ],
        [
         55,
         "Pâté chinois",
         14,
         336
        ],
        [
         68,
         "Scottish Longbreads",
         20,
         250
        ],
        [
         69,
         "Gudbrandsdalsost",
         10,
         360
        ],
        [
         17,
         "Alice Mutton",
         40,
         1560
        ],
        [
         43,
         "Ipoh Coffee",
         25,
         1150
        ],
        [
         61,
         "Sirop d'érable",
         20,
         570
        ],
        [
         76,
         "Lakkalikööri",
         50,
         900
        ],
        [
         59,
         "Raclette Courdavault",
         2,
         110
        ],
        [
         30,
         "Nord-Ost Matjeshering",
         15,
         388.34998
        ],
        [
         66,
         "Louisiana Hot Spiced Okra",
         24,
         408
        ],
        [
         4,
         "Chef Anton's Cajun Seasoning",
         50,
         1097.5
        ],
        [
         72,
         "Mozzarella di Giovanni",
         24,
         835.19995
        ],
        [
         73,
         "Röd Kaviar",
         24,
         358.8
        ],
        [
         30,
         "Nord-Ost Matjeshering",
         10,
         258.9
        ],
        [
         40,
         "Boston Crab Meat",
         10,
         181.99998
        ],
        [
         54,
         "Tourtière",
         10,
         72.5
        ],
        [
         11,
         "Queso Cabrales",
         50,
         1045
        ],
        [
         40,
         "Boston Crab Meat",
         10,
         183
        ],
        [
         57,
         "Ravioli Angelo",
         5,
         97
        ],
        [
         59,
         "Raclette Courdavault",
         15,
         823.5
        ],
        [
         12,
         "Queso Manchego La Pastora",
         15,
         566.25
        ],
        [
         31,
         "Gorgonzola Telino",
         20,
         250
        ],
        [
         33,
         "Geitost",
         30,
         75
        ],
        [
         60,
         "Camembert Pierrot",
         35,
         1181.25
        ],
        [
         31,
         "Gorgonzola Telino",
         30,
         375
        ],
        [
         51,
         "Manjimup Dried Apples",
         6,
         318
        ],
        [
         58,
         "Escargots de Bourgogne",
         20,
         265
        ],
        [
         72,
         "Mozzarella di Giovanni",
         21,
         730.8
        ],
        [
         73,
         "Röd Kaviar",
         9,
         135
        ],
        [
         70,
         "Outback Lager",
         7,
         105
        ],
        [
         72,
         "Mozzarella di Giovanni",
         1,
         34.8
        ],
        [
         13,
         "Konbu",
         8,
         48
        ],
        [
         21,
         "Sir Rodney's Scones",
         15,
         150
        ],
        [
         33,
         "Geitost",
         15,
         37.5
        ],
        [
         49,
         "Maxilaku",
         6,
         120
        ],
        [
         3,
         "Aniseed Syrup",
         60,
         600
        ],
        [
         26,
         "Gumbär Gummibärchen",
         40,
         1249.2
        ],
        [
         38,
         "Côte de Blaye",
         30,
         7905
        ],
        [
         68,
         "Scottish Longbreads",
         35,
         437.5
        ],
        [
         24,
         "Guaraná Fantástica",
         35,
         154
        ],
        [
         38,
         "Côte de Blaye",
         4,
         1053.6
        ],
        [
         65,
         "Louisiana Fiery Hot Pepper Sauce",
         36,
         754.19995
        ],
        [
         71,
         "Flotemysost",
         9,
         192.59999
        ],
        [
         11,
         "Queso Cabrales",
         15,
         314.25
        ],
        [
         54,
         "Tourtière",
         24,
         177.59999
        ],
        [
         12,
         "Queso Manchego La Pastora",
         30,
         1135.5
        ],
        [
         23,
         "Tunnbröd",
         70,
         619.5
        ],
        [
         28,
         "Rössle Sauerkraut",
         7,
         319.19998
        ],
        [
         67,
         "Laughing Lumberjack Lager",
         7,
         98
        ],
        [
         11,
         "Queso Cabrales",
         10,
         210
        ],
        [
         7,
         "Uncle Bob's Organic Dried Pears",
         10,
         300
        ],
        [
         35,
         "Steeleye Stout",
         30,
         540
        ],
        [
         62,
         "Tarte au sucre",
         40,
         1972
        ],
        [
         32,
         "Mascarpone Fabioli",
         24,
         764.4
        ],
        [
         36,
         "Inlagd Sill",
         60,
         1140
        ],
        [
         34,
         "Sasquatch Ale",
         10,
         137.5
        ],
        [
         41,
         "Jack's New England Clam Chowder",
         14,
         135.09999
        ],
        [
         31,
         "Gorgonzola Telino",
         55,
         679.25
        ],
        [
         45,
         "Rogede sild",
         100,
         935.00006
        ],
        [
         51,
         "Manjimup Dried Apples",
         48,
         2536.7998
        ],
        [
         17,
         "Alice Mutton",
         8,
         311.2
        ],
        [
         19,
         "Teatime Chocolate Biscuits",
         10,
         92
        ],
        [
         21,
         "Sir Rodney's Scones",
         6,
         59.399998
        ],
        [
         61,
         "Sirop d'érable",
         10,
         284
        ],
        [
         16,
         "Pavlova",
         40,
         692.00006
        ],
        [
         35,
         "Steeleye Stout",
         20,
         357
        ],
        [
         44,
         "Gula Malacca",
         40,
         778
        ],
        [
         69,
         "Gudbrandsdalsost",
         18,
         648
        ],
        [
         75,
         "Rhönbräu Klosterbier",
         30,
         232.5
        ],
        [
         11,
         "Queso Cabrales",
         15,
         315
        ],
        [
         16,
         "Pavlova",
         14,
         244.30002
        ],
        [
         22,
         "Gustaf's Knäckebröd",
         24,
         504
        ],
        [
         31,
         "Gorgonzola Telino",
         30,
         375
        ],
        [
         35,
         "Steeleye Stout",
         6,
         108
        ],
        [
         16,
         "Pavlova",
         30,
         522.00006
        ],
        [
         23,
         "Tunnbröd",
         20,
         179
        ],
        [
         62,
         "Tarte au sucre",
         20,
         985
        ],
        [
         77,
         "Original Frankfurter grüne Soße",
         10,
         129.5
        ],
        [
         14,
         "Tofu",
         30,
         691.5
        ],
        [
         19,
         "Teatime Chocolate Biscuits",
         35,
         315
        ],
        [
         24,
         "Guaraná Fantástica",
         18,
         77.4
        ],
        [
         51,
         "Manjimup Dried Apples",
         20,
         1056
        ],
        [
         56,
         "Gnocchi di nonna Alice",
         40,
         1512
        ],
        [
         72,
         "Mozzarella di Giovanni",
         24,
         835.19995
        ],
        [
         64,
         "Wimmers gute Semmelknödel",
         30,
         997.5
        ],
        [
         75,
         "Rhönbräu Klosterbier",
         20,
         155
        ],
        [
         47,
         "Zaanse koeken",
         25,
         237.5
        ],
        [
         51,
         "Manjimup Dried Apples",
         20,
         1060
        ],
        [
         52,
         "Filo Mix",
         30,
         210
        ],
        [
         53,
         "Perth Pasties",
         18,
         590.39996
        ],
        [
         73,
         "Röd Kaviar",
         3,
         45
        ],
        [
         41,
         "Jack's New England Clam Chowder",
         12,
         115.2
        ],
        [
         55,
         "Pâté chinois",
         18,
         431.1
        ],
        [
         30,
         "Nord-Ost Matjeshering",
         20,
         517.8
        ],
        [
         62,
         "Tarte au sucre",
         15,
         735.75
        ],
        [
         44,
         "Gula Malacca",
         10,
         194.5
        ],
        [
         51,
         "Manjimup Dried Apples",
         50,
         2650
        ],
        [
         33,
         "Geitost",
         20,
         48
        ],
        [
         62,
         "Tarte au sucre",
         10,
         492
        ],
        [
         36,
         "Inlagd Sill",
         25,
         475
        ],
        [
         52,
         "Filo Mix",
         70,
         490
        ],
        [
         17,
         "Alice Mutton",
         16,
         623.2
        ],
        [
         31,
         "Gorgonzola Telino",
         6,
         74.7
        ],
        [
         55,
         "Pâté chinois",
         25,
         598.75
        ],
        [
         24,
         "Guaraná Fantástica",
         25,
         110
        ],
        [
         64,
         "Wimmers gute Semmelknödel",
         18,
         596.7
        ],
        [
         11,
         "Queso Cabrales",
         35,
         729.75
        ],
        [
         18,
         "Carnarvon Tigers",
         18,
         1122.2999
        ],
        [
         76,
         "Lakkalikööri",
         10,
         180
        ],
        [
         31,
         "Gorgonzola Telino",
         60,
         738
        ],
        [
         51,
         "Manjimup Dried Apples",
         3,
         159
        ],
        [
         59,
         "Raclette Courdavault",
         40,
         2192
        ],
        [
         10,
         "Ikura",
         5,
         155
        ],
        [
         31,
         "Gorgonzola Telino",
         35,
         430.5
        ],
        [
         76,
         "Lakkalikööri",
         30,
         540
        ],
        [
         11,
         "Queso Cabrales",
         15,
         314.25
        ],
        [
         56,
         "Gnocchi di nonna Alice",
         60,
         2277
        ],
        [
         14,
         "Tofu",
         11,
         254.1
        ],
        [
         42,
         "Singaporean Hokkien Fried Mee",
         28,
         387.80002
        ],
        [
         16,
         "Pavlova",
         12,
         208.20001
        ],
        [
         32,
         "Mascarpone Fabioli",
         10,
         319
        ],
        [
         40,
         "Boston Crab Meat",
         50,
         920
        ],
        [
         75,
         "Rhönbräu Klosterbier",
         15,
         114.75
        ],
        [
         17,
         "Alice Mutton",
         18,
         702
        ],
        [
         34,
         "Sasquatch Ale",
         40,
         560
        ],
        [
         53,
         "Perth Pasties",
         25,
         820
        ],
        [
         33,
         "Geitost",
         14,
         35
        ],
        [
         40,
         "Boston Crab Meat",
         2,
         36.8
        ],
        [
         62,
         "Tarte au sucre",
         10,
         493
        ],
        [
         64,
         "Wimmers gute Semmelknödel",
         6,
         199.5
        ],
        [
         59,
         "Raclette Courdavault",
         12,
         660
        ],
        [
         63,
         "Vegie-spread",
         6,
         263.40002
        ],
        [
         72,
         "Mozzarella di Giovanni",
         30,
         1044
        ],
        [
         76,
         "Lakkalikööri",
         10,
         180
        ],
        [
         1,
         "Chai",
         10,
         180
        ],
        [
         31,
         "Gorgonzola Telino",
         20,
         250
        ],
        [
         44,
         "Gula Malacca",
         21,
         408.45
        ],
        [
         39,
         "Chartreuse verte",
         10,
         180
        ],
        [
         75,
         "Rhönbräu Klosterbier",
         20,
         155
        ],
        [
         77,
         "Original Frankfurter grüne Soße",
         18,
         234
        ],
        [
         35,
         "Steeleye Stout",
         20,
         360
        ],
        [
         57,
         "Ravioli Angelo",
         6,
         117
        ],
        [
         15,
         "Genen Shouyu",
         10,
         155
        ],
        [
         75,
         "Rhönbräu Klosterbier",
         21,
         162.75
        ],
        [
         14,
         "Tofu",
         15,
         348
        ],
        [
         41,
         "Jack's New England Clam Chowder",
         9,
         86.399994
        ],
        [
         65,
         "Louisiana Fiery Hot Pepper Sauce",
         30,
         630
        ],
        [
         75,
         "Rhönbräu Klosterbier",
         50,
         377.5
        ],
        [
         57,
         "Ravioli Angelo",
         4,
         78
        ],
        [
         76,
         "Lakkalikööri",
         14,
         252
        ],
        [
         29,
         "Thüringer Rostbratwurst",
         10,
         1237.9
        ],
        [
         60,
         "Camembert Pierrot",
         24,
         812.39996
        ],
        [
         69,
         "Gudbrandsdalsost",
         10,
         358.5
        ],
        [
         31,
         "Gorgonzola Telino",
         50,
         622.5
        ],
        [
         47,
         "Zaanse koeken",
         15,
         142.5
        ],
        [
         52,
         "Filo Mix",
         4,
         27.4
        ],
        [
         26,
         "Gumbär Gummibärchen",
         6,
         187.38
        ],
        [
         35,
         "Steeleye Stout",
         20,
         360
        ],
        [
         77,
         "Original Frankfurter grüne Soße",
         20,
         260
        ],
        [
         18,
         "Carnarvon Tigers",
         40,
         2492
        ],
        [
         42,
         "Singaporean Hokkien Fried Mee",
         100,
         1380
        ],
        [
         35,
         "Steeleye Stout",
         4,
         72
        ],
        [
         1,
         "Chai",
         20,
         360
        ],
        [
         77,
         "Original Frankfurter grüne Soße",
         60,
         777
        ],
        [
         3,
         "Aniseed Syrup",
         14,
         140
        ],
        [
         7,
         "Uncle Bob's Organic Dried Pears",
         10,
         300
        ],
        [
         54,
         "Tourtière",
         50,
         372.5
        ],
        [
         15,
         "Genen Shouyu",
         25,
         386.25
        ],
        [
         26,
         "Gumbär Gummibärchen",
         5,
         155.9
        ],
        [
         20,
         "Sir Rodney's Marmalade",
         21,
         1696.8
        ],
        [
         69,
         "Gudbrandsdalsost",
         20,
         716
        ],
        [
         76,
         "Lakkalikööri",
         4,
         71.2
        ],
        [
         52,
         "Filo Mix",
         24,
         168
        ],
        [
         58,
         "Escargots de Bourgogne",
         30,
         397.5
        ],
        [
         35,
         "Steeleye Stout",
         30,
         532.5
        ],
        [
         61,
         "Sirop d'érable",
         120,
         3390
        ],
        [
         69,
         "Gudbrandsdalsost",
         65,
         2323.75
        ],
        [
         56,
         "Gnocchi di nonna Alice",
         5,
         189
        ],
        [
         63,
         "Vegie-spread",
         24,
         1048.8
        ],
        [
         75,
         "Rhönbräu Klosterbier",
         30,
         226.5
        ],
        [
         24,
         "Guaraná Fantástica",
         35,
         150.5
        ],
        [
         57,
         "Ravioli Angelo",
         20,
         390
        ],
        [
         65,
         "Louisiana Fiery Hot Pepper Sauce",
         12,
         250.19998
        ],
        [
         27,
         "Schoggi Schokolade",
         50,
         2195
        ],
        [
         71,
         "Flotemysost",
         9,
         193.5
        ],
        [
         62,
         "Tarte au sucre",
         10,
         493
        ],
        [
         54,
         "Tourtière",
         4,
         29.8
        ],
        [
         73,
         "Röd Kaviar",
         30,
         450
        ],
        [
         13,
         "Konbu",
         60,
         360
        ],
        [
         59,
         "Raclette Courdavault",
         35,
         1925
        ],
        [
         77,
         "Original Frankfurter grüne Soße",
         5,
         63.75
        ],
        [
         22,
         "Gustaf's Knäckebröd",
         48,
         1008
        ],
        [
         49,
         "Maxilaku",
         25,
         498.75003
        ],
        [
         48,
         "Chocolade",
         6,
         75.899994
        ],
        [
         76,
         "Lakkalikööri",
         10,
         179
        ],
        [
         16,
         "Pavlova",
         30,
         522.00006
        ],
        [
         59,
         "Raclette Courdavault",
         20,
         1099
        ],
        [
         60,
         "Camembert Pierrot",
         70,
         2376.5
        ],
        [
         71,
         "Flotemysost",
         15,
         321.75
        ],
        [
         4,
         "Chef Anton's Cajun Seasoning",
         20,
         436
        ],
        [
         55,
         "Pâté chinois",
         20,
         476
        ],
        [
         62,
         "Tarte au sucre",
         10,
         491
        ],
        [
         7,
         "Uncle Bob's Organic Dried Pears",
         45,
         1350
        ],
        [
         17,
         "Alice Mutton",
         100,
         3900
        ],
        [
         33,
         "Geitost",
         14,
         35
        ],
        [
         40,
         "Boston Crab Meat",
         42,
         772.8
        ],
        [
         72,
         "Mozzarella di Giovanni",
         12,
         417.59998
        ],
        [
         56,
         "Gnocchi di nonna Alice",
         28,
         1064
        ],
        [
         1,
         "Chai",
         3,
         54
        ],
        [
         10,
         "Ikura",
         10,
         310
        ],
        [
         21,
         "Sir Rodney's Scones",
         6,
         60
        ],
        [
         36,
         "Inlagd Sill",
         21,
         393.75
        ],
        [
         1,
         "Chai",
         6,
         108
        ],
        [
         2,
         "Chang",
         10,
         190
        ],
        [
         60,
         "Camembert Pierrot",
         15,
         510
        ],
        [
         10,
         "Ikura",
         70,
         2170
        ],
        [
         36,
         "Inlagd Sill",
         55,
         1045
        ],
        [
         49,
         "Maxilaku",
         18,
         360
        ],
        [
         60,
         "Camembert Pierrot",
         40,
         1360
        ],
        [
         76,
         "Lakkalikööri",
         80,
         1440
        ],
        [
         13,
         "Konbu",
         8,
         47.2
        ],
        [
         75,
         "Rhönbräu Klosterbier",
         40,
         310
        ],
        [
         11,
         "Queso Cabrales",
         14,
         294
        ],
        [
         21,
         "Sir Rodney's Scones",
         8,
         80
        ],
        [
         39,
         "Chartreuse verte",
         5,
         90
        ],
        [
         55,
         "Pâté chinois",
         5,
         120
        ],
        [
         38,
         "Côte de Blaye",
         15,
         3951.7502
        ],
        [
         56,
         "Gnocchi di nonna Alice",
         14,
         532
        ],
        [
         70,
         "Outback Lager",
         15,
         224.25
        ],
        [
         71,
         "Flotemysost",
         15,
         321.75
        ],
        [
         59,
         "Raclette Courdavault",
         30,
         1645.5
        ],
        [
         6,
         "Grandma's Boysenberry Spread",
         70,
         1750
        ],
        [
         56,
         "Gnocchi di nonna Alice",
         20,
         760
        ],
        [
         68,
         "Scottish Longbreads",
         15,
         187.5
        ],
        [
         21,
         "Sir Rodney's Scones",
         42,
         420
        ],
        [
         22,
         "Gustaf's Knäckebröd",
         40,
         840
        ],
        [
         24,
         "Guaraná Fantástica",
         5,
         22.5
        ],
        [
         52,
         "Filo Mix",
         5,
         35
        ],
        [
         19,
         "Teatime Chocolate Biscuits",
         5,
         46
        ],
        [
         23,
         "Tunnbröd",
         10,
         90
        ],
        [
         70,
         "Outback Lager",
         20,
         300
        ],
        [
         71,
         "Flotemysost",
         15,
         322.5
        ],
        [
         2,
         "Chang",
         20,
         380
        ],
        [
         68,
         "Scottish Longbreads",
         18,
         221.40001
        ],
        [
         14,
         "Tofu",
         21,
         488.25
        ],
        [
         19,
         "Teatime Chocolate Biscuits",
         15,
         136.49998
        ],
        [
         21,
         "Sir Rodney's Scones",
         25,
         247.49998
        ],
        [
         24,
         "Guaraná Fantástica",
         3,
         13.5
        ],
        [
         35,
         "Steeleye Stout",
         30,
         537
        ],
        [
         28,
         "Rössle Sauerkraut",
         10,
         456
        ],
        [
         29,
         "Thüringer Rostbratwurst",
         6,
         742.74
        ],
        [
         44,
         "Gula Malacca",
         10,
         194.5
        ],
        [
         14,
         "Tofu",
         3,
         69.75
        ],
        [
         42,
         "Singaporean Hokkien Fried Mee",
         5,
         70
        ],
        [
         60,
         "Camembert Pierrot",
         10,
         340
        ]
       ],
       "datasetInfos": [],
       "dbfsResultPath": null,
       "isJsonSchema": true,
       "metadata": {},
       "overflow": true,
       "plotOptions": {
        "customPlotOptions": {},
        "displayType": "table",
        "pivotAggregation": null,
        "pivotColumns": null,
        "xColumns": null,
        "yColumns": null
       },
       "removedWidgets": [],
       "schema": [
        {
         "metadata": "{\"scale\":0}",
         "name": "product_id",
         "type": "\"short\""
        },
        {
         "metadata": "{\"scale\":0}",
         "name": "product_name",
         "type": "\"string\""
        },
        {
         "metadata": "{\"scale\":0}",
         "name": "quantity",
         "type": "\"short\""
        },
        {
         "metadata": "{}",
         "name": "price_with_discount",
         "type": "\"float\""
        }
       ],
       "type": "table"
      }
     },
     "output_type": "display_data"
    }
   ],
   "source": [
    "sqlContext.sql(\"SELECT sql_order_details.product_id, sql_products.product_name, sql_order_details.quantity, ((sql_order_details.unit_price - sql_order_details.discount) * sql_order_details.quantity) as price_with_discount \\\n",
    "FROM sql_order_details left join sql_products \\\n",
    "on sql_order_details.product_id = sql_products.product_id\").display()"
   ]
  },
  {
   "cell_type": "code",
   "execution_count": null,
   "metadata": {
    "application/vnd.databricks.v1+cell": {
     "cellMetadata": {},
     "inputWidgets": {},
     "nuid": "3305cefe-2741-49b1-8895-d3beafcfb67a",
     "showTitle": true,
     "title": "Pregunta 3"
    }
   },
   "outputs": [
    {
     "data": {
      "text/html": [
       "<style scoped>\n",
       "  .table-result-container {\n",
       "    max-height: 300px;\n",
       "    overflow: auto;\n",
       "  }\n",
       "  table, th, td {\n",
       "    border: 1px solid black;\n",
       "    border-collapse: collapse;\n",
       "  }\n",
       "  th, td {\n",
       "    padding: 5px;\n",
       "  }\n",
       "  th {\n",
       "    text-align: left;\n",
       "  }\n",
       "</style><div class='table-result-container'><table class='table-result'><thead style='background-color: white'><tr><th>region_description</th><th>territory_description</th><th>order_number</th><th>total_price</th><th>total_price_with_discount</th></tr></thead><tbody><tr><td>Eastern</td><td>Rockville</td><td>420</td><td>250187.44976711273</td><td>249480.80037021637</td></tr><tr><td>Eastern</td><td>Greensboro</td><td>420</td><td>250187.44976711273</td><td>249480.80037021637</td></tr><tr><td>Eastern</td><td>Cary</td><td>420</td><td>250187.44976711273</td><td>249480.80037021637</td></tr><tr><td>Southern</td><td>Atlanta</td><td>321</td><td>213051.2998905182</td><td>212636.3496351242</td></tr><tr><td>Southern</td><td>Savannah</td><td>321</td><td>213051.2998905182</td><td>212636.3496351242</td></tr><tr><td>Southern</td><td>Orlando</td><td>321</td><td>213051.2998905182</td><td>212636.3496351242</td></tr><tr><td>Southern</td><td>Tampa</td><td>321</td><td>213051.2998905182</td><td>212636.3496351242</td></tr><tr><td>Eastern</td><td>Neward</td><td>345</td><td>202143.70993995667</td><td>201667.70015716553</td></tr><tr><td>Eastern</td><td>Wilton</td><td>345</td><td>202143.70993995667</td><td>201667.70015716553</td></tr><tr><td>Eastern</td><td>Georgetow</td><td>241</td><td>177749.25994968414</td><td>177378.66076374054</td></tr><tr><td>Eastern</td><td>Westboro</td><td>241</td><td>177749.25994968414</td><td>177378.66076374054</td></tr><tr><td>Eastern</td><td>Boston</td><td>241</td><td>177749.25994968414</td><td>177378.66076374054</td></tr><tr><td>Eastern</td><td>Louisville</td><td>241</td><td>177749.25994968414</td><td>177378.66076374054</td></tr><tr><td>Eastern</td><td>Braintree</td><td>241</td><td>177749.25994968414</td><td>177378.66076374054</td></tr><tr><td>Eastern</td><td>Bedford</td><td>241</td><td>177749.25994968414</td><td>177378.66076374054</td></tr><tr><td>Eastern</td><td>Cambridge</td><td>241</td><td>177749.25994968414</td><td>177378.66076374054</td></tr><tr><td>Eastern</td><td>New York</td><td>234</td><td>151135.4999847412</td><td>150689.3999710083</td></tr><tr><td>Western</td><td>Campbell</td><td>176</td><td>141295.99004554749</td><td>140884.49025535583</td></tr><tr><td>Western</td><td>Hoffman Estates</td><td>176</td><td>141295.99004554749</td><td>140884.49025535583</td></tr><tr><td>Western</td><td>Menlo Park</td><td>176</td><td>141295.99004554749</td><td>140884.49025535583</td></tr><tr><td>Western</td><td>Denver</td><td>176</td><td>141295.99004554749</td><td>140884.49025535583</td></tr><tr><td>Western</td><td>San Francisco</td><td>176</td><td>141295.99004554749</td><td>140884.49025535583</td></tr><tr><td>Western</td><td>Santa Clara</td><td>176</td><td>141295.99004554749</td><td>140884.49025535583</td></tr><tr><td>Western</td><td>Colorado Springs</td><td>176</td><td>141295.99004554749</td><td>140884.49025535583</td></tr><tr><td>Western</td><td>Santa Monica</td><td>176</td><td>141295.99004554749</td><td>140884.49025535583</td></tr><tr><td>Western</td><td>Chicago</td><td>176</td><td>141295.99004554749</td><td>140884.49025535583</td></tr><tr><td>Western</td><td>Santa Cruz</td><td>176</td><td>141295.99004554749</td><td>140884.49025535583</td></tr><tr><td>Northern</td><td>Beachwood</td><td>260</td><td>133301.02990722656</td><td>133003.62974739075</td></tr><tr><td>Northern</td><td>Racine</td><td>260</td><td>133301.02990722656</td><td>133003.62974739075</td></tr><tr><td>Northern</td><td>Findlay</td><td>260</td><td>133301.02990722656</td><td>133003.62974739075</td></tr><tr><td>Northern</td><td>Philadelphia</td><td>260</td><td>133301.02990722656</td><td>133003.62974739075</td></tr><tr><td>Northern</td><td>Bloomfield Hills</td><td>107</td><td>82963.99995422363</td><td>82740.14944648743</td></tr><tr><td>Northern</td><td>Southfield</td><td>107</td><td>82963.99995422363</td><td>82740.14944648743</td></tr><tr><td>Northern</td><td>Minneapolis</td><td>107</td><td>82963.99995422363</td><td>82740.14944648743</td></tr><tr><td>Northern</td><td>Roseville</td><td>107</td><td>82963.99995422363</td><td>82740.14944648743</td></tr><tr><td>Northern</td><td>Troy</td><td>107</td><td>82963.99995422363</td><td>82740.14944648743</td></tr><tr><td>Northern</td><td>Portsmouth</td><td>107</td><td>82963.99995422363</td><td>82740.14944648743</td></tr><tr><td>Northern</td><td>Hollis</td><td>107</td><td>82963.99995422363</td><td>82740.14944648743</td></tr><tr><td>Western</td><td>Scottsdale</td><td>168</td><td>78198.09978866577</td><td>78000.14960098267</td></tr><tr><td>Western</td><td>Bellevue</td><td>168</td><td>78198.09978866577</td><td>78000.14960098267</td></tr><tr><td>Western</td><td>Redmond</td><td>168</td><td>78198.09978866577</td><td>78000.14960098267</td></tr><tr><td>Western</td><td>Seattle</td><td>168</td><td>78198.09978866577</td><td>78000.14960098267</td></tr><tr><td>Western</td><td>Phoenix</td><td>168</td><td>78198.09978866577</td><td>78000.14960098267</td></tr><tr><td>Eastern</td><td>Mellvile</td><td>117</td><td>75567.7499923706</td><td>75344.69998550415</td></tr><tr><td>Eastern</td><td>Morristown</td><td>117</td><td>75567.7499923706</td><td>75344.69998550415</td></tr><tr><td>Eastern</td><td>Edison</td><td>117</td><td>75567.7499923706</td><td>75344.69998550415</td></tr><tr><td>Eastern</td><td>Providence</td><td>117</td><td>75567.7499923706</td><td>75344.69998550415</td></tr><tr><td>Eastern</td><td>Fairport</td><td>117</td><td>75567.7499923706</td><td>75344.69998550415</td></tr></tbody></table></div>"
      ]
     },
     "metadata": {
      "application/vnd.databricks.v1+output": {
       "addedWidgets": {},
       "aggData": [],
       "aggError": "",
       "aggOverflow": false,
       "aggSchema": [],
       "aggSeriesLimitReached": false,
       "aggType": "",
       "arguments": {},
       "columnCustomDisplayInfos": {},
       "data": [
        [
         "Eastern",
         "Rockville",
         420,
         250187.44976711273,
         249480.80037021637
        ],
        [
         "Eastern",
         "Greensboro",
         420,
         250187.44976711273,
         249480.80037021637
        ],
        [
         "Eastern",
         "Cary",
         420,
         250187.44976711273,
         249480.80037021637
        ],
        [
         "Southern",
         "Atlanta",
         321,
         213051.2998905182,
         212636.3496351242
        ],
        [
         "Southern",
         "Savannah",
         321,
         213051.2998905182,
         212636.3496351242
        ],
        [
         "Southern",
         "Orlando",
         321,
         213051.2998905182,
         212636.3496351242
        ],
        [
         "Southern",
         "Tampa",
         321,
         213051.2998905182,
         212636.3496351242
        ],
        [
         "Eastern",
         "Neward",
         345,
         202143.70993995667,
         201667.70015716553
        ],
        [
         "Eastern",
         "Wilton",
         345,
         202143.70993995667,
         201667.70015716553
        ],
        [
         "Eastern",
         "Georgetow",
         241,
         177749.25994968414,
         177378.66076374054
        ],
        [
         "Eastern",
         "Westboro",
         241,
         177749.25994968414,
         177378.66076374054
        ],
        [
         "Eastern",
         "Boston",
         241,
         177749.25994968414,
         177378.66076374054
        ],
        [
         "Eastern",
         "Louisville",
         241,
         177749.25994968414,
         177378.66076374054
        ],
        [
         "Eastern",
         "Braintree",
         241,
         177749.25994968414,
         177378.66076374054
        ],
        [
         "Eastern",
         "Bedford",
         241,
         177749.25994968414,
         177378.66076374054
        ],
        [
         "Eastern",
         "Cambridge",
         241,
         177749.25994968414,
         177378.66076374054
        ],
        [
         "Eastern",
         "New York",
         234,
         151135.4999847412,
         150689.3999710083
        ],
        [
         "Western",
         "Campbell",
         176,
         141295.99004554749,
         140884.49025535583
        ],
        [
         "Western",
         "Hoffman Estates",
         176,
         141295.99004554749,
         140884.49025535583
        ],
        [
         "Western",
         "Menlo Park",
         176,
         141295.99004554749,
         140884.49025535583
        ],
        [
         "Western",
         "Denver",
         176,
         141295.99004554749,
         140884.49025535583
        ],
        [
         "Western",
         "San Francisco",
         176,
         141295.99004554749,
         140884.49025535583
        ],
        [
         "Western",
         "Santa Clara",
         176,
         141295.99004554749,
         140884.49025535583
        ],
        [
         "Western",
         "Colorado Springs",
         176,
         141295.99004554749,
         140884.49025535583
        ],
        [
         "Western",
         "Santa Monica",
         176,
         141295.99004554749,
         140884.49025535583
        ],
        [
         "Western",
         "Chicago",
         176,
         141295.99004554749,
         140884.49025535583
        ],
        [
         "Western",
         "Santa Cruz",
         176,
         141295.99004554749,
         140884.49025535583
        ],
        [
         "Northern",
         "Beachwood",
         260,
         133301.02990722656,
         133003.62974739075
        ],
        [
         "Northern",
         "Racine",
         260,
         133301.02990722656,
         133003.62974739075
        ],
        [
         "Northern",
         "Findlay",
         260,
         133301.02990722656,
         133003.62974739075
        ],
        [
         "Northern",
         "Philadelphia",
         260,
         133301.02990722656,
         133003.62974739075
        ],
        [
         "Northern",
         "Bloomfield Hills",
         107,
         82963.99995422363,
         82740.14944648743
        ],
        [
         "Northern",
         "Southfield",
         107,
         82963.99995422363,
         82740.14944648743
        ],
        [
         "Northern",
         "Minneapolis",
         107,
         82963.99995422363,
         82740.14944648743
        ],
        [
         "Northern",
         "Roseville",
         107,
         82963.99995422363,
         82740.14944648743
        ],
        [
         "Northern",
         "Troy",
         107,
         82963.99995422363,
         82740.14944648743
        ],
        [
         "Northern",
         "Portsmouth",
         107,
         82963.99995422363,
         82740.14944648743
        ],
        [
         "Northern",
         "Hollis",
         107,
         82963.99995422363,
         82740.14944648743
        ],
        [
         "Western",
         "Scottsdale",
         168,
         78198.09978866577,
         78000.14960098267
        ],
        [
         "Western",
         "Bellevue",
         168,
         78198.09978866577,
         78000.14960098267
        ],
        [
         "Western",
         "Redmond",
         168,
         78198.09978866577,
         78000.14960098267
        ],
        [
         "Western",
         "Seattle",
         168,
         78198.09978866577,
         78000.14960098267
        ],
        [
         "Western",
         "Phoenix",
         168,
         78198.09978866577,
         78000.14960098267
        ],
        [
         "Eastern",
         "Mellvile",
         117,
         75567.7499923706,
         75344.69998550415
        ],
        [
         "Eastern",
         "Morristown",
         117,
         75567.7499923706,
         75344.69998550415
        ],
        [
         "Eastern",
         "Edison",
         117,
         75567.7499923706,
         75344.69998550415
        ],
        [
         "Eastern",
         "Providence",
         117,
         75567.7499923706,
         75344.69998550415
        ],
        [
         "Eastern",
         "Fairport",
         117,
         75567.7499923706,
         75344.69998550415
        ]
       ],
       "datasetInfos": [],
       "dbfsResultPath": null,
       "isJsonSchema": true,
       "metadata": {},
       "overflow": false,
       "plotOptions": {
        "customPlotOptions": {},
        "displayType": "table",
        "pivotAggregation": null,
        "pivotColumns": null,
        "xColumns": null,
        "yColumns": null
       },
       "removedWidgets": [],
       "schema": [
        {
         "metadata": "{\"scale\":0}",
         "name": "region_description",
         "type": "\"string\""
        },
        {
         "metadata": "{\"scale\":0}",
         "name": "territory_description",
         "type": "\"string\""
        },
        {
         "metadata": "{}",
         "name": "order_number",
         "type": "\"long\""
        },
        {
         "metadata": "{}",
         "name": "total_price",
         "type": "\"double\""
        },
        {
         "metadata": "{}",
         "name": "total_price_with_discount",
         "type": "\"double\""
        }
       ],
       "type": "table"
      }
     },
     "output_type": "display_data"
    }
   ],
   "source": [
    "df_3 = sqlContext.sql(\"SELECT sql_region.region_description, \\\n",
    "sql_territories.territory_description, \\\n",
    "count(sql_orders.order_id) as order_number, \\\n",
    "sum((sql_order_details.quantity*sql_order_details.unit_price)) as total_price, \\\n",
    "sum(((sql_order_details.unit_price - sql_order_details.discount) * sql_order_details.quantity)) as total_price_with_discount \\\n",
    "FROM sql_employees \\\n",
    "inner join sql_employee_territories on sql_employees.employee_id = sql_employee_territories.employee_id \\\n",
    "inner join sql_territories on sql_employee_territories.territory_id = sql_territories.territory_id \\\n",
    "inner join sql_region on sql_territories.region_id = sql_region.region_id \\\n",
    "inner join sql_orders on sql_employees.employee_id = sql_orders.employee_id \\\n",
    "inner join sql_order_details on sql_orders.order_id = sql_order_details.order_id \\\n",
    "group by sql_territories.territory_description, sql_region.region_description \\\n",
    "order by total_price desc\")\n",
    "\n",
    "df_3.display()"
   ]
  },
  {
   "cell_type": "code",
   "execution_count": null,
   "metadata": {
    "application/vnd.databricks.v1+cell": {
     "cellMetadata": {},
     "inputWidgets": {},
     "nuid": "01782276-dafb-487e-b955-d7f1fa95143f",
     "showTitle": true,
     "title": "Pregunta 4"
    }
   },
   "outputs": [
    {
     "data": {
      "text/html": [
       "<style scoped>\n",
       "  .table-result-container {\n",
       "    max-height: 300px;\n",
       "    overflow: auto;\n",
       "  }\n",
       "  table, th, td {\n",
       "    border: 1px solid black;\n",
       "    border-collapse: collapse;\n",
       "  }\n",
       "  th, td {\n",
       "    padding: 5px;\n",
       "  }\n",
       "  th {\n",
       "    text-align: left;\n",
       "  }\n",
       "</style><div class='table-result-container'><table class='table-result'><thead style='background-color: white'><tr><th>customer_id</th><th>total_quantity</th><th>total_price</th></tr></thead><tbody><tr><td>QUICK</td><td>86</td><td>117483.38994598389</td></tr><tr><td>SAVEA</td><td>116</td><td>115673.38977050781</td></tr><tr><td>ERNSH</td><td>102</td><td>113236.67984008789</td></tr><tr><td>HUNGO</td><td>55</td><td>57317.390268325806</td></tr><tr><td>RATTC</td><td>71</td><td>52245.90013694763</td></tr></tbody></table></div>"
      ]
     },
     "metadata": {
      "application/vnd.databricks.v1+output": {
       "addedWidgets": {},
       "aggData": [],
       "aggError": "",
       "aggOverflow": false,
       "aggSchema": [],
       "aggSeriesLimitReached": false,
       "aggType": "",
       "arguments": {},
       "columnCustomDisplayInfos": {},
       "data": [
        [
         "QUICK",
         86,
         117483.38994598389
        ],
        [
         "SAVEA",
         116,
         115673.38977050781
        ],
        [
         "ERNSH",
         102,
         113236.67984008789
        ],
        [
         "HUNGO",
         55,
         57317.390268325806
        ],
        [
         "RATTC",
         71,
         52245.90013694763
        ]
       ],
       "datasetInfos": [],
       "dbfsResultPath": null,
       "isJsonSchema": true,
       "metadata": {},
       "overflow": false,
       "plotOptions": {
        "customPlotOptions": {},
        "displayType": "table",
        "pivotAggregation": null,
        "pivotColumns": null,
        "xColumns": null,
        "yColumns": null
       },
       "removedWidgets": [],
       "schema": [
        {
         "metadata": "{\"scale\":0}",
         "name": "customer_id",
         "type": "\"string\""
        },
        {
         "metadata": "{}",
         "name": "total_quantity",
         "type": "\"long\""
        },
        {
         "metadata": "{}",
         "name": "total_price",
         "type": "\"double\""
        }
       ],
       "type": "table"
      }
     },
     "output_type": "display_data"
    }
   ],
   "source": [
    "df_4 = sqlContext.sql(\"select sql_customers.customer_id, count(sql_order_details.quantity) as total_quantity, \\\n",
    "sum(sql_order_details.unit_price*sql_order_details.quantity) as total_price \\\n",
    "from sql_customers \\\n",
    "inner join sql_orders on sql_customers.customer_id = sql_orders.customer_id  \\\n",
    "inner join sql_order_details on sql_orders.order_id = sql_order_details.order_id \\\n",
    "group by sql_customers.customer_id \\\n",
    "order by total_price desc \\\n",
    "limit 5\")\n",
    "\n",
    "df_4.display()"
   ]
  },
  {
   "cell_type": "code",
   "execution_count": null,
   "metadata": {
    "application/vnd.databricks.v1+cell": {
     "cellMetadata": {},
     "inputWidgets": {},
     "nuid": "0a9406d4-23fa-406c-88fe-db943ea2cb12",
     "showTitle": true,
     "title": "Pregunta 5"
    }
   },
   "outputs": [],
   "source": [
    "df_3.write.mode('overwrite').format('parquet').save('wasbs://s7g2-grupo1@mystorageaccount.blob.core.windows.net/df_3.parquet')\n",
    "df_4.write.mode('overwrite').format('parquet').save('wasbs://s7g2-grupo1@mystorageaccount.blob.core.windows.net/df_4.parquet')"
   ]
  }
 ],
 "metadata": {
  "application/vnd.databricks.v1+notebook": {
   "dashboards": [],
   "environmentMetadata": null,
   "language": "python",
   "notebookMetadata": {
    "pythonIndentUnit": 4
   },
   "notebookName": "Tarea_Grupo1",
   "widgets": {}
  },
  "language_info": {
   "name": "python"
  }
 },
 "nbformat": 4,
 "nbformat_minor": 0
}
